{
 "cells": [
  {
   "cell_type": "markdown",
   "metadata": {},
   "source": [
    "# Building Models with PyTorch\n",
    "\n",
    "This notebook is referenced from the fourth video in the [PyTorch Beginner Series](https://www.youtube.com/playlist?list=PL_lsbAsL_o2CTlGHgMxNrKhzP97BaG9ZN) by Brad Heintz on YouTube. The video focuses on the basic concepts in PyTorch that are used to handle several deep learning tasks and demonstrates how these concepts come together to make PyTorch a robust machine learning framework. You can find the notebook associated with the video [here](https://pytorch.org/tutorials/beginner/introyt/modelsyt_tutorial.html).\n"
   ]
  },
  {
   "cell_type": "code",
   "execution_count": 1,
   "metadata": {},
   "outputs": [],
   "source": [
    "# Import libraries here\n",
    "import json\n",
    "\n",
    "import numpy as np\n",
    "import torch\n",
    "import torch.nn.functional as F\n",
    "import torch.optim as optim\n",
    "from torch import Tensor"
   ]
  },
  {
   "cell_type": "markdown",
   "metadata": {},
   "source": [
    "## Build a Simple Model\n",
    "\n",
    "This model is similar to the one built in notebook-03.\n"
   ]
  },
  {
   "cell_type": "code",
   "execution_count": 2,
   "metadata": {},
   "outputs": [],
   "source": [
    "class TinyModel(torch.nn.Module):\n",
    "    \"\"\"A simple model created to set a baseline.\"\"\"\n",
    "\n",
    "    def __init__(self, *args, **kwargs) -> None:\n",
    "        super(TinyModel, self).__init__(*args, **kwargs)\n",
    "\n",
    "        # Setup layers and activations\n",
    "        self.linear1 = torch.nn.Linear(100, 200)\n",
    "        self.activation = torch.nn.ReLU()\n",
    "        self.linear2 = torch.nn.Linear(200, 10)\n",
    "        self.softmax = torch.nn.Softmax()           # converts output to probabilities\n",
    "\n",
    "    def forward(self, x: Tensor) -> Tensor:\n",
    "        x = self.linear1(x)\n",
    "        x = self.activation(x)\n",
    "        x = self.linear2(x)\n",
    "        x = self.softmax(x)\n",
    "\n",
    "        return x"
   ]
  },
  {
   "cell_type": "code",
   "execution_count": 3,
   "metadata": {},
   "outputs": [
    {
     "name": "stdout",
     "output_type": "stream",
     "text": [
      "The Model Architecture:\n",
      "TinyModel(\n",
      "  (linear1): Linear(in_features=100, out_features=200, bias=True)\n",
      "  (activation): ReLU()\n",
      "  (linear2): Linear(in_features=200, out_features=10, bias=True)\n",
      "  (softmax): Softmax(dim=None)\n",
      ")\n",
      "\n",
      "Layer `linear1`:\n",
      "Linear(in_features=100, out_features=200, bias=True)\n",
      "\n",
      "Layer `linear2`:\n",
      "Linear(in_features=200, out_features=10, bias=True)\n"
     ]
    }
   ],
   "source": [
    "# Initialize the model\n",
    "tiny_model = TinyModel()\n",
    "print(f'The Model Architecture:\\n{tiny_model}\\n')\n",
    "print(f'Layer `linear1`:\\n{tiny_model.linear1}\\n')\n",
    "print(f'Layer `linear2`:\\n{tiny_model.linear2}')"
   ]
  },
  {
   "cell_type": "code",
   "execution_count": 4,
   "metadata": {},
   "outputs": [
    {
     "name": "stdout",
     "output_type": "stream",
     "text": [
      "~~~ Model Parameters ~~~\n",
      "Parameter containing:\n",
      "tensor([[ 0.0199, -0.0721,  0.0316,  ...,  0.0192,  0.0481,  0.0479],\n",
      "        [-0.0771, -0.0703, -0.0581,  ...,  0.0541,  0.0908,  0.0470],\n",
      "        [-0.0702,  0.0462, -0.0615,  ..., -0.0120, -0.0990, -0.0049],\n",
      "        ...,\n",
      "        [-0.0419,  0.0931,  0.0668,  ..., -0.0533,  0.0382, -0.0867],\n",
      "        [-0.0503,  0.0554, -0.0016,  ..., -0.0068, -0.0857, -0.0038],\n",
      "        [-0.0764, -0.0629, -0.0004,  ..., -0.0942,  0.0946,  0.0412]],\n",
      "       requires_grad=True)\n",
      "Parameter containing:\n",
      "tensor([ 7.6186e-02,  2.9672e-02, -1.3766e-02, -2.8277e-02,  6.7598e-02,\n",
      "         1.3689e-02,  8.9441e-02,  3.6718e-02, -1.4012e-02,  6.9685e-02,\n",
      "        -4.6954e-02,  3.7890e-02, -3.9177e-04,  2.4744e-02,  6.2289e-02,\n",
      "         4.0623e-02, -3.4009e-02, -7.2788e-02,  3.2886e-03, -4.9632e-02,\n",
      "        -5.5791e-02,  8.2604e-03, -6.0171e-02,  2.5598e-02,  2.9111e-05,\n",
      "         5.9428e-02,  4.5630e-02,  4.5402e-02, -8.8536e-02,  5.0274e-03,\n",
      "        -6.6970e-02, -3.9213e-02, -3.8172e-02,  3.7684e-02, -9.7794e-02,\n",
      "        -2.1675e-03,  1.5212e-02,  6.0178e-02, -6.8816e-02, -7.5173e-02,\n",
      "         2.2089e-02, -5.7280e-02, -6.4887e-02, -2.8548e-02,  5.6402e-03,\n",
      "        -3.5106e-02, -8.3931e-02, -7.3455e-02, -9.2015e-02,  2.4487e-03,\n",
      "         9.3667e-03,  1.1515e-02,  4.0295e-02, -7.0261e-02, -7.3846e-02,\n",
      "         6.3704e-02,  8.6975e-02, -5.3491e-02,  5.2990e-02, -6.6166e-02,\n",
      "         5.3727e-02, -1.1806e-03, -7.0002e-02,  6.0900e-02, -5.5075e-03,\n",
      "         2.8856e-02, -4.8791e-02, -2.0787e-02,  1.1004e-02,  7.6176e-02,\n",
      "        -9.8976e-02, -9.7182e-02,  2.9696e-02, -8.0270e-02, -8.1742e-02,\n",
      "         7.8692e-02,  3.0689e-02,  5.9102e-03, -1.5603e-02, -7.1269e-02,\n",
      "         5.1092e-02,  7.7988e-02, -8.7631e-02,  4.5468e-02, -5.5042e-02,\n",
      "        -5.8136e-02,  9.4499e-02,  4.6069e-02, -6.3412e-02, -4.5011e-02,\n",
      "         6.3901e-02, -2.7069e-02,  8.9539e-02,  7.2199e-02,  2.2835e-04,\n",
      "         2.7320e-02, -1.0726e-02, -2.3548e-02, -9.7502e-02, -9.1885e-02,\n",
      "         6.9675e-02,  4.7368e-02,  6.1319e-02, -6.5160e-02,  4.9843e-02,\n",
      "         2.2295e-02, -7.9013e-02, -1.0585e-02,  4.9125e-02, -6.7905e-02,\n",
      "         5.3978e-03,  3.9538e-02, -8.2654e-02,  6.4770e-03,  7.4195e-02,\n",
      "        -3.6836e-02, -7.0943e-02,  4.1919e-03, -7.1575e-02, -5.9416e-02,\n",
      "        -2.6278e-02, -4.2625e-02,  3.3216e-02, -4.0901e-02,  6.5699e-02,\n",
      "         6.9913e-02,  4.4276e-02, -6.6100e-03, -7.5758e-02, -6.9985e-02,\n",
      "         3.3223e-02, -3.2687e-02,  3.5613e-02,  6.3969e-03, -2.4743e-02,\n",
      "         6.8636e-02,  6.8736e-02, -9.0771e-02, -7.7217e-02, -2.6445e-02,\n",
      "        -9.3570e-02, -4.5664e-03, -4.1414e-02, -9.6890e-02,  4.2740e-02,\n",
      "         6.6389e-02, -4.1215e-02,  9.4655e-02,  7.8884e-02, -6.8535e-02,\n",
      "         6.1101e-02, -1.1046e-02,  6.6126e-02, -2.5649e-02,  6.3590e-02,\n",
      "         1.6007e-02,  4.6650e-02, -5.6765e-02, -4.0028e-02,  3.9775e-02,\n",
      "        -3.3182e-02, -2.6957e-02,  4.8936e-02,  8.2727e-02, -6.3010e-02,\n",
      "         6.7884e-02,  2.2722e-02, -5.7910e-02,  5.1265e-02, -6.7581e-03,\n",
      "         7.6396e-02, -4.5716e-02,  4.6884e-02, -7.3481e-02, -3.0296e-02,\n",
      "        -4.0415e-02,  2.8197e-02, -6.5228e-02, -8.3325e-02,  3.4820e-03,\n",
      "         1.8959e-02, -6.7103e-02, -4.4620e-02,  4.7720e-02, -8.3123e-02,\n",
      "         9.7846e-02,  1.0756e-02,  3.4295e-02, -7.2423e-02,  6.1039e-02,\n",
      "        -1.7712e-02,  4.5578e-02, -9.7054e-02,  2.1597e-03,  3.2655e-03,\n",
      "         7.5408e-02,  6.9999e-02,  3.3690e-02, -6.6484e-02,  4.2504e-03],\n",
      "       requires_grad=True)\n",
      "Parameter containing:\n",
      "tensor([[-0.0317,  0.0083, -0.0201,  ..., -0.0316, -0.0501, -0.0582],\n",
      "        [-0.0305,  0.0061, -0.0503,  ..., -0.0285, -0.0065,  0.0663],\n",
      "        [-0.0620,  0.0357, -0.0440,  ..., -0.0588, -0.0159,  0.0476],\n",
      "        ...,\n",
      "        [ 0.0168, -0.0325,  0.0581,  ..., -0.0170, -0.0117,  0.0610],\n",
      "        [-0.0553, -0.0654, -0.0330,  ...,  0.0043, -0.0062, -0.0371],\n",
      "        [-0.0463,  0.0135, -0.0067,  ...,  0.0005,  0.0612, -0.0361]],\n",
      "       requires_grad=True)\n",
      "Parameter containing:\n",
      "tensor([-0.0228, -0.0540,  0.0136,  0.0113,  0.0628, -0.0056,  0.0100, -0.0385,\n",
      "        -0.0581,  0.0201], requires_grad=True)\n"
     ]
    }
   ],
   "source": [
    "# Print model parameters\n",
    "print('~~~ Model Parameters ~~~')\n",
    "for param in tiny_model.parameters():\n",
    "    print(param)"
   ]
  },
  {
   "cell_type": "code",
   "execution_count": 5,
   "metadata": {},
   "outputs": [
    {
     "name": "stdout",
     "output_type": "stream",
     "text": [
      "~~~ Parameters for `linear1` ~~~\n",
      "Parameter containing:\n",
      "tensor([[ 0.0199, -0.0721,  0.0316,  ...,  0.0192,  0.0481,  0.0479],\n",
      "        [-0.0771, -0.0703, -0.0581,  ...,  0.0541,  0.0908,  0.0470],\n",
      "        [-0.0702,  0.0462, -0.0615,  ..., -0.0120, -0.0990, -0.0049],\n",
      "        ...,\n",
      "        [-0.0419,  0.0931,  0.0668,  ..., -0.0533,  0.0382, -0.0867],\n",
      "        [-0.0503,  0.0554, -0.0016,  ..., -0.0068, -0.0857, -0.0038],\n",
      "        [-0.0764, -0.0629, -0.0004,  ..., -0.0942,  0.0946,  0.0412]],\n",
      "       requires_grad=True)\n",
      "Parameter containing:\n",
      "tensor([ 7.6186e-02,  2.9672e-02, -1.3766e-02, -2.8277e-02,  6.7598e-02,\n",
      "         1.3689e-02,  8.9441e-02,  3.6718e-02, -1.4012e-02,  6.9685e-02,\n",
      "        -4.6954e-02,  3.7890e-02, -3.9177e-04,  2.4744e-02,  6.2289e-02,\n",
      "         4.0623e-02, -3.4009e-02, -7.2788e-02,  3.2886e-03, -4.9632e-02,\n",
      "        -5.5791e-02,  8.2604e-03, -6.0171e-02,  2.5598e-02,  2.9111e-05,\n",
      "         5.9428e-02,  4.5630e-02,  4.5402e-02, -8.8536e-02,  5.0274e-03,\n",
      "        -6.6970e-02, -3.9213e-02, -3.8172e-02,  3.7684e-02, -9.7794e-02,\n",
      "        -2.1675e-03,  1.5212e-02,  6.0178e-02, -6.8816e-02, -7.5173e-02,\n",
      "         2.2089e-02, -5.7280e-02, -6.4887e-02, -2.8548e-02,  5.6402e-03,\n",
      "        -3.5106e-02, -8.3931e-02, -7.3455e-02, -9.2015e-02,  2.4487e-03,\n",
      "         9.3667e-03,  1.1515e-02,  4.0295e-02, -7.0261e-02, -7.3846e-02,\n",
      "         6.3704e-02,  8.6975e-02, -5.3491e-02,  5.2990e-02, -6.6166e-02,\n",
      "         5.3727e-02, -1.1806e-03, -7.0002e-02,  6.0900e-02, -5.5075e-03,\n",
      "         2.8856e-02, -4.8791e-02, -2.0787e-02,  1.1004e-02,  7.6176e-02,\n",
      "        -9.8976e-02, -9.7182e-02,  2.9696e-02, -8.0270e-02, -8.1742e-02,\n",
      "         7.8692e-02,  3.0689e-02,  5.9102e-03, -1.5603e-02, -7.1269e-02,\n",
      "         5.1092e-02,  7.7988e-02, -8.7631e-02,  4.5468e-02, -5.5042e-02,\n",
      "        -5.8136e-02,  9.4499e-02,  4.6069e-02, -6.3412e-02, -4.5011e-02,\n",
      "         6.3901e-02, -2.7069e-02,  8.9539e-02,  7.2199e-02,  2.2835e-04,\n",
      "         2.7320e-02, -1.0726e-02, -2.3548e-02, -9.7502e-02, -9.1885e-02,\n",
      "         6.9675e-02,  4.7368e-02,  6.1319e-02, -6.5160e-02,  4.9843e-02,\n",
      "         2.2295e-02, -7.9013e-02, -1.0585e-02,  4.9125e-02, -6.7905e-02,\n",
      "         5.3978e-03,  3.9538e-02, -8.2654e-02,  6.4770e-03,  7.4195e-02,\n",
      "        -3.6836e-02, -7.0943e-02,  4.1919e-03, -7.1575e-02, -5.9416e-02,\n",
      "        -2.6278e-02, -4.2625e-02,  3.3216e-02, -4.0901e-02,  6.5699e-02,\n",
      "         6.9913e-02,  4.4276e-02, -6.6100e-03, -7.5758e-02, -6.9985e-02,\n",
      "         3.3223e-02, -3.2687e-02,  3.5613e-02,  6.3969e-03, -2.4743e-02,\n",
      "         6.8636e-02,  6.8736e-02, -9.0771e-02, -7.7217e-02, -2.6445e-02,\n",
      "        -9.3570e-02, -4.5664e-03, -4.1414e-02, -9.6890e-02,  4.2740e-02,\n",
      "         6.6389e-02, -4.1215e-02,  9.4655e-02,  7.8884e-02, -6.8535e-02,\n",
      "         6.1101e-02, -1.1046e-02,  6.6126e-02, -2.5649e-02,  6.3590e-02,\n",
      "         1.6007e-02,  4.6650e-02, -5.6765e-02, -4.0028e-02,  3.9775e-02,\n",
      "        -3.3182e-02, -2.6957e-02,  4.8936e-02,  8.2727e-02, -6.3010e-02,\n",
      "         6.7884e-02,  2.2722e-02, -5.7910e-02,  5.1265e-02, -6.7581e-03,\n",
      "         7.6396e-02, -4.5716e-02,  4.6884e-02, -7.3481e-02, -3.0296e-02,\n",
      "        -4.0415e-02,  2.8197e-02, -6.5228e-02, -8.3325e-02,  3.4820e-03,\n",
      "         1.8959e-02, -6.7103e-02, -4.4620e-02,  4.7720e-02, -8.3123e-02,\n",
      "         9.7846e-02,  1.0756e-02,  3.4295e-02, -7.2423e-02,  6.1039e-02,\n",
      "        -1.7712e-02,  4.5578e-02, -9.7054e-02,  2.1597e-03,  3.2655e-03,\n",
      "         7.5408e-02,  6.9999e-02,  3.3690e-02, -6.6484e-02,  4.2504e-03],\n",
      "       requires_grad=True)\n"
     ]
    }
   ],
   "source": [
    "# Print parameters for `linear1`\n",
    "print('~~~ Parameters for `linear1` ~~~')\n",
    "for param in tiny_model.linear1.parameters():\n",
    "    print(param)"
   ]
  },
  {
   "cell_type": "code",
   "execution_count": 6,
   "metadata": {},
   "outputs": [
    {
     "name": "stdout",
     "output_type": "stream",
     "text": [
      "~~~ Parameters for `linear2` ~~~\n",
      "Parameter containing:\n",
      "tensor([[-0.0317,  0.0083, -0.0201,  ..., -0.0316, -0.0501, -0.0582],\n",
      "        [-0.0305,  0.0061, -0.0503,  ..., -0.0285, -0.0065,  0.0663],\n",
      "        [-0.0620,  0.0357, -0.0440,  ..., -0.0588, -0.0159,  0.0476],\n",
      "        ...,\n",
      "        [ 0.0168, -0.0325,  0.0581,  ..., -0.0170, -0.0117,  0.0610],\n",
      "        [-0.0553, -0.0654, -0.0330,  ...,  0.0043, -0.0062, -0.0371],\n",
      "        [-0.0463,  0.0135, -0.0067,  ...,  0.0005,  0.0612, -0.0361]],\n",
      "       requires_grad=True)\n",
      "Parameter containing:\n",
      "tensor([-0.0228, -0.0540,  0.0136,  0.0113,  0.0628, -0.0056,  0.0100, -0.0385,\n",
      "        -0.0581,  0.0201], requires_grad=True)\n"
     ]
    }
   ],
   "source": [
    "# Print parameters for `linear2`\n",
    "print('~~~ Parameters for `linear2` ~~~')\n",
    "for param in tiny_model.linear2.parameters():\n",
    "    print(param)"
   ]
  },
  {
   "cell_type": "markdown",
   "metadata": {},
   "source": [
    "## Examining Layer Types\n",
    "\n",
    "Some common layer types are listed below:\n",
    "\n",
    "- Linear layers - also called fully-connected layers where every input influences every output.\n",
    "- Convolutional layers - used to handle data with a high degree of spatial correlation.\n",
    "- Recurrent layers - used for sequential data by maintaining a memory using hidden states.\n",
    "- Transformers - multi-purpose network with in-built attention heads, encoders, decoders, etc.\n",
    "- Data manipulation layers\n",
    "  - Max/Average pooling layers - reduces a tensor by combining cells and assigning max/average value.\n",
    "  - Normalization layers - re-centers and normalizes the output of one layer before passing it to another.\n",
    "  - Dropout layers - randomly sets inputs to 0, encouraging sparse representations in the model.\n",
    "\n",
    "Some associated functions that are important in building a model:\n",
    "\n",
    "- Activation functions - introduces non-linearity in the model and determines if the neuron is activated.\n",
    "- Loss functions - evaluates the \"goodness\" of the model, the weights are optimized to reduce this.\n"
   ]
  },
  {
   "cell_type": "markdown",
   "metadata": {},
   "source": [
    "### Linear Layers\n"
   ]
  },
  {
   "cell_type": "code",
   "execution_count": 7,
   "metadata": {},
   "outputs": [
    {
     "name": "stdout",
     "output_type": "stream",
     "text": [
      "Inputs:\n",
      "tensor([[0.0125, 0.0502, 0.8559]])\n",
      "\n",
      "~~~ Weights and Bias for the Linear Layer ~~~\n",
      "Parameter containing:\n",
      "tensor([[ 0.1554, -0.2578,  0.0308],\n",
      "        [ 0.0407, -0.2020, -0.0455]], requires_grad=True)\n",
      "Parameter containing:\n",
      "tensor([-0.0884, -0.1632], requires_grad=True)\n",
      "\n",
      "Outputs:\n",
      "tensor([[-0.0731, -0.2118]], grad_fn=<AddmmBackward0>)\n"
     ]
    }
   ],
   "source": [
    "# Define a linear layer\n",
    "linear = torch.nn.Linear(3, 2)\n",
    "\n",
    "# Define inputs\n",
    "x = torch.rand(1, 3)\n",
    "print(f'Inputs:\\n{x}\\n')\n",
    "\n",
    "# Print the weights and bias\n",
    "print('~~~ Weights and Bias for the Linear Layer ~~~')\n",
    "for param in linear.parameters():\n",
    "    print(param)\n",
    "\n",
    "# Produce outputs\n",
    "y = linear(x)\n",
    "print(f'\\nOutputs:\\n{y}')"
   ]
  },
  {
   "cell_type": "markdown",
   "metadata": {},
   "source": [
    "### Convolutional Layers\n"
   ]
  },
  {
   "cell_type": "code",
   "execution_count": 8,
   "metadata": {},
   "outputs": [],
   "source": [
    "# Define a convolutional neural network\n",
    "class ConvNet(torch.nn.Module):\n",
    "    def __init__(self, *args, **kwargs) -> None:\n",
    "        super(ConvNet, self).__init__(*args, **kwargs)\n",
    "\n",
    "        # Define model architecture\n",
    "        self.conv1 = torch.nn.Conv2d(1, 6, 5)\n",
    "        self.conv2 = torch.nn.Conv2d(6, 16, 5)\n",
    "        self.fc1 = torch.nn.Linear(16 * 5 * 5, 120)\n",
    "        self.fc2 = torch.nn.Linear(120, 84)\n",
    "        self.fc3 = torch.nn.Linear(84, 10)\n",
    "\n",
    "    def forward(self, x: Tensor) -> Tensor:\n",
    "        x = F.max_pool2d(F.relu(self.conv1(x)), 2)\n",
    "        x = F.max_pool2d(F.relu(self.conv2(x)), 2)\n",
    "        x = x.view(-1, 16 * 5 * 5)\n",
    "        x = F.relu(self.fc1(x))\n",
    "        x = F.relu(self.fc2(x))\n",
    "        x = self.fc3(x)\n",
    "\n",
    "        return x"
   ]
  },
  {
   "cell_type": "code",
   "execution_count": 9,
   "metadata": {},
   "outputs": [
    {
     "name": "stdout",
     "output_type": "stream",
     "text": [
      "The Model Architecture:\n",
      "ConvNet(\n",
      "  (conv1): Conv2d(1, 6, kernel_size=(5, 5), stride=(1, 1))\n",
      "  (conv2): Conv2d(6, 16, kernel_size=(5, 5), stride=(1, 1))\n",
      "  (fc1): Linear(in_features=400, out_features=120, bias=True)\n",
      "  (fc2): Linear(in_features=120, out_features=84, bias=True)\n",
      "  (fc3): Linear(in_features=84, out_features=10, bias=True)\n",
      ")\n",
      "\n",
      "Inputs:\n",
      "tensor([[[[0.2107, 0.6960, 0.4952,  ..., 0.3281, 0.9949, 0.1105],\n",
      "          [0.3010, 0.6372, 0.6269,  ..., 0.4659, 0.4205, 0.7801],\n",
      "          [0.6771, 0.3643, 0.2552,  ..., 0.8427, 0.9891, 0.6014],\n",
      "          ...,\n",
      "          [0.4716, 0.3301, 0.3164,  ..., 0.0268, 0.1727, 0.6813],\n",
      "          [0.6306, 0.7107, 0.0699,  ..., 0.5728, 0.2549, 0.1618],\n",
      "          [0.0669, 0.7699, 0.6307,  ..., 0.2281, 0.9625, 0.8424]]]])\n",
      "\n",
      "Outputs:\n",
      "tensor([[-0.0421, -0.0313, -0.0110, -0.0778,  0.0940, -0.0452,  0.0609, -0.0485,\n",
      "          0.0927, -0.0503]], grad_fn=<AddmmBackward0>)\n"
     ]
    }
   ],
   "source": [
    "# Initialize the CNN\n",
    "conv_net = ConvNet()\n",
    "print(f'The Model Architecture:\\n{conv_net}\\n')\n",
    "\n",
    "# Define inputs\n",
    "x = torch.rand(1, 1, 32, 32)\n",
    "print(f'Inputs:\\n{x}\\n')\n",
    "\n",
    "# Produce outputs\n",
    "y = conv_net(x)\n",
    "print(f'Outputs:\\n{y}')"
   ]
  },
  {
   "cell_type": "markdown",
   "metadata": {},
   "source": [
    "### Recurrent Layers\n"
   ]
  },
  {
   "cell_type": "code",
   "execution_count": 10,
   "metadata": {},
   "outputs": [],
   "source": [
    "# Define a recurrent neural network with LSTM cells\n",
    "class LSTMTagger(torch.nn.Module):\n",
    "    def __init__(\n",
    "        self,\n",
    "        embedding_dim: int,\n",
    "        hidden_size: int,\n",
    "        vocab_size: int,\n",
    "        tagset_size: int,\n",
    "    ) -> None:\n",
    "        super(LSTMTagger, self).__init__()\n",
    "\n",
    "        # Set hidden dimensions\n",
    "        self.hidden_size = hidden_size\n",
    "\n",
    "        # Define word embeddings\n",
    "        self.word_embeddings = torch.nn.Embedding(\n",
    "            num_embeddings=vocab_size,\n",
    "            embedding_dim=embedding_dim,\n",
    "        )\n",
    "\n",
    "        # Define LSTM cell\n",
    "        self.lstm = torch.nn.LSTM(\n",
    "            input_size=embedding_dim,\n",
    "            hidden_size=hidden_size,\n",
    "        )\n",
    "\n",
    "        # Setup a hidden layer that maps from hidden state space to tag space\n",
    "        self.hidden2tag = torch.nn.Linear(hidden_size, tagset_size)\n",
    "\n",
    "    def forward(self, sentence: Tensor) -> Tensor:\n",
    "        embeds = self.word_embeddings(sentence)\n",
    "        lstm_out, _ = self.lstm(embeds.view(len(sentence), 1, -1))\n",
    "        tag_space = self.hidden2tag(lstm_out.view(len(sentence), -1))\n",
    "        tag_scores = F.log_softmax(tag_space, dim=1)\n",
    "\n",
    "        return tag_scores"
   ]
  },
  {
   "cell_type": "code",
   "execution_count": 11,
   "metadata": {},
   "outputs": [
    {
     "name": "stdout",
     "output_type": "stream",
     "text": [
      "Word Indices = {\n",
      "    \"The\": 0,\n",
      "    \"dog\": 1,\n",
      "    \"ate\": 2,\n",
      "    \"the\": 3,\n",
      "    \"apple\": 4,\n",
      "    \"Everybody\": 5,\n",
      "    \"read\": 6,\n",
      "    \"that\": 7,\n",
      "    \"book\": 8\n",
      "}\n",
      "Tag Indices = {\n",
      "    \"DET\": 0,\n",
      "    \"NN\": 1,\n",
      "    \"V\": 2\n",
      "}\n"
     ]
    }
   ],
   "source": [
    "# Setup training data\n",
    "train_data = [\n",
    "    ('The dog ate the apple'.split(), ['DET', 'NN', 'V', 'DET', 'NN']),\n",
    "    ('Everybody read that book'.split(), ['NN', 'V', 'DET', 'NN']),\n",
    "    ('The apple ate the book'.split(), ['DET', 'NN', 'V', 'DET', 'NN']),\n",
    "    ('Everybody read the apple'.split(), ['NN', 'V', 'DET', 'NN']),\n",
    "]\n",
    "\n",
    "# Mapping words to indices\n",
    "word_indices = {}\n",
    "for sentence, _ in train_data:\n",
    "    for word in sentence:\n",
    "        if word not in word_indices:\n",
    "            word_indices[word] = len(word_indices)\n",
    "print(f'Word Indices = {json.dumps(word_indices, indent=4)}')\n",
    "\n",
    "# Mapping tags to indices\n",
    "tag_indices = {'DET': 0, 'NN': 1, 'V': 2}\n",
    "print(f'Tag Indices = {json.dumps(tag_indices, indent=4)}')"
   ]
  },
  {
   "cell_type": "code",
   "execution_count": 12,
   "metadata": {},
   "outputs": [],
   "source": [
    "def encode_sequence(seq: list[str], indices: dict[str, int]) -> Tensor:\n",
    "    \"\"\"\n",
    "    Converts a sequence of words to a tensor of indices based on the given mapping.\n",
    "\n",
    "    Args:\n",
    "        seq (list[str]): A list of words to be encoded.\n",
    "        indices (dict[str, int]):\\\n",
    "            A dictionary mapping words to their corresponding indices.\n",
    "\n",
    "    Returns:\n",
    "        Tensor: A tensor containing the indices of the words in the input sequence.\n",
    "    \"\"\"\n",
    "    idxs = [indices[word] for word in seq]\n",
    "    return torch.tensor(idxs, dtype=torch.long)"
   ]
  },
  {
   "cell_type": "code",
   "execution_count": 13,
   "metadata": {},
   "outputs": [
    {
     "name": "stdout",
     "output_type": "stream",
     "text": [
      "The Model Architecture:\n",
      "LSTMTagger(\n",
      "  (word_embeddings): Embedding(9, 6)\n",
      "  (lstm): LSTM(6, 6)\n",
      "  (hidden2tag): Linear(in_features=6, out_features=3, bias=True)\n",
      ")\n"
     ]
    }
   ],
   "source": [
    "# Initialize the LSTM model\n",
    "lstm_tagger = LSTMTagger(\n",
    "    embedding_dim=6,\n",
    "    hidden_size=6,\n",
    "    vocab_size=len(word_indices),\n",
    "    tagset_size=len(tag_indices),\n",
    ")\n",
    "print(f'The Model Architecture:\\n{lstm_tagger}')"
   ]
  },
  {
   "cell_type": "code",
   "execution_count": 14,
   "metadata": {},
   "outputs": [
    {
     "name": "stdout",
     "output_type": "stream",
     "text": [
      "Epoch [ 10/100], Loss: 1.0380\n",
      "Epoch [ 20/100], Loss: 1.0373\n",
      "Epoch [ 30/100], Loss: 1.0367\n",
      "Epoch [ 40/100], Loss: 1.0360\n",
      "Epoch [ 50/100], Loss: 1.0354\n",
      "Epoch [ 60/100], Loss: 1.0348\n",
      "Epoch [ 70/100], Loss: 1.0342\n",
      "Epoch [ 80/100], Loss: 1.0336\n",
      "Epoch [ 90/100], Loss: 1.0330\n",
      "Epoch [100/100], Loss: 1.0324\n"
     ]
    }
   ],
   "source": [
    "# Setup the loss function and optimizer\n",
    "loss_fn = torch.nn.NLLLoss()\n",
    "optimizer = optim.SGD(lstm_tagger.parameters(), lr=0.001)\n",
    "\n",
    "# Setup prediction collection\n",
    "evaluation_results = {}\n",
    "\n",
    "# Train the model\n",
    "N_EPOCHS = 100\n",
    "for epoch in range(N_EPOCHS):\n",
    "    for sentence, tags in train_data:\n",
    "        # Prepare the inputs and targets\n",
    "        lstm_tagger.zero_grad()\n",
    "        sentence_encoded = encode_sequence(sentence, word_indices)\n",
    "        targets = encode_sequence(tags, tag_indices)\n",
    "\n",
    "        # Perform forward pass\n",
    "        tag_scores = lstm_tagger(sentence_encoded)\n",
    "        predictions = tag_scores.argmax(dim=1)\n",
    "        evaluation_results[' '.join(sentence)] = dict(\n",
    "            targets=targets.numpy().tolist(),\n",
    "            predictions=predictions.numpy().tolist(),\n",
    "        )\n",
    "\n",
    "        # Compute loss and perform backpropagation\n",
    "        loss = loss_fn(tag_scores, targets)\n",
    "        loss.backward()\n",
    "        optimizer.step()\n",
    "\n",
    "    # Print training data\n",
    "    if (epoch + 1) % 10 == 0:\n",
    "        print(f'Epoch [{epoch + 1:3d}/{N_EPOCHS}], Loss: {loss.item():.4f}')"
   ]
  },
  {
   "cell_type": "code",
   "execution_count": 15,
   "metadata": {},
   "outputs": [
    {
     "name": "stdout",
     "output_type": "stream",
     "text": [
      "Sentence: \"The dog ate the apple\"\n",
      "    Targets     : [0, 1, 2, 0, 1]\n",
      "    Predictions : [1, 1, 1, 1, 1]\n",
      "Sentence: \"Everybody read that book\"\n",
      "    Targets     : [1, 2, 0, 1]\n",
      "    Predictions : [1, 1, 1, 1]\n",
      "Sentence: \"The apple ate the book\"\n",
      "    Targets     : [0, 1, 2, 0, 1]\n",
      "    Predictions : [1, 1, 1, 1, 1]\n",
      "Sentence: \"Everybody read the apple\"\n",
      "    Targets     : [1, 2, 0, 1]\n",
      "    Predictions : [1, 1, 1, 1]\n"
     ]
    }
   ],
   "source": [
    "# Get the prediction evaluation results\n",
    "for sentence, result in evaluation_results.items():\n",
    "    print(f'Sentence: \"{sentence}\"')\n",
    "    targets = result['targets']\n",
    "    predictions = result['predictions']\n",
    "    print(f'    Targets     : {targets}')\n",
    "    print(f'    Predictions : {predictions}')"
   ]
  },
  {
   "cell_type": "code",
   "execution_count": 16,
   "metadata": {},
   "outputs": [
    {
     "name": "stdout",
     "output_type": "stream",
     "text": [
      "Accuracy of the Model: 44.4444%\n"
     ]
    }
   ],
   "source": [
    "# Compute the accuracy of the model\n",
    "correct_predictions = 0\n",
    "total_predictions = 0\n",
    "for sentence, result in evaluation_results.items():\n",
    "    targets = result['targets']\n",
    "    predictions = result['predictions']\n",
    "\n",
    "    correct_predictions += (\n",
    "        (np.array(targets) == np.array(predictions)).sum()\n",
    "    )\n",
    "    total_predictions += len(predictions)\n",
    "\n",
    "accuracy_score = correct_predictions / total_predictions\n",
    "print(f'Accuracy of the Model: {(accuracy_score * 100):.4f}%')"
   ]
  },
  {
   "cell_type": "code",
   "execution_count": 17,
   "metadata": {},
   "outputs": [],
   "source": [
    "# Compile the lstm model to a static representation\n",
    "lstm_script = torch.jit.script(lstm_tagger)\n",
    "\n",
    "# Save the model script locally for future use\n",
    "lstm_script.save('../models/04_lstm_tagger.pt')"
   ]
  },
  {
   "cell_type": "markdown",
   "metadata": {},
   "source": [
    "### Data Manipulation Layers\n"
   ]
  },
  {
   "cell_type": "code",
   "execution_count": null,
   "metadata": {},
   "outputs": [],
   "source": []
  }
 ],
 "metadata": {
  "kernelspec": {
   "display_name": "base",
   "language": "python",
   "name": "python3"
  },
  "language_info": {
   "codemirror_mode": {
    "name": "ipython",
    "version": 3
   },
   "file_extension": ".py",
   "mimetype": "text/x-python",
   "name": "python",
   "nbconvert_exporter": "python",
   "pygments_lexer": "ipython3",
   "version": "3.10.13"
  }
 },
 "nbformat": 4,
 "nbformat_minor": 2
}
