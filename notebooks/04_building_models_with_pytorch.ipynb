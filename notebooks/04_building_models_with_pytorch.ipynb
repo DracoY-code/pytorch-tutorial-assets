{
 "cells": [
  {
   "cell_type": "markdown",
   "metadata": {},
   "source": [
    "# Building Models with PyTorch\n",
    "\n",
    "This notebook is referenced from the fourth video in the [PyTorch Beginner Series](https://www.youtube.com/playlist?list=PL_lsbAsL_o2CTlGHgMxNrKhzP97BaG9ZN) by Brad Heintz on YouTube. The video focuses on the basic concepts in PyTorch that are used to handle several deep learning tasks and demonstrates how these concepts come together to make PyTorch a robust machine learning framework. You can find the notebook associated with the video [here](https://pytorch.org/tutorials/beginner/introyt/modelsyt_tutorial.html).\n"
   ]
  },
  {
   "cell_type": "code",
   "execution_count": 1,
   "metadata": {},
   "outputs": [],
   "source": [
    "# Import libraries here\n",
    "import json\n",
    "\n",
    "import numpy as np\n",
    "import torch\n",
    "import torch.nn.functional as F\n",
    "import torch.optim as optim\n",
    "from torch import Tensor"
   ]
  },
  {
   "cell_type": "markdown",
   "metadata": {},
   "source": [
    "## Build a Simple Model\n",
    "\n",
    "This model is similar to the one built in notebook-03.\n"
   ]
  },
  {
   "cell_type": "code",
   "execution_count": 2,
   "metadata": {},
   "outputs": [],
   "source": [
    "class TinyModel(torch.nn.Module):\n",
    "    \"\"\"A simple model created to set a baseline.\"\"\"\n",
    "\n",
    "    def __init__(self, *args, **kwargs) -> None:\n",
    "        super(TinyModel, self).__init__(*args, **kwargs)\n",
    "\n",
    "        # Setup layers and activations\n",
    "        self.linear1 = torch.nn.Linear(100, 200)\n",
    "        self.activation = torch.nn.ReLU()\n",
    "        self.linear2 = torch.nn.Linear(200, 10)\n",
    "        self.softmax = torch.nn.Softmax()           # converts output to probabilities\n",
    "\n",
    "    def forward(self, x: Tensor) -> Tensor:\n",
    "        x = self.linear1(x)\n",
    "        x = self.activation(x)\n",
    "        x = self.linear2(x)\n",
    "        x = self.softmax(x)\n",
    "\n",
    "        return x"
   ]
  },
  {
   "cell_type": "code",
   "execution_count": 3,
   "metadata": {},
   "outputs": [
    {
     "name": "stdout",
     "output_type": "stream",
     "text": [
      "The Model Architecture:\n",
      "TinyModel(\n",
      "  (linear1): Linear(in_features=100, out_features=200, bias=True)\n",
      "  (activation): ReLU()\n",
      "  (linear2): Linear(in_features=200, out_features=10, bias=True)\n",
      "  (softmax): Softmax(dim=None)\n",
      ")\n",
      "\n",
      "Layer `linear1`:\n",
      "Linear(in_features=100, out_features=200, bias=True)\n",
      "\n",
      "Layer `linear2`:\n",
      "Linear(in_features=200, out_features=10, bias=True)\n"
     ]
    }
   ],
   "source": [
    "# Initialize the model\n",
    "tiny_model = TinyModel()\n",
    "print(f'The Model Architecture:\\n{tiny_model}\\n')\n",
    "print(f'Layer `linear1`:\\n{tiny_model.linear1}\\n')\n",
    "print(f'Layer `linear2`:\\n{tiny_model.linear2}')"
   ]
  },
  {
   "cell_type": "code",
   "execution_count": 4,
   "metadata": {},
   "outputs": [
    {
     "name": "stdout",
     "output_type": "stream",
     "text": [
      "~~~ Model Parameters ~~~\n",
      "Parameter containing:\n",
      "tensor([[-0.0096, -0.0139,  0.0813,  ..., -0.0623,  0.0220,  0.0795],\n",
      "        [-0.0685, -0.0007, -0.0208,  ..., -0.0624,  0.0247, -0.0416],\n",
      "        [-0.0643,  0.0150,  0.0839,  ...,  0.0790, -0.0351,  0.0725],\n",
      "        ...,\n",
      "        [ 0.0953, -0.0047, -0.0872,  ...,  0.0153, -0.0308, -0.0769],\n",
      "        [ 0.0222,  0.0118,  0.0024,  ..., -0.0430,  0.0779, -0.0577],\n",
      "        [ 0.0057, -0.0811, -0.0907,  ...,  0.0742, -0.0705, -0.0153]],\n",
      "       requires_grad=True)\n",
      "Parameter containing:\n",
      "tensor([ 8.3996e-02,  1.0357e-02, -2.4370e-02,  4.0140e-02, -7.2262e-02,\n",
      "         6.9584e-02, -1.2005e-02, -5.4845e-02, -7.5443e-02, -7.2718e-02,\n",
      "         1.4722e-02, -3.8378e-02, -1.4451e-02,  8.2732e-02,  8.9670e-02,\n",
      "        -7.0884e-02,  5.8302e-03,  6.3268e-02, -8.9240e-02,  5.4744e-02,\n",
      "        -1.7199e-02,  8.8408e-02, -2.3642e-02,  6.5555e-02,  1.0773e-02,\n",
      "         4.0726e-02,  4.9739e-03, -8.2377e-02, -2.7889e-02, -8.6999e-03,\n",
      "        -6.3434e-02,  3.0250e-02, -4.6976e-02,  8.8032e-02,  4.4173e-02,\n",
      "        -2.0124e-03,  9.5068e-02, -4.0444e-02, -9.1861e-02,  2.7028e-02,\n",
      "        -4.5530e-02, -7.8890e-02,  6.5044e-02,  8.3598e-03, -8.1428e-02,\n",
      "        -1.3291e-02,  8.4122e-02, -5.0448e-02,  3.2602e-03,  1.9068e-02,\n",
      "         6.9272e-02, -4.4129e-02, -9.2281e-02,  2.2452e-02,  4.4962e-02,\n",
      "         1.5741e-02,  4.2028e-02,  8.1383e-02,  2.4459e-04, -1.8667e-02,\n",
      "         4.9945e-02, -7.7750e-02,  7.4084e-02,  3.8596e-02,  8.7909e-02,\n",
      "         3.7497e-02, -9.6110e-02, -9.1904e-02,  5.2471e-02,  8.3861e-02,\n",
      "         8.0561e-02,  4.8226e-02,  1.4384e-02, -7.8002e-02, -4.9410e-02,\n",
      "         3.6341e-02, -9.9862e-02,  7.2181e-02,  3.3793e-02,  1.9536e-02,\n",
      "        -3.6444e-02,  1.7192e-02, -2.0888e-02, -8.5991e-02,  5.1415e-05,\n",
      "         7.0496e-02, -9.9240e-02, -7.0791e-02,  1.0436e-02,  9.9412e-02,\n",
      "         3.5885e-02,  5.2722e-02, -1.7782e-02, -2.0928e-02,  1.3103e-02,\n",
      "        -3.7334e-02,  2.0089e-02, -8.8890e-02,  9.8209e-02,  3.8648e-02,\n",
      "        -6.2407e-02,  3.6150e-02, -6.7232e-02, -4.4934e-02,  5.8346e-02,\n",
      "         2.4725e-02, -3.4087e-02, -4.7772e-02, -5.9624e-02, -4.0668e-02,\n",
      "        -9.5718e-02,  5.7338e-03,  5.2723e-02,  8.6150e-02, -9.8556e-02,\n",
      "         3.6698e-02,  9.5174e-02, -3.8949e-02,  7.7996e-02,  7.0442e-02,\n",
      "        -2.0702e-02, -2.2159e-02, -1.3628e-03, -6.1442e-02, -6.6804e-02,\n",
      "         1.3296e-02, -8.0182e-02,  2.8167e-02,  6.7439e-02,  6.9689e-02,\n",
      "         2.2587e-02, -4.0232e-02,  4.7820e-02, -2.5841e-02,  5.4592e-02,\n",
      "         6.6943e-02,  8.2288e-02, -2.9198e-02, -3.5689e-02, -4.4164e-02,\n",
      "         2.2037e-02,  4.4834e-02, -7.4671e-03,  9.3439e-02, -4.4308e-02,\n",
      "         1.5862e-02, -5.9579e-02,  3.3008e-02, -9.4427e-02, -2.8060e-02,\n",
      "         7.2352e-02,  4.8893e-02,  8.3828e-02,  7.5347e-03,  2.0653e-02,\n",
      "         1.3327e-02,  6.5797e-02, -8.8980e-02, -8.2646e-02, -6.7321e-02,\n",
      "         8.7065e-02,  7.2466e-02, -1.9463e-02, -8.9334e-02,  9.1307e-02,\n",
      "        -6.4583e-02,  1.7718e-02, -8.6205e-02, -5.7342e-02,  3.0950e-02,\n",
      "         3.3815e-02,  7.3598e-02, -6.8262e-02, -8.9434e-02,  9.8897e-02,\n",
      "        -6.4453e-02, -2.1027e-02, -6.5420e-03,  6.2141e-02, -9.8648e-02,\n",
      "        -6.6372e-02, -5.8317e-02,  7.1372e-02, -6.2510e-02, -6.4486e-02,\n",
      "        -9.0252e-02,  4.3423e-02,  8.3924e-02, -4.8305e-02,  7.3549e-02,\n",
      "         2.2432e-02,  5.3030e-02,  6.3523e-02,  5.5952e-02,  4.1345e-02,\n",
      "        -6.2326e-02,  3.3019e-02, -7.7589e-02, -2.7294e-02,  6.1662e-02],\n",
      "       requires_grad=True)\n",
      "Parameter containing:\n",
      "tensor([[ 0.0220, -0.0115, -0.0099,  ..., -0.0230, -0.0522, -0.0582],\n",
      "        [-0.0649, -0.0156, -0.0100,  ...,  0.0078,  0.0496, -0.0472],\n",
      "        [ 0.0267,  0.0307,  0.0091,  ..., -0.0699, -0.0444,  0.0642],\n",
      "        ...,\n",
      "        [-0.0156, -0.0348, -0.0549,  ..., -0.0410, -0.0562, -0.0690],\n",
      "        [-0.0145, -0.0271,  0.0367,  ..., -0.0088, -0.0289,  0.0588],\n",
      "        [ 0.0653, -0.0488,  0.0368,  ...,  0.0137, -0.0194,  0.0349]],\n",
      "       requires_grad=True)\n",
      "Parameter containing:\n",
      "tensor([ 0.0287, -0.0619,  0.0022, -0.0518,  0.0398,  0.0272,  0.0683, -0.0197,\n",
      "         0.0049, -0.0497], requires_grad=True)\n"
     ]
    }
   ],
   "source": [
    "# Print model parameters\n",
    "print('~~~ Model Parameters ~~~')\n",
    "for param in tiny_model.parameters():\n",
    "    print(param)"
   ]
  },
  {
   "cell_type": "code",
   "execution_count": 5,
   "metadata": {},
   "outputs": [
    {
     "name": "stdout",
     "output_type": "stream",
     "text": [
      "~~~ Parameters for `linear1` ~~~\n",
      "Parameter containing:\n",
      "tensor([[-0.0096, -0.0139,  0.0813,  ..., -0.0623,  0.0220,  0.0795],\n",
      "        [-0.0685, -0.0007, -0.0208,  ..., -0.0624,  0.0247, -0.0416],\n",
      "        [-0.0643,  0.0150,  0.0839,  ...,  0.0790, -0.0351,  0.0725],\n",
      "        ...,\n",
      "        [ 0.0953, -0.0047, -0.0872,  ...,  0.0153, -0.0308, -0.0769],\n",
      "        [ 0.0222,  0.0118,  0.0024,  ..., -0.0430,  0.0779, -0.0577],\n",
      "        [ 0.0057, -0.0811, -0.0907,  ...,  0.0742, -0.0705, -0.0153]],\n",
      "       requires_grad=True)\n",
      "Parameter containing:\n",
      "tensor([ 8.3996e-02,  1.0357e-02, -2.4370e-02,  4.0140e-02, -7.2262e-02,\n",
      "         6.9584e-02, -1.2005e-02, -5.4845e-02, -7.5443e-02, -7.2718e-02,\n",
      "         1.4722e-02, -3.8378e-02, -1.4451e-02,  8.2732e-02,  8.9670e-02,\n",
      "        -7.0884e-02,  5.8302e-03,  6.3268e-02, -8.9240e-02,  5.4744e-02,\n",
      "        -1.7199e-02,  8.8408e-02, -2.3642e-02,  6.5555e-02,  1.0773e-02,\n",
      "         4.0726e-02,  4.9739e-03, -8.2377e-02, -2.7889e-02, -8.6999e-03,\n",
      "        -6.3434e-02,  3.0250e-02, -4.6976e-02,  8.8032e-02,  4.4173e-02,\n",
      "        -2.0124e-03,  9.5068e-02, -4.0444e-02, -9.1861e-02,  2.7028e-02,\n",
      "        -4.5530e-02, -7.8890e-02,  6.5044e-02,  8.3598e-03, -8.1428e-02,\n",
      "        -1.3291e-02,  8.4122e-02, -5.0448e-02,  3.2602e-03,  1.9068e-02,\n",
      "         6.9272e-02, -4.4129e-02, -9.2281e-02,  2.2452e-02,  4.4962e-02,\n",
      "         1.5741e-02,  4.2028e-02,  8.1383e-02,  2.4459e-04, -1.8667e-02,\n",
      "         4.9945e-02, -7.7750e-02,  7.4084e-02,  3.8596e-02,  8.7909e-02,\n",
      "         3.7497e-02, -9.6110e-02, -9.1904e-02,  5.2471e-02,  8.3861e-02,\n",
      "         8.0561e-02,  4.8226e-02,  1.4384e-02, -7.8002e-02, -4.9410e-02,\n",
      "         3.6341e-02, -9.9862e-02,  7.2181e-02,  3.3793e-02,  1.9536e-02,\n",
      "        -3.6444e-02,  1.7192e-02, -2.0888e-02, -8.5991e-02,  5.1415e-05,\n",
      "         7.0496e-02, -9.9240e-02, -7.0791e-02,  1.0436e-02,  9.9412e-02,\n",
      "         3.5885e-02,  5.2722e-02, -1.7782e-02, -2.0928e-02,  1.3103e-02,\n",
      "        -3.7334e-02,  2.0089e-02, -8.8890e-02,  9.8209e-02,  3.8648e-02,\n",
      "        -6.2407e-02,  3.6150e-02, -6.7232e-02, -4.4934e-02,  5.8346e-02,\n",
      "         2.4725e-02, -3.4087e-02, -4.7772e-02, -5.9624e-02, -4.0668e-02,\n",
      "        -9.5718e-02,  5.7338e-03,  5.2723e-02,  8.6150e-02, -9.8556e-02,\n",
      "         3.6698e-02,  9.5174e-02, -3.8949e-02,  7.7996e-02,  7.0442e-02,\n",
      "        -2.0702e-02, -2.2159e-02, -1.3628e-03, -6.1442e-02, -6.6804e-02,\n",
      "         1.3296e-02, -8.0182e-02,  2.8167e-02,  6.7439e-02,  6.9689e-02,\n",
      "         2.2587e-02, -4.0232e-02,  4.7820e-02, -2.5841e-02,  5.4592e-02,\n",
      "         6.6943e-02,  8.2288e-02, -2.9198e-02, -3.5689e-02, -4.4164e-02,\n",
      "         2.2037e-02,  4.4834e-02, -7.4671e-03,  9.3439e-02, -4.4308e-02,\n",
      "         1.5862e-02, -5.9579e-02,  3.3008e-02, -9.4427e-02, -2.8060e-02,\n",
      "         7.2352e-02,  4.8893e-02,  8.3828e-02,  7.5347e-03,  2.0653e-02,\n",
      "         1.3327e-02,  6.5797e-02, -8.8980e-02, -8.2646e-02, -6.7321e-02,\n",
      "         8.7065e-02,  7.2466e-02, -1.9463e-02, -8.9334e-02,  9.1307e-02,\n",
      "        -6.4583e-02,  1.7718e-02, -8.6205e-02, -5.7342e-02,  3.0950e-02,\n",
      "         3.3815e-02,  7.3598e-02, -6.8262e-02, -8.9434e-02,  9.8897e-02,\n",
      "        -6.4453e-02, -2.1027e-02, -6.5420e-03,  6.2141e-02, -9.8648e-02,\n",
      "        -6.6372e-02, -5.8317e-02,  7.1372e-02, -6.2510e-02, -6.4486e-02,\n",
      "        -9.0252e-02,  4.3423e-02,  8.3924e-02, -4.8305e-02,  7.3549e-02,\n",
      "         2.2432e-02,  5.3030e-02,  6.3523e-02,  5.5952e-02,  4.1345e-02,\n",
      "        -6.2326e-02,  3.3019e-02, -7.7589e-02, -2.7294e-02,  6.1662e-02],\n",
      "       requires_grad=True)\n"
     ]
    }
   ],
   "source": [
    "# Print parameters for `linear1`\n",
    "print('~~~ Parameters for `linear1` ~~~')\n",
    "for param in tiny_model.linear1.parameters():\n",
    "    print(param)"
   ]
  },
  {
   "cell_type": "code",
   "execution_count": 6,
   "metadata": {},
   "outputs": [
    {
     "name": "stdout",
     "output_type": "stream",
     "text": [
      "~~~ Parameters for `linear2` ~~~\n",
      "Parameter containing:\n",
      "tensor([[ 0.0220, -0.0115, -0.0099,  ..., -0.0230, -0.0522, -0.0582],\n",
      "        [-0.0649, -0.0156, -0.0100,  ...,  0.0078,  0.0496, -0.0472],\n",
      "        [ 0.0267,  0.0307,  0.0091,  ..., -0.0699, -0.0444,  0.0642],\n",
      "        ...,\n",
      "        [-0.0156, -0.0348, -0.0549,  ..., -0.0410, -0.0562, -0.0690],\n",
      "        [-0.0145, -0.0271,  0.0367,  ..., -0.0088, -0.0289,  0.0588],\n",
      "        [ 0.0653, -0.0488,  0.0368,  ...,  0.0137, -0.0194,  0.0349]],\n",
      "       requires_grad=True)\n",
      "Parameter containing:\n",
      "tensor([ 0.0287, -0.0619,  0.0022, -0.0518,  0.0398,  0.0272,  0.0683, -0.0197,\n",
      "         0.0049, -0.0497], requires_grad=True)\n"
     ]
    }
   ],
   "source": [
    "# Print parameters for `linear2`\n",
    "print('~~~ Parameters for `linear2` ~~~')\n",
    "for param in tiny_model.linear2.parameters():\n",
    "    print(param)"
   ]
  },
  {
   "cell_type": "markdown",
   "metadata": {},
   "source": [
    "## Examining Layer Types\n",
    "\n",
    "Some common layer types are listed below:\n",
    "\n",
    "- Linear layers - also called fully-connected layers where every input influences every output.\n",
    "- Convolutional layers - used to handle data with a high degree of spatial correlation.\n",
    "- Recurrent layers - used for sequential data by maintaining a memory using hidden states.\n",
    "- Transformers - multi-purpose network with in-built attention heads, encoders, decoders, etc.\n",
    "- Data manipulation layers\n",
    "  - Max/Average pooling layers - reduces a tensor by combining cells and assigning max/average value.\n",
    "  - Normalization layers - re-centers and normalizes the output of one layer before passing it to another.\n",
    "  - Dropout layers - randomly sets inputs to 0, encouraging sparse representations in the model.\n",
    "\n",
    "Some associated functions that are important in building a model:\n",
    "\n",
    "- Activation functions - introduces non-linearity in the model and determines if the neuron is activated.\n",
    "- Loss functions - evaluates the \"goodness\" of the model, the weights are optimized to reduce this.\n"
   ]
  },
  {
   "cell_type": "markdown",
   "metadata": {},
   "source": [
    "### Linear Layers\n"
   ]
  },
  {
   "cell_type": "code",
   "execution_count": 7,
   "metadata": {},
   "outputs": [
    {
     "name": "stdout",
     "output_type": "stream",
     "text": [
      "Inputs:\n",
      "tensor([[0.0988, 0.2758, 0.8293]])\n",
      "\n",
      "~~~ Weights and Bias for the Linear Layer ~~~\n",
      "Parameter containing:\n",
      "tensor([[ 0.5479,  0.1983,  0.2888],\n",
      "        [-0.2375, -0.3624,  0.3960]], requires_grad=True)\n",
      "Parameter containing:\n",
      "tensor([-0.0918, -0.2877], requires_grad=True)\n",
      "\n",
      "Outputs:\n",
      "tensor([[ 0.2565, -0.0828]], grad_fn=<AddmmBackward0>)\n"
     ]
    }
   ],
   "source": [
    "# Define a linear layer\n",
    "linear = torch.nn.Linear(3, 2)\n",
    "\n",
    "# Define inputs\n",
    "x = torch.rand(1, 3)\n",
    "print(f'Inputs:\\n{x}\\n')\n",
    "\n",
    "# Print the weights and bias\n",
    "print('~~~ Weights and Bias for the Linear Layer ~~~')\n",
    "for param in linear.parameters():\n",
    "    print(param)\n",
    "\n",
    "# Produce outputs\n",
    "y = linear(x)\n",
    "print(f'\\nOutputs:\\n{y}')"
   ]
  },
  {
   "cell_type": "markdown",
   "metadata": {},
   "source": [
    "### Convolutional Layers\n"
   ]
  },
  {
   "cell_type": "code",
   "execution_count": 8,
   "metadata": {},
   "outputs": [],
   "source": [
    "# Define a convolutional neural network\n",
    "class ConvNet(torch.nn.Module):\n",
    "    def __init__(self, *args, **kwargs) -> None:\n",
    "        super(ConvNet, self).__init__(*args, **kwargs)\n",
    "\n",
    "        # Define model architecture\n",
    "        self.conv1 = torch.nn.Conv2d(1, 6, 5)\n",
    "        self.conv2 = torch.nn.Conv2d(6, 16, 5)\n",
    "        self.fc1 = torch.nn.Linear(16 * 5 * 5, 120)\n",
    "        self.fc2 = torch.nn.Linear(120, 84)\n",
    "        self.fc3 = torch.nn.Linear(84, 10)\n",
    "\n",
    "    def forward(self, x: Tensor) -> Tensor:\n",
    "        x = F.max_pool2d(F.relu(self.conv1(x)), 2)\n",
    "        x = F.max_pool2d(F.relu(self.conv2(x)), 2)\n",
    "        x = x.view(-1, 16 * 5 * 5)\n",
    "        x = F.relu(self.fc1(x))\n",
    "        x = F.relu(self.fc2(x))\n",
    "        x = self.fc3(x)\n",
    "\n",
    "        return x"
   ]
  },
  {
   "cell_type": "code",
   "execution_count": 9,
   "metadata": {},
   "outputs": [
    {
     "name": "stdout",
     "output_type": "stream",
     "text": [
      "The Model Architecture:\n",
      "ConvNet(\n",
      "  (conv1): Conv2d(1, 6, kernel_size=(5, 5), stride=(1, 1))\n",
      "  (conv2): Conv2d(6, 16, kernel_size=(5, 5), stride=(1, 1))\n",
      "  (fc1): Linear(in_features=400, out_features=120, bias=True)\n",
      "  (fc2): Linear(in_features=120, out_features=84, bias=True)\n",
      "  (fc3): Linear(in_features=84, out_features=10, bias=True)\n",
      ")\n",
      "\n",
      "Inputs:\n",
      "tensor([[[[0.6978, 0.4626, 0.4278,  ..., 0.2858, 0.8567, 0.2354],\n",
      "          [0.7500, 0.8984, 0.8596,  ..., 0.1333, 0.5216, 0.0551],\n",
      "          [0.5411, 0.1402, 0.4467,  ..., 0.9585, 0.0554, 0.3797],\n",
      "          ...,\n",
      "          [0.6499, 0.0406, 0.0228,  ..., 0.5594, 0.4459, 0.3524],\n",
      "          [0.9065, 0.2543, 0.0755,  ..., 0.4392, 0.7752, 0.3953],\n",
      "          [0.3245, 0.0428, 0.3254,  ..., 0.4777, 0.3953, 0.3578]]]])\n",
      "\n",
      "Outputs:\n",
      "tensor([[-0.0524,  0.0297, -0.1074, -0.0212, -0.0262, -0.1134,  0.0113,  0.0020,\n",
      "         -0.0375, -0.1123]], grad_fn=<AddmmBackward0>)\n"
     ]
    }
   ],
   "source": [
    "# Initialize the CNN\n",
    "conv_net = ConvNet()\n",
    "print(f'The Model Architecture:\\n{conv_net}\\n')\n",
    "\n",
    "# Define inputs\n",
    "x = torch.rand(1, 1, 32, 32)\n",
    "print(f'Inputs:\\n{x}\\n')\n",
    "\n",
    "# Produce outputs\n",
    "y = conv_net(x)\n",
    "print(f'Outputs:\\n{y}')"
   ]
  },
  {
   "cell_type": "markdown",
   "metadata": {},
   "source": [
    "### Recurrent Layers\n"
   ]
  },
  {
   "cell_type": "code",
   "execution_count": 10,
   "metadata": {},
   "outputs": [],
   "source": [
    "# Define a recurrent neural network with LSTM cells\n",
    "class LSTMTagger(torch.nn.Module):\n",
    "    def __init__(\n",
    "        self,\n",
    "        embedding_dim: int,\n",
    "        hidden_size: int,\n",
    "        vocab_size: int,\n",
    "        tagset_size: int,\n",
    "    ) -> None:\n",
    "        super(LSTMTagger, self).__init__()\n",
    "\n",
    "        # Set hidden dimensions\n",
    "        self.hidden_size = hidden_size\n",
    "\n",
    "        # Define word embeddings\n",
    "        self.word_embeddings = torch.nn.Embedding(\n",
    "            num_embeddings=vocab_size,\n",
    "            embedding_dim=embedding_dim,\n",
    "        )\n",
    "\n",
    "        # Define LSTM cell\n",
    "        self.lstm = torch.nn.LSTM(\n",
    "            input_size=embedding_dim,\n",
    "            hidden_size=hidden_size,\n",
    "        )\n",
    "\n",
    "        # Setup a hidden layer that maps from hidden state space to tag space\n",
    "        self.hidden2tag = torch.nn.Linear(hidden_size, tagset_size)\n",
    "\n",
    "    def forward(self, sentence: Tensor) -> Tensor:\n",
    "        embeds = self.word_embeddings(sentence)\n",
    "        lstm_out, _ = self.lstm(embeds.view(len(sentence), 1, -1))\n",
    "        tag_space = self.hidden2tag(lstm_out.view(len(sentence), -1))\n",
    "        tag_scores = F.log_softmax(tag_space, dim=1)\n",
    "\n",
    "        return tag_scores"
   ]
  },
  {
   "cell_type": "code",
   "execution_count": 11,
   "metadata": {},
   "outputs": [
    {
     "name": "stdout",
     "output_type": "stream",
     "text": [
      "Word Indices = {\n",
      "    \"The\": 0,\n",
      "    \"dog\": 1,\n",
      "    \"ate\": 2,\n",
      "    \"the\": 3,\n",
      "    \"apple\": 4,\n",
      "    \"Everybody\": 5,\n",
      "    \"read\": 6,\n",
      "    \"that\": 7,\n",
      "    \"book\": 8\n",
      "}\n",
      "Tag Indices = {\n",
      "    \"DET\": 0,\n",
      "    \"NN\": 1,\n",
      "    \"V\": 2\n",
      "}\n"
     ]
    }
   ],
   "source": [
    "# Setup training data\n",
    "train_data = [\n",
    "    ('The dog ate the apple'.split(), ['DET', 'NN', 'V', 'DET', 'NN']),\n",
    "    ('Everybody read that book'.split(), ['NN', 'V', 'DET', 'NN']),\n",
    "    ('The apple ate the book'.split(), ['DET', 'NN', 'V', 'DET', 'NN']),\n",
    "    ('Everybody read the apple'.split(), ['NN', 'V', 'DET', 'NN']),\n",
    "]\n",
    "\n",
    "# Mapping words to indices\n",
    "word_indices = {}\n",
    "for sentence, _ in train_data:\n",
    "    for word in sentence:\n",
    "        if word not in word_indices:\n",
    "            word_indices[word] = len(word_indices)\n",
    "print(f'Word Indices = {json.dumps(word_indices, indent=4)}')\n",
    "\n",
    "# Mapping tags to indices\n",
    "tag_indices = {'DET': 0, 'NN': 1, 'V': 2}\n",
    "print(f'Tag Indices = {json.dumps(tag_indices, indent=4)}')"
   ]
  },
  {
   "cell_type": "code",
   "execution_count": 12,
   "metadata": {},
   "outputs": [],
   "source": [
    "def encode_sequence(seq: list[str], indices: dict[str, int]) -> Tensor:\n",
    "    \"\"\"\n",
    "    Converts a sequence of words to a tensor of indices based on the given mapping.\n",
    "\n",
    "    Args:\n",
    "        seq (list[str]): A list of words to be encoded.\n",
    "        indices (dict[str, int]):\\\n",
    "            A dictionary mapping words to their corresponding indices.\n",
    "\n",
    "    Returns:\n",
    "        Tensor: A tensor containing the indices of the words in the input sequence.\n",
    "    \"\"\"\n",
    "    idxs = [indices[word] for word in seq]\n",
    "    return torch.tensor(idxs, dtype=torch.long)"
   ]
  },
  {
   "cell_type": "code",
   "execution_count": 13,
   "metadata": {},
   "outputs": [
    {
     "name": "stdout",
     "output_type": "stream",
     "text": [
      "The Model Architecture:\n",
      "LSTMTagger(\n",
      "  (word_embeddings): Embedding(9, 6)\n",
      "  (lstm): LSTM(6, 6)\n",
      "  (hidden2tag): Linear(in_features=6, out_features=3, bias=True)\n",
      ")\n"
     ]
    }
   ],
   "source": [
    "# Initialize the LSTM model\n",
    "lstm_tagger = LSTMTagger(\n",
    "    embedding_dim=6,\n",
    "    hidden_size=6,\n",
    "    vocab_size=len(word_indices),\n",
    "    tagset_size=len(tag_indices),\n",
    ")\n",
    "print(f'The Model Architecture:\\n{lstm_tagger}')"
   ]
  },
  {
   "cell_type": "code",
   "execution_count": 14,
   "metadata": {},
   "outputs": [
    {
     "name": "stdout",
     "output_type": "stream",
     "text": [
      "Epoch [ 10/100], Loss: 1.1323\n",
      "Epoch [ 20/100], Loss: 1.1284\n",
      "Epoch [ 30/100], Loss: 1.1247\n",
      "Epoch [ 40/100], Loss: 1.1211\n",
      "Epoch [ 50/100], Loss: 1.1175\n",
      "Epoch [ 60/100], Loss: 1.1140\n",
      "Epoch [ 70/100], Loss: 1.1107\n",
      "Epoch [ 80/100], Loss: 1.1074\n",
      "Epoch [ 90/100], Loss: 1.1042\n",
      "Epoch [100/100], Loss: 1.1011\n"
     ]
    }
   ],
   "source": [
    "# Setup the loss function and optimizer\n",
    "loss_fn = torch.nn.NLLLoss()\n",
    "optimizer = optim.SGD(lstm_tagger.parameters(), lr=0.001)\n",
    "\n",
    "# Setup prediction collection\n",
    "evaluation_results = {}\n",
    "\n",
    "# Train the model\n",
    "N_EPOCHS = 100\n",
    "for epoch in range(N_EPOCHS):\n",
    "    for sentence, tags in train_data:\n",
    "        # Prepare the inputs and targets\n",
    "        lstm_tagger.zero_grad()\n",
    "        sentence_encoded = encode_sequence(sentence, word_indices)\n",
    "        targets = encode_sequence(tags, tag_indices)\n",
    "\n",
    "        # Perform forward pass\n",
    "        tag_scores = lstm_tagger(sentence_encoded)\n",
    "        predictions = tag_scores.argmax(dim=1)\n",
    "        evaluation_results[' '.join(sentence)] = dict(\n",
    "            targets=targets.numpy().tolist(),\n",
    "            predictions=predictions.numpy().tolist(),\n",
    "        )\n",
    "\n",
    "        # Compute loss and perform backpropagation\n",
    "        loss = loss_fn(tag_scores, targets)\n",
    "        loss.backward()\n",
    "        optimizer.step()\n",
    "\n",
    "    # Print training data\n",
    "    if (epoch + 1) % 10 == 0:\n",
    "        print(f'Epoch [{epoch + 1:3d}/{N_EPOCHS}], Loss: {loss.item():.4f}')"
   ]
  },
  {
   "cell_type": "code",
   "execution_count": 15,
   "metadata": {},
   "outputs": [
    {
     "name": "stdout",
     "output_type": "stream",
     "text": [
      "Sentence: \"The dog ate the apple\"\n",
      "    Targets     : [0, 1, 2, 0, 1]\n",
      "    Predictions : [1, 2, 1, 2, 2]\n",
      "Sentence: \"Everybody read that book\"\n",
      "    Targets     : [1, 2, 0, 1]\n",
      "    Predictions : [1, 1, 1, 1]\n",
      "Sentence: \"The apple ate the book\"\n",
      "    Targets     : [0, 1, 2, 0, 1]\n",
      "    Predictions : [1, 1, 1, 2, 1]\n",
      "Sentence: \"Everybody read the apple\"\n",
      "    Targets     : [1, 2, 0, 1]\n",
      "    Predictions : [1, 1, 2, 1]\n"
     ]
    }
   ],
   "source": [
    "# Get the prediction evaluation results\n",
    "for sentence, result in evaluation_results.items():\n",
    "    print(f'Sentence: \"{sentence}\"')\n",
    "    targets = result['targets']\n",
    "    predictions = result['predictions']\n",
    "    print(f'    Targets     : {targets}')\n",
    "    print(f'    Predictions : {predictions}')"
   ]
  },
  {
   "cell_type": "code",
   "execution_count": 16,
   "metadata": {},
   "outputs": [
    {
     "name": "stdout",
     "output_type": "stream",
     "text": [
      "Accuracy of the Model: 33.3333%\n"
     ]
    }
   ],
   "source": [
    "# Compute the accuracy of the model\n",
    "correct_predictions = 0\n",
    "total_predictions = 0\n",
    "for sentence, result in evaluation_results.items():\n",
    "    targets = result['targets']\n",
    "    predictions = result['predictions']\n",
    "\n",
    "    correct_predictions += (\n",
    "        (np.array(targets) == np.array(predictions)).sum()\n",
    "    )\n",
    "    total_predictions += len(predictions)\n",
    "\n",
    "accuracy_score = correct_predictions / total_predictions\n",
    "print(f'Accuracy of the Model: {(accuracy_score * 100):.4f}%')"
   ]
  },
  {
   "cell_type": "code",
   "execution_count": 17,
   "metadata": {},
   "outputs": [],
   "source": [
    "# Compile the lstm model to a static representation\n",
    "lstm_script = torch.jit.script(lstm_tagger)\n",
    "\n",
    "# Save the model script locally for future use\n",
    "lstm_script.save('../models/04_lstm_tagger.pt')"
   ]
  },
  {
   "cell_type": "markdown",
   "metadata": {},
   "source": [
    "### Data Manipulation Layers\n",
    "\n",
    "These layers do not participate in the learning process but are essential for manipulating tensors, such as:\n",
    "\n",
    "- Average/Max pooling layers\n",
    "- Normalization layers\n",
    "- Dropout layers\n"
   ]
  },
  {
   "cell_type": "code",
   "execution_count": 18,
   "metadata": {},
   "outputs": [
    {
     "name": "stdout",
     "output_type": "stream",
     "text": [
      "Tensor 0:\n",
      "tensor([[[0.1469, 0.8377, 0.9813, 0.2753, 0.5628, 0.3891],\n",
      "         [0.3284, 0.9396, 0.9312, 0.2181, 0.8076, 0.9192],\n",
      "         [0.9497, 0.9007, 0.4809, 0.8573, 0.6149, 0.5760],\n",
      "         [0.4669, 0.8119, 0.9940, 0.2087, 0.5927, 0.1092],\n",
      "         [0.2479, 0.2736, 0.3748, 0.9859, 0.8099, 0.1101],\n",
      "         [0.6605, 0.7027, 0.3157, 0.1883, 0.5325, 0.2906]]])\n",
      "\n",
      "Average-Pooled Tensor:\n",
      "tensor([[[0.7218, 0.5800],\n",
      "         [0.5387, 0.4253]]])\n",
      "\n",
      "Max-Pooled Tensor:\n",
      "tensor([[[0.9813, 0.9192],\n",
      "         [0.9940, 0.9859]]])\n"
     ]
    }
   ],
   "source": [
    "# Define a tensor\n",
    "tensor_0 = torch.rand(1, 6, 6)\n",
    "print(f'Tensor 0:\\n{tensor_0}')\n",
    "\n",
    "# Create pooling layers\n",
    "avg_pooling_layer = torch.nn.AvgPool2d(3)\n",
    "max_pooling_layer = torch.nn.MaxPool2d(3)\n",
    "print(f'\\nAverage-Pooled Tensor:\\n{avg_pooling_layer(tensor_0)}')\n",
    "print(f'\\nMax-Pooled Tensor:\\n{max_pooling_layer(tensor_0)}')"
   ]
  },
  {
   "cell_type": "code",
   "execution_count": 19,
   "metadata": {},
   "outputs": [
    {
     "name": "stdout",
     "output_type": "stream",
     "text": [
      "Tensor 0:\n",
      "tensor([[[0.1469, 0.8377, 0.9813, 0.2753, 0.5628, 0.3891],\n",
      "         [0.3284, 0.9396, 0.9312, 0.2181, 0.8076, 0.9192],\n",
      "         [0.9497, 0.9007, 0.4809, 0.8573, 0.6149, 0.5760],\n",
      "         [0.4669, 0.8119, 0.9940, 0.2087, 0.5927, 0.1092],\n",
      "         [0.2479, 0.2736, 0.3748, 0.9859, 0.8099, 0.1101],\n",
      "         [0.6605, 0.7027, 0.3157, 0.1883, 0.5325, 0.2906]]])\n",
      "\n",
      "Average-Pooled Tensor (manual):\n",
      "tensor([[[0.7218, 0.5800],\n",
      "         [0.5387, 0.4253]]])\n",
      "Is it the same?: False\n",
      "\n",
      "Max-Pooled Tensor (manual):\n",
      "tensor([[[0.9813, 0.9192],\n",
      "         [0.9940, 0.9859]]])\n",
      "Is it the same?: True\n"
     ]
    }
   ],
   "source": [
    "# Set the kernel size\n",
    "kernel_size = 3\n",
    "\n",
    "# Compute the dimensions of the output tensor\n",
    "_, H, W = tensor_0.size()\n",
    "H_out, W_out = H // kernel_size, W // kernel_size\n",
    "\n",
    "# Setup pooled tensors\n",
    "avgs = torch.zeros(1, H_out, W_out)\n",
    "maxs = torch.zeros(1, H_out, W_out)\n",
    "\n",
    "for i in range(H_out):\n",
    "    for j in range(W_out):\n",
    "        # Extract the current (kernel_size x kernel_size) window\n",
    "        window = tensor_0[\n",
    "            0,\n",
    "            (i * kernel_size) : ((i + 1) * kernel_size),\n",
    "            (j * kernel_size) : ((j + 1) * kernel_size),\n",
    "        ]\n",
    "\n",
    "        # Calculate the average and\n",
    "        # max values of the window\n",
    "        avgs[0, i, j] = window.mean()\n",
    "        maxs[0, i, j] = window.max()\n",
    "\n",
    "# Print the manually computed tensors\n",
    "print(f'Tensor 0:\\n{tensor_0}')\n",
    "print(f'\\nAverage-Pooled Tensor (manual):\\n{avgs}')\n",
    "print(f'Is it the same?: {torch.equal(avg_pooling_layer(tensor_0), avgs)}')\n",
    "print(f'\\nMax-Pooled Tensor (manual):\\n{maxs}')\n",
    "print(f'Is it the same?: {torch.equal(max_pooling_layer(tensor_0), maxs)}')"
   ]
  },
  {
   "cell_type": "code",
   "execution_count": 20,
   "metadata": {},
   "outputs": [
    {
     "name": "stdout",
     "output_type": "stream",
     "text": [
      "Tensor 1:\n",
      "tensor([[[14.1492, 16.2734, 18.0320, 17.1201],\n",
      "         [ 8.4800, 15.2588, 15.1151,  8.5726],\n",
      "         [13.1176, 19.5021, 18.3224,  8.0068],\n",
      "         [10.3068,  8.2278, 20.0766, 17.6381]]])\n",
      "Mean : 14.262460708618164\n",
      "Std  : 4.286467552185059\n",
      "\n",
      "Normalized Tensor:\n",
      "tensor([[[-1.5615, -0.0837,  1.1398,  0.5054],\n",
      "         [-1.0137,  1.0214,  0.9783, -0.9859],\n",
      "         [-0.3545,  1.0430,  0.7848, -1.4733],\n",
      "         [-0.7622, -1.1842,  1.2207,  0.7257]]],\n",
      "       grad_fn=<NativeBatchNormBackward0>)\n",
      "Mean : -2.2351741790771484e-08\n",
      "Std  : 1.032794713973999\n"
     ]
    }
   ],
   "source": [
    "# Define another tensor\n",
    "tensor_1 = torch.rand(1, 4, 4) * 20 + 5\n",
    "print(f'Tensor 1:\\n{tensor_1}')\n",
    "print(f'Mean : {tensor_1.mean()}')\n",
    "print(f'Std  : {tensor_1.std()}')\n",
    "\n",
    "# Setup a normalization layer\n",
    "normalization_layer = torch.nn.BatchNorm1d(4)\n",
    "normalized_tensor = normalization_layer(tensor_1)\n",
    "print(f'\\nNormalized Tensor:\\n{normalized_tensor}')\n",
    "print(f'Mean : {normalized_tensor.mean()}')\n",
    "print(f'Std  : {normalized_tensor.std()}')"
   ]
  },
  {
   "cell_type": "markdown",
   "metadata": {},
   "source": [
    "The normalized tensor has mean equal to 0 and standard deviation equal to 1 (approximately).\n"
   ]
  },
  {
   "cell_type": "code",
   "execution_count": 21,
   "metadata": {},
   "outputs": [
    {
     "name": "stdout",
     "output_type": "stream",
     "text": [
      "Tensor 2:\n",
      "tensor([[[0.9159, 0.5101, 0.0268, 0.1150],\n",
      "         [0.1693, 0.8296, 0.4148, 0.4501],\n",
      "         [0.8585, 0.5178, 0.8615, 0.1808],\n",
      "         [0.4003, 0.0933, 0.0819, 0.4586]]])\n",
      "\n",
      "Dropout (p=0.4):\n",
      "tensor([[[0.0000, 0.0000, 0.0000, 0.0000],\n",
      "         [0.0000, 0.0000, 0.0000, 0.7501],\n",
      "         [0.0000, 0.8630, 0.0000, 0.3013],\n",
      "         [0.6671, 0.1555, 0.1365, 0.7644]]])\n",
      "\n",
      "Dropout (p=1.0):\n",
      "tensor([[[0., 0., 0., 0.],\n",
      "         [0., 0., 0., 0.],\n",
      "         [0., 0., 0., 0.],\n",
      "         [0., 0., 0., 0.]]])\n"
     ]
    }
   ],
   "source": [
    "# Define a third tensor\n",
    "tensor_2 = torch.rand(1, 4, 4)\n",
    "print(f'Tensor 2:\\n{tensor_2}')\n",
    "\n",
    "# Create a dropout layers\n",
    "dropout_layer_1 = torch.nn.Dropout(p=0.4)\n",
    "print(f'\\nDropout (p=0.4):\\n{dropout_layer_1(tensor_2)}')\n",
    "\n",
    "dropout_layer_2 = torch.nn.Dropout(p=1.0)\n",
    "print(f'\\nDropout (p=1.0):\\n{dropout_layer_2(tensor_2)}')"
   ]
  },
  {
   "cell_type": "markdown",
   "metadata": {},
   "source": [
    "These create sparse representations of the tensor based on the probability value.\n"
   ]
  },
  {
   "cell_type": "code",
   "execution_count": null,
   "metadata": {},
   "outputs": [],
   "source": []
  }
 ],
 "metadata": {
  "kernelspec": {
   "display_name": "base",
   "language": "python",
   "name": "python3"
  },
  "language_info": {
   "codemirror_mode": {
    "name": "ipython",
    "version": 3
   },
   "file_extension": ".py",
   "mimetype": "text/x-python",
   "name": "python",
   "nbconvert_exporter": "python",
   "pygments_lexer": "ipython3",
   "version": "3.10.13"
  }
 },
 "nbformat": 4,
 "nbformat_minor": 2
}
