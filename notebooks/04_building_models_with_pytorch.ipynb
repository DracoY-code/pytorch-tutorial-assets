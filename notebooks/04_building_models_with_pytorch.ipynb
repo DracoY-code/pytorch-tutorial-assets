{
 "cells": [
  {
   "cell_type": "markdown",
   "metadata": {},
   "source": [
    "# Building Models with PyTorch\n",
    "\n",
    "This notebook is referenced from the fourth video in the [PyTorch Beginner Series](https://www.youtube.com/playlist?list=PL_lsbAsL_o2CTlGHgMxNrKhzP97BaG9ZN) by Brad Heintz on YouTube. The video focuses on the basic concepts in PyTorch that are used to handle several deep learning tasks and demonstrates how these concepts come together to make PyTorch a robust machine learning framework. You can find the notebook associated with the video [here](https://pytorch.org/tutorials/beginner/introyt/modelsyt_tutorial.html).\n"
   ]
  },
  {
   "cell_type": "code",
   "execution_count": 1,
   "metadata": {},
   "outputs": [],
   "source": [
    "# Import libraries here\n",
    "import json\n",
    "\n",
    "import numpy as np\n",
    "import torch\n",
    "import torch.nn.functional as F\n",
    "import torch.optim as optim\n",
    "from torch import Tensor"
   ]
  },
  {
   "cell_type": "markdown",
   "metadata": {},
   "source": [
    "## Build a Simple Model\n",
    "\n",
    "This model is similar to the one built in notebook-03.\n"
   ]
  },
  {
   "cell_type": "code",
   "execution_count": 2,
   "metadata": {},
   "outputs": [],
   "source": [
    "class TinyModel(torch.nn.Module):\n",
    "    \"\"\"A simple model created to set a baseline.\"\"\"\n",
    "\n",
    "    def __init__(self, *args, **kwargs) -> None:\n",
    "        super(TinyModel, self).__init__(*args, **kwargs)\n",
    "\n",
    "        # Setup layers and activations\n",
    "        self.linear1 = torch.nn.Linear(100, 200)\n",
    "        self.activation = torch.nn.ReLU()\n",
    "        self.linear2 = torch.nn.Linear(200, 10)\n",
    "        self.softmax = torch.nn.Softmax()           # converts output to probabilities\n",
    "\n",
    "    def forward(self, x: Tensor) -> Tensor:\n",
    "        x = self.linear1(x)\n",
    "        x = self.activation(x)\n",
    "        x = self.linear2(x)\n",
    "        x = self.softmax(x)\n",
    "\n",
    "        return x"
   ]
  },
  {
   "cell_type": "code",
   "execution_count": 3,
   "metadata": {},
   "outputs": [
    {
     "name": "stdout",
     "output_type": "stream",
     "text": [
      "The Model Architecture:\n",
      "TinyModel(\n",
      "  (linear1): Linear(in_features=100, out_features=200, bias=True)\n",
      "  (activation): ReLU()\n",
      "  (linear2): Linear(in_features=200, out_features=10, bias=True)\n",
      "  (softmax): Softmax(dim=None)\n",
      ")\n",
      "\n",
      "Layer `linear1`:\n",
      "Linear(in_features=100, out_features=200, bias=True)\n",
      "\n",
      "Layer `linear2`:\n",
      "Linear(in_features=200, out_features=10, bias=True)\n"
     ]
    }
   ],
   "source": [
    "# Initialize the model\n",
    "tiny_model = TinyModel()\n",
    "print(f'The Model Architecture:\\n{tiny_model}\\n')\n",
    "print(f'Layer `linear1`:\\n{tiny_model.linear1}\\n')\n",
    "print(f'Layer `linear2`:\\n{tiny_model.linear2}')"
   ]
  },
  {
   "cell_type": "code",
   "execution_count": 4,
   "metadata": {},
   "outputs": [
    {
     "name": "stdout",
     "output_type": "stream",
     "text": [
      "~~~ Model Parameters ~~~\n",
      "Parameter containing:\n",
      "tensor([[ 0.0297,  0.0391,  0.0569,  ...,  0.0314,  0.0459, -0.0591],\n",
      "        [ 0.0914, -0.0952, -0.0955,  ..., -0.0636, -0.0701, -0.0601],\n",
      "        [-0.0395, -0.0595, -0.0038,  ..., -0.0350, -0.0018, -0.0716],\n",
      "        ...,\n",
      "        [-0.0764, -0.0376, -0.0287,  ..., -0.0079, -0.0311, -0.0923],\n",
      "        [ 0.0897,  0.0039,  0.0029,  ...,  0.0421, -0.0806,  0.0161],\n",
      "        [-0.0126, -0.0824,  0.0956,  ..., -0.0111, -0.0729, -0.0710]],\n",
      "       requires_grad=True)\n",
      "Parameter containing:\n",
      "tensor([-0.0113,  0.0738,  0.0753, -0.0577,  0.0368, -0.0638, -0.0851, -0.0005,\n",
      "        -0.0644,  0.0033,  0.0042, -0.0503, -0.0732,  0.0836, -0.0898,  0.0465,\n",
      "         0.0257, -0.0587, -0.0006, -0.0444, -0.0969,  0.0112,  0.0833, -0.0664,\n",
      "        -0.0909,  0.0308, -0.0709,  0.0048,  0.0281, -0.0349,  0.0020, -0.0764,\n",
      "        -0.0544,  0.0486,  0.0679, -0.0464,  0.0251,  0.0212, -0.0040, -0.0556,\n",
      "         0.0655, -0.0606,  0.0498,  0.0046,  0.0404,  0.0627, -0.0300,  0.0336,\n",
      "        -0.0055, -0.0467, -0.0422, -0.0912, -0.0304, -0.0156,  0.0624,  0.0605,\n",
      "        -0.0498, -0.0346,  0.0528, -0.0299, -0.0078,  0.0432, -0.0443, -0.0635,\n",
      "         0.0195,  0.0045,  0.0266, -0.0894,  0.0721, -0.0756,  0.0656, -0.0443,\n",
      "        -0.0801, -0.0786, -0.0874, -0.0442, -0.0941, -0.0589,  0.0511, -0.0957,\n",
      "         0.0090, -0.0995,  0.0624,  0.0899,  0.0161,  0.0301, -0.0962, -0.0742,\n",
      "        -0.0373,  0.0996,  0.0937,  0.0501,  0.0331, -0.0750, -0.0655, -0.0367,\n",
      "        -0.0645,  0.0877,  0.0900, -0.0260, -0.0124,  0.0944, -0.0610,  0.0447,\n",
      "        -0.0869,  0.0705, -0.0274, -0.0465, -0.0164, -0.0522,  0.0822, -0.0994,\n",
      "         0.0388, -0.0930, -0.0203, -0.0562, -0.0137,  0.0015, -0.0731,  0.0285,\n",
      "        -0.0519,  0.0412, -0.0105, -0.0302,  0.0555, -0.0782,  0.0325,  0.0376,\n",
      "         0.0586, -0.0483,  0.0448,  0.0589, -0.0147, -0.0330,  0.0413, -0.0206,\n",
      "        -0.0778, -0.0250, -0.0304,  0.0825,  0.0147,  0.0981, -0.0230,  0.0113,\n",
      "         0.0083,  0.0963, -0.0940, -0.0508, -0.0455,  0.0570, -0.0394, -0.0218,\n",
      "        -0.0316, -0.0779, -0.0669, -0.0908, -0.0758, -0.0146, -0.0183,  0.0167,\n",
      "         0.0808,  0.0674,  0.0576, -0.0483, -0.0928, -0.0931,  0.0055,  0.0144,\n",
      "         0.0030, -0.0238,  0.0987, -0.0363,  0.0030,  0.0728,  0.0923,  0.0182,\n",
      "         0.0232, -0.0634, -0.0085, -0.0834, -0.0894,  0.0505, -0.0891,  0.0995,\n",
      "        -0.0148, -0.0443, -0.0555,  0.0568,  0.0613,  0.0209, -0.0117, -0.0119,\n",
      "        -0.0526,  0.0247, -0.0084, -0.0297,  0.0140, -0.0512, -0.0129, -0.0203],\n",
      "       requires_grad=True)\n",
      "Parameter containing:\n",
      "tensor([[ 0.0174, -0.0517,  0.0694,  ..., -0.0088,  0.0010,  0.0332],\n",
      "        [ 0.0305, -0.0352, -0.0135,  ...,  0.0105, -0.0120,  0.0464],\n",
      "        [ 0.0572, -0.0150, -0.0639,  ...,  0.0599, -0.0638,  0.0499],\n",
      "        ...,\n",
      "        [ 0.0047, -0.0543, -0.0094,  ...,  0.0678,  0.0072,  0.0055],\n",
      "        [ 0.0545, -0.0536, -0.0615,  ...,  0.0594,  0.0683,  0.0447],\n",
      "        [ 0.0534, -0.0552, -0.0664,  ...,  0.0171,  0.0548,  0.0519]],\n",
      "       requires_grad=True)\n",
      "Parameter containing:\n",
      "tensor([-0.0445,  0.0299, -0.0252, -0.0172, -0.0117, -0.0208,  0.0495,  0.0655,\n",
      "        -0.0665,  0.0018], requires_grad=True)\n"
     ]
    }
   ],
   "source": [
    "# Print model parameters\n",
    "print('~~~ Model Parameters ~~~')\n",
    "for param in tiny_model.parameters():\n",
    "    print(param)"
   ]
  },
  {
   "cell_type": "code",
   "execution_count": 5,
   "metadata": {},
   "outputs": [
    {
     "name": "stdout",
     "output_type": "stream",
     "text": [
      "~~~ Parameters for `linear1` ~~~\n",
      "Parameter containing:\n",
      "tensor([[ 0.0297,  0.0391,  0.0569,  ...,  0.0314,  0.0459, -0.0591],\n",
      "        [ 0.0914, -0.0952, -0.0955,  ..., -0.0636, -0.0701, -0.0601],\n",
      "        [-0.0395, -0.0595, -0.0038,  ..., -0.0350, -0.0018, -0.0716],\n",
      "        ...,\n",
      "        [-0.0764, -0.0376, -0.0287,  ..., -0.0079, -0.0311, -0.0923],\n",
      "        [ 0.0897,  0.0039,  0.0029,  ...,  0.0421, -0.0806,  0.0161],\n",
      "        [-0.0126, -0.0824,  0.0956,  ..., -0.0111, -0.0729, -0.0710]],\n",
      "       requires_grad=True)\n",
      "Parameter containing:\n",
      "tensor([-0.0113,  0.0738,  0.0753, -0.0577,  0.0368, -0.0638, -0.0851, -0.0005,\n",
      "        -0.0644,  0.0033,  0.0042, -0.0503, -0.0732,  0.0836, -0.0898,  0.0465,\n",
      "         0.0257, -0.0587, -0.0006, -0.0444, -0.0969,  0.0112,  0.0833, -0.0664,\n",
      "        -0.0909,  0.0308, -0.0709,  0.0048,  0.0281, -0.0349,  0.0020, -0.0764,\n",
      "        -0.0544,  0.0486,  0.0679, -0.0464,  0.0251,  0.0212, -0.0040, -0.0556,\n",
      "         0.0655, -0.0606,  0.0498,  0.0046,  0.0404,  0.0627, -0.0300,  0.0336,\n",
      "        -0.0055, -0.0467, -0.0422, -0.0912, -0.0304, -0.0156,  0.0624,  0.0605,\n",
      "        -0.0498, -0.0346,  0.0528, -0.0299, -0.0078,  0.0432, -0.0443, -0.0635,\n",
      "         0.0195,  0.0045,  0.0266, -0.0894,  0.0721, -0.0756,  0.0656, -0.0443,\n",
      "        -0.0801, -0.0786, -0.0874, -0.0442, -0.0941, -0.0589,  0.0511, -0.0957,\n",
      "         0.0090, -0.0995,  0.0624,  0.0899,  0.0161,  0.0301, -0.0962, -0.0742,\n",
      "        -0.0373,  0.0996,  0.0937,  0.0501,  0.0331, -0.0750, -0.0655, -0.0367,\n",
      "        -0.0645,  0.0877,  0.0900, -0.0260, -0.0124,  0.0944, -0.0610,  0.0447,\n",
      "        -0.0869,  0.0705, -0.0274, -0.0465, -0.0164, -0.0522,  0.0822, -0.0994,\n",
      "         0.0388, -0.0930, -0.0203, -0.0562, -0.0137,  0.0015, -0.0731,  0.0285,\n",
      "        -0.0519,  0.0412, -0.0105, -0.0302,  0.0555, -0.0782,  0.0325,  0.0376,\n",
      "         0.0586, -0.0483,  0.0448,  0.0589, -0.0147, -0.0330,  0.0413, -0.0206,\n",
      "        -0.0778, -0.0250, -0.0304,  0.0825,  0.0147,  0.0981, -0.0230,  0.0113,\n",
      "         0.0083,  0.0963, -0.0940, -0.0508, -0.0455,  0.0570, -0.0394, -0.0218,\n",
      "        -0.0316, -0.0779, -0.0669, -0.0908, -0.0758, -0.0146, -0.0183,  0.0167,\n",
      "         0.0808,  0.0674,  0.0576, -0.0483, -0.0928, -0.0931,  0.0055,  0.0144,\n",
      "         0.0030, -0.0238,  0.0987, -0.0363,  0.0030,  0.0728,  0.0923,  0.0182,\n",
      "         0.0232, -0.0634, -0.0085, -0.0834, -0.0894,  0.0505, -0.0891,  0.0995,\n",
      "        -0.0148, -0.0443, -0.0555,  0.0568,  0.0613,  0.0209, -0.0117, -0.0119,\n",
      "        -0.0526,  0.0247, -0.0084, -0.0297,  0.0140, -0.0512, -0.0129, -0.0203],\n",
      "       requires_grad=True)\n"
     ]
    }
   ],
   "source": [
    "# Print parameters for `linear1`\n",
    "print('~~~ Parameters for `linear1` ~~~')\n",
    "for param in tiny_model.linear1.parameters():\n",
    "    print(param)"
   ]
  },
  {
   "cell_type": "code",
   "execution_count": 6,
   "metadata": {},
   "outputs": [
    {
     "name": "stdout",
     "output_type": "stream",
     "text": [
      "~~~ Parameters for `linear2` ~~~\n",
      "Parameter containing:\n",
      "tensor([[ 0.0174, -0.0517,  0.0694,  ..., -0.0088,  0.0010,  0.0332],\n",
      "        [ 0.0305, -0.0352, -0.0135,  ...,  0.0105, -0.0120,  0.0464],\n",
      "        [ 0.0572, -0.0150, -0.0639,  ...,  0.0599, -0.0638,  0.0499],\n",
      "        ...,\n",
      "        [ 0.0047, -0.0543, -0.0094,  ...,  0.0678,  0.0072,  0.0055],\n",
      "        [ 0.0545, -0.0536, -0.0615,  ...,  0.0594,  0.0683,  0.0447],\n",
      "        [ 0.0534, -0.0552, -0.0664,  ...,  0.0171,  0.0548,  0.0519]],\n",
      "       requires_grad=True)\n",
      "Parameter containing:\n",
      "tensor([-0.0445,  0.0299, -0.0252, -0.0172, -0.0117, -0.0208,  0.0495,  0.0655,\n",
      "        -0.0665,  0.0018], requires_grad=True)\n"
     ]
    }
   ],
   "source": [
    "# Print parameters for `linear2`\n",
    "print('~~~ Parameters for `linear2` ~~~')\n",
    "for param in tiny_model.linear2.parameters():\n",
    "    print(param)"
   ]
  },
  {
   "cell_type": "markdown",
   "metadata": {},
   "source": [
    "## Examining Layer Types\n",
    "\n",
    "Some common layer types are listed below:\n",
    "\n",
    "- Linear layers - also called fully-connected layers where every input influences every output.\n",
    "- Convolutional layers - used to handle data with a high degree of spatial correlation.\n",
    "- Recurrent layers - used for sequential data by maintaining a memory using hidden states.\n",
    "- Transformers - multi-purpose network with in-built attention heads, encoders, decoders, etc.\n",
    "- Data manipulation layers\n",
    "  - Max/Average pooling layers - reduces a tensor by combining cells and assigning max/average value.\n",
    "  - Normalization layers - re-centers and normalizes the output of one layer before passing it to another.\n",
    "  - Dropout layers - randomly sets inputs to 0, encouraging sparse representations in the model.\n",
    "\n",
    "Some associated functions that are important in building a model:\n",
    "\n",
    "- Activation functions - introduces non-linearity in the model and determines if the neuron is activated.\n",
    "- Loss functions - evaluates the \"goodness\" of the model, the weights are optimized to reduce this.\n"
   ]
  },
  {
   "cell_type": "markdown",
   "metadata": {},
   "source": [
    "### Linear Layers\n"
   ]
  },
  {
   "cell_type": "code",
   "execution_count": 7,
   "metadata": {},
   "outputs": [
    {
     "name": "stdout",
     "output_type": "stream",
     "text": [
      "Inputs:\n",
      "tensor([[0.3207, 0.3985, 0.7220]])\n",
      "\n",
      "~~~ Weights and Bias for the Linear Layer ~~~\n",
      "Parameter containing:\n",
      "tensor([[-0.2738,  0.2454,  0.2541],\n",
      "        [ 0.4492, -0.2003, -0.1989]], requires_grad=True)\n",
      "Parameter containing:\n",
      "tensor([-0.2777, -0.0954], requires_grad=True)\n",
      "\n",
      "Outputs:\n",
      "tensor([[-0.0843, -0.1748]], grad_fn=<AddmmBackward0>)\n"
     ]
    }
   ],
   "source": [
    "# Define a linear layer\n",
    "linear = torch.nn.Linear(3, 2)\n",
    "\n",
    "# Define inputs\n",
    "x = torch.rand(1, 3)\n",
    "print(f'Inputs:\\n{x}\\n')\n",
    "\n",
    "# Print the weights and bias\n",
    "print('~~~ Weights and Bias for the Linear Layer ~~~')\n",
    "for param in linear.parameters():\n",
    "    print(param)\n",
    "\n",
    "# Produce outputs\n",
    "y = linear(x)\n",
    "print(f'\\nOutputs:\\n{y}')"
   ]
  },
  {
   "cell_type": "markdown",
   "metadata": {},
   "source": [
    "### Convolutional Layers\n"
   ]
  },
  {
   "cell_type": "code",
   "execution_count": 8,
   "metadata": {},
   "outputs": [],
   "source": [
    "# Define a convolutional neural network\n",
    "class ConvNet(torch.nn.Module):\n",
    "    def __init__(self, *args, **kwargs) -> None:\n",
    "        super(ConvNet, self).__init__(*args, **kwargs)\n",
    "\n",
    "        # Define model architecture\n",
    "        self.conv1 = torch.nn.Conv2d(1, 6, 5)\n",
    "        self.conv2 = torch.nn.Conv2d(6, 16, 5)\n",
    "        self.fc1 = torch.nn.Linear(16 * 5 * 5, 120)\n",
    "        self.fc2 = torch.nn.Linear(120, 84)\n",
    "        self.fc3 = torch.nn.Linear(84, 10)\n",
    "\n",
    "    def forward(self, x: Tensor) -> Tensor:\n",
    "        x = F.max_pool2d(F.relu(self.conv1(x)), 2)\n",
    "        x = F.max_pool2d(F.relu(self.conv2(x)), 2)\n",
    "        x = x.view(-1, 16 * 5 * 5)\n",
    "        x = F.relu(self.fc1(x))\n",
    "        x = F.relu(self.fc2(x))\n",
    "        x = self.fc3(x)\n",
    "\n",
    "        return x"
   ]
  },
  {
   "cell_type": "code",
   "execution_count": 9,
   "metadata": {},
   "outputs": [
    {
     "name": "stdout",
     "output_type": "stream",
     "text": [
      "The Model Architecture:\n",
      "ConvNet(\n",
      "  (conv1): Conv2d(1, 6, kernel_size=(5, 5), stride=(1, 1))\n",
      "  (conv2): Conv2d(6, 16, kernel_size=(5, 5), stride=(1, 1))\n",
      "  (fc1): Linear(in_features=400, out_features=120, bias=True)\n",
      "  (fc2): Linear(in_features=120, out_features=84, bias=True)\n",
      "  (fc3): Linear(in_features=84, out_features=10, bias=True)\n",
      ")\n",
      "\n",
      "Inputs:\n",
      "tensor([[[[0.3953, 0.1850, 0.6821,  ..., 0.2277, 0.1856, 0.3543],\n",
      "          [0.1433, 0.7540, 0.0511,  ..., 0.9428, 0.0476, 0.9618],\n",
      "          [0.7848, 0.2653, 0.6663,  ..., 0.3671, 0.3074, 0.2342],\n",
      "          ...,\n",
      "          [0.2552, 0.5087, 0.8492,  ..., 0.2652, 0.9262, 0.0259],\n",
      "          [0.0925, 0.1056, 0.2799,  ..., 0.6095, 0.1363, 0.7023],\n",
      "          [0.8458, 0.7976, 0.0596,  ..., 0.8097, 0.2162, 0.1701]]]])\n",
      "\n",
      "Outputs:\n",
      "tensor([[ 0.0319,  0.0190,  0.0254, -0.1094,  0.0510, -0.0370,  0.0882, -0.0576,\n",
      "          0.0800,  0.0435]], grad_fn=<AddmmBackward0>)\n"
     ]
    }
   ],
   "source": [
    "# Initialize the CNN\n",
    "conv_net = ConvNet()\n",
    "print(f'The Model Architecture:\\n{conv_net}\\n')\n",
    "\n",
    "# Define inputs\n",
    "x = torch.rand(1, 1, 32, 32)\n",
    "print(f'Inputs:\\n{x}\\n')\n",
    "\n",
    "# Produce outputs\n",
    "y = conv_net(x)\n",
    "print(f'Outputs:\\n{y}')"
   ]
  },
  {
   "cell_type": "markdown",
   "metadata": {},
   "source": [
    "### Recurrent Layers\n"
   ]
  },
  {
   "cell_type": "code",
   "execution_count": 10,
   "metadata": {},
   "outputs": [],
   "source": [
    "# Define a recurrent neural network with LSTM cells\n",
    "class LSTMTagger(torch.nn.Module):\n",
    "    def __init__(\n",
    "        self,\n",
    "        embedding_dim: int,\n",
    "        hidden_size: int,\n",
    "        vocab_size: int,\n",
    "        tagset_size: int,\n",
    "    ) -> None:\n",
    "        super(LSTMTagger, self).__init__()\n",
    "\n",
    "        # Set hidden dimensions\n",
    "        self.hidden_size = hidden_size\n",
    "\n",
    "        # Define word embeddings\n",
    "        self.word_embeddings = torch.nn.Embedding(\n",
    "            num_embeddings=vocab_size,\n",
    "            embedding_dim=embedding_dim,\n",
    "        )\n",
    "\n",
    "        # Define LSTM cell\n",
    "        self.lstm = torch.nn.LSTM(\n",
    "            input_size=embedding_dim,\n",
    "            hidden_size=hidden_size,\n",
    "        )\n",
    "\n",
    "        # Setup a hidden layer that maps from hidden state space to tag space\n",
    "        self.hidden2tag = torch.nn.Linear(hidden_size, tagset_size)\n",
    "\n",
    "    def forward(self, sentence: Tensor) -> Tensor:\n",
    "        embeds = self.word_embeddings(sentence)\n",
    "        lstm_out, _ = self.lstm(embeds.view(len(sentence), 1, -1))\n",
    "        tag_space = self.hidden2tag(lstm_out.view(len(sentence), -1))\n",
    "        tag_scores = F.log_softmax(tag_space, dim=1)\n",
    "\n",
    "        return tag_scores"
   ]
  },
  {
   "cell_type": "code",
   "execution_count": 11,
   "metadata": {},
   "outputs": [
    {
     "name": "stdout",
     "output_type": "stream",
     "text": [
      "Word Indices = {\n",
      "    \"The\": 0,\n",
      "    \"dog\": 1,\n",
      "    \"ate\": 2,\n",
      "    \"the\": 3,\n",
      "    \"apple\": 4,\n",
      "    \"Everybody\": 5,\n",
      "    \"read\": 6,\n",
      "    \"that\": 7,\n",
      "    \"book\": 8\n",
      "}\n",
      "Tag Indices = {\n",
      "    \"DET\": 0,\n",
      "    \"NN\": 1,\n",
      "    \"V\": 2\n",
      "}\n"
     ]
    }
   ],
   "source": [
    "# Setup training data\n",
    "train_data = [\n",
    "    ('The dog ate the apple'.split(), ['DET', 'NN', 'V', 'DET', 'NN']),\n",
    "    ('Everybody read that book'.split(), ['NN', 'V', 'DET', 'NN']),\n",
    "    ('The apple ate the book'.split(), ['DET', 'NN', 'V', 'DET', 'NN']),\n",
    "    ('Everybody read the apple'.split(), ['NN', 'V', 'DET', 'NN']),\n",
    "]\n",
    "\n",
    "# Mapping words to indices\n",
    "word_indices = {}\n",
    "for sentence, _ in train_data:\n",
    "    for word in sentence:\n",
    "        if word not in word_indices:\n",
    "            word_indices[word] = len(word_indices)\n",
    "print(f'Word Indices = {json.dumps(word_indices, indent=4)}')\n",
    "\n",
    "# Mapping tags to indices\n",
    "tag_indices = {'DET': 0, 'NN': 1, 'V': 2}\n",
    "print(f'Tag Indices = {json.dumps(tag_indices, indent=4)}')"
   ]
  },
  {
   "cell_type": "code",
   "execution_count": 12,
   "metadata": {},
   "outputs": [],
   "source": [
    "def encode_sequence(seq: list[str], indices: dict[str, int]) -> Tensor:\n",
    "    \"\"\"\n",
    "    Converts a sequence of words to a tensor of indices based on the given mapping.\n",
    "\n",
    "    Args:\n",
    "        seq (list[str]): A list of words to be encoded.\n",
    "        indices (dict[str, int]):\\\n",
    "            A dictionary mapping words to their corresponding indices.\n",
    "\n",
    "    Returns:\n",
    "        Tensor: A tensor containing the indices of the words in the input sequence.\n",
    "    \"\"\"\n",
    "    idxs = [indices[word] for word in seq]\n",
    "    return torch.tensor(idxs, dtype=torch.long)"
   ]
  },
  {
   "cell_type": "code",
   "execution_count": 13,
   "metadata": {},
   "outputs": [
    {
     "name": "stdout",
     "output_type": "stream",
     "text": [
      "The Model Architecture:\n",
      "LSTMTagger(\n",
      "  (word_embeddings): Embedding(9, 6)\n",
      "  (lstm): LSTM(6, 6)\n",
      "  (hidden2tag): Linear(in_features=6, out_features=3, bias=True)\n",
      ")\n"
     ]
    }
   ],
   "source": [
    "# Initialize the LSTM model\n",
    "lstm_tagger = LSTMTagger(\n",
    "    embedding_dim=6,\n",
    "    hidden_size=6,\n",
    "    vocab_size=len(word_indices),\n",
    "    tagset_size=len(tag_indices),\n",
    ")\n",
    "print(f'The Model Architecture:\\n{lstm_tagger}')"
   ]
  },
  {
   "cell_type": "code",
   "execution_count": 14,
   "metadata": {},
   "outputs": [
    {
     "name": "stdout",
     "output_type": "stream",
     "text": [
      "Epoch [ 10/100], Loss: 1.2753\n",
      "Epoch [ 20/100], Loss: 1.2696\n",
      "Epoch [ 30/100], Loss: 1.2642\n",
      "Epoch [ 40/100], Loss: 1.2588\n",
      "Epoch [ 50/100], Loss: 1.2535\n",
      "Epoch [ 60/100], Loss: 1.2484\n",
      "Epoch [ 70/100], Loss: 1.2434\n",
      "Epoch [ 80/100], Loss: 1.2385\n",
      "Epoch [ 90/100], Loss: 1.2337\n",
      "Epoch [100/100], Loss: 1.2290\n"
     ]
    }
   ],
   "source": [
    "# Setup the loss function and optimizer\n",
    "loss_fn = torch.nn.NLLLoss()\n",
    "optimizer = optim.SGD(lstm_tagger.parameters(), lr=0.001)\n",
    "\n",
    "# Setup prediction collection\n",
    "evaluation_results = {}\n",
    "\n",
    "# Train the model\n",
    "N_EPOCHS = 100\n",
    "for epoch in range(N_EPOCHS):\n",
    "    for sentence, tags in train_data:\n",
    "        # Prepare the inputs and targets\n",
    "        lstm_tagger.zero_grad()\n",
    "        sentence_encoded = encode_sequence(sentence, word_indices)\n",
    "        targets = encode_sequence(tags, tag_indices)\n",
    "\n",
    "        # Perform forward pass\n",
    "        tag_scores = lstm_tagger(sentence_encoded)\n",
    "        predictions = tag_scores.argmax(dim=1)\n",
    "        evaluation_results[' '.join(sentence)] = dict(\n",
    "            targets=targets.numpy().tolist(),\n",
    "            predictions=predictions.numpy().tolist(),\n",
    "        )\n",
    "\n",
    "        # Compute loss and perform backpropagation\n",
    "        loss = loss_fn(tag_scores, targets)\n",
    "        loss.backward()\n",
    "        optimizer.step()\n",
    "\n",
    "    # Print training data\n",
    "    if (epoch + 1) % 10 == 0:\n",
    "        print(f'Epoch [{epoch + 1:3d}/{N_EPOCHS}], Loss: {loss.item():.4f}')"
   ]
  },
  {
   "cell_type": "code",
   "execution_count": 15,
   "metadata": {},
   "outputs": [
    {
     "name": "stdout",
     "output_type": "stream",
     "text": [
      "Sentence: \"The dog ate the apple\"\n",
      "    Targets     : [0, 1, 2, 0, 1]\n",
      "    Predictions : [2, 2, 2, 2, 2]\n",
      "Sentence: \"Everybody read that book\"\n",
      "    Targets     : [1, 2, 0, 1]\n",
      "    Predictions : [2, 2, 2, 0]\n",
      "Sentence: \"The apple ate the book\"\n",
      "    Targets     : [0, 1, 2, 0, 1]\n",
      "    Predictions : [2, 2, 0, 2, 2]\n",
      "Sentence: \"Everybody read the apple\"\n",
      "    Targets     : [1, 2, 0, 1]\n",
      "    Predictions : [2, 2, 2, 2]\n"
     ]
    }
   ],
   "source": [
    "# Get the prediction evaluation results\n",
    "for sentence, result in evaluation_results.items():\n",
    "    print(f'Sentence: \"{sentence}\"')\n",
    "    targets = result['targets']\n",
    "    predictions = result['predictions']\n",
    "    print(f'    Targets     : {targets}')\n",
    "    print(f'    Predictions : {predictions}')"
   ]
  },
  {
   "cell_type": "code",
   "execution_count": 16,
   "metadata": {},
   "outputs": [
    {
     "name": "stdout",
     "output_type": "stream",
     "text": [
      "Accuracy of the Model: 16.6667%\n"
     ]
    }
   ],
   "source": [
    "# Compute the accuracy of the model\n",
    "correct_predictions = 0\n",
    "total_predictions = 0\n",
    "for sentence, result in evaluation_results.items():\n",
    "    targets = result['targets']\n",
    "    predictions = result['predictions']\n",
    "\n",
    "    correct_predictions += (\n",
    "        (np.array(targets) == np.array(predictions)).sum()\n",
    "    )\n",
    "    total_predictions += len(predictions)\n",
    "\n",
    "accuracy_score = correct_predictions / total_predictions\n",
    "print(f'Accuracy of the Model: {(accuracy_score * 100):.4f}%')"
   ]
  },
  {
   "cell_type": "code",
   "execution_count": 17,
   "metadata": {},
   "outputs": [],
   "source": [
    "# Compile the lstm model to a static representation\n",
    "lstm_script = torch.jit.script(lstm_tagger)\n",
    "\n",
    "# Save the model script locally for future use\n",
    "lstm_script.save('../models/04_lstm_tagger.pt')"
   ]
  },
  {
   "cell_type": "markdown",
   "metadata": {},
   "source": [
    "### Data Manipulation Layers\n",
    "\n",
    "These layers do not participate in the learning process but are essential for manipulating tensors, such as:\n",
    "\n",
    "- Average/Max pooling layers\n",
    "- Normalization layers\n",
    "- Dropout layers\n"
   ]
  },
  {
   "cell_type": "code",
   "execution_count": 18,
   "metadata": {},
   "outputs": [
    {
     "name": "stdout",
     "output_type": "stream",
     "text": [
      "Tensor 0:\n",
      "tensor([[[0.4883, 0.7802, 0.8986, 0.4246, 0.6247, 0.2626],\n",
      "         [0.4821, 0.7871, 0.1628, 0.8893, 0.3991, 0.9301],\n",
      "         [0.7977, 0.8913, 0.3792, 0.1123, 0.3713, 0.8193],\n",
      "         [0.4779, 0.5640, 0.6998, 0.9069, 0.3870, 0.6736],\n",
      "         [0.6964, 0.5918, 0.6428, 0.2706, 0.2646, 0.8369],\n",
      "         [0.5744, 0.5640, 0.8745, 0.9259, 0.4534, 0.1471]]])\n",
      "\n",
      "Average-Pooled Tensor:\n",
      "tensor([[[0.6297, 0.5370],\n",
      "         [0.6317, 0.5407]]])\n",
      "\n",
      "Max-Pooled Tensor:\n",
      "tensor([[[0.8986, 0.9301],\n",
      "         [0.8745, 0.9259]]])\n"
     ]
    }
   ],
   "source": [
    "# Define a tensor\n",
    "tensor_0 = torch.rand(1, 6, 6)\n",
    "print(f'Tensor 0:\\n{tensor_0}')\n",
    "\n",
    "# Create pooling layers\n",
    "avg_pooling_layer = torch.nn.AvgPool2d(3)\n",
    "max_pooling_layer = torch.nn.MaxPool2d(3)\n",
    "print(f'\\nAverage-Pooled Tensor:\\n{avg_pooling_layer(tensor_0)}')\n",
    "print(f'\\nMax-Pooled Tensor:\\n{max_pooling_layer(tensor_0)}')"
   ]
  },
  {
   "cell_type": "code",
   "execution_count": 19,
   "metadata": {},
   "outputs": [
    {
     "name": "stdout",
     "output_type": "stream",
     "text": [
      "Tensor 0:\n",
      "tensor([[[0.4883, 0.7802, 0.8986, 0.4246, 0.6247, 0.2626],\n",
      "         [0.4821, 0.7871, 0.1628, 0.8893, 0.3991, 0.9301],\n",
      "         [0.7977, 0.8913, 0.3792, 0.1123, 0.3713, 0.8193],\n",
      "         [0.4779, 0.5640, 0.6998, 0.9069, 0.3870, 0.6736],\n",
      "         [0.6964, 0.5918, 0.6428, 0.2706, 0.2646, 0.8369],\n",
      "         [0.5744, 0.5640, 0.8745, 0.9259, 0.4534, 0.1471]]])\n",
      "\n",
      "Average-Pooled Tensor (manual):\n",
      "tensor([[[0.6297, 0.5370],\n",
      "         [0.6317, 0.5407]]])\n",
      "Is it the same?: True\n",
      "\n",
      "Max-Pooled Tensor (manual):\n",
      "tensor([[[0.8986, 0.9301],\n",
      "         [0.8745, 0.9259]]])\n",
      "Is it the same?: True\n"
     ]
    }
   ],
   "source": [
    "# Set the kernel size\n",
    "kernel_size = 3\n",
    "\n",
    "# Compute the dimensions of the output tensor\n",
    "_, H, W = tensor_0.size()\n",
    "H_out, W_out = H // kernel_size, W // kernel_size\n",
    "\n",
    "# Setup pooled tensors\n",
    "avgs = torch.zeros(1, H_out, W_out)\n",
    "maxs = torch.zeros(1, H_out, W_out)\n",
    "\n",
    "for i in range(H_out):\n",
    "    for j in range(W_out):\n",
    "        # Extract the current (kernel_size x kernel_size) window\n",
    "        window = tensor_0[\n",
    "            0,\n",
    "            (i * kernel_size) : ((i + 1) * kernel_size),\n",
    "            (j * kernel_size) : ((j + 1) * kernel_size),\n",
    "        ]\n",
    "\n",
    "        # Calculate the average and\n",
    "        # max values of the window\n",
    "        avgs[0, i, j] = window.mean()\n",
    "        maxs[0, i, j] = window.max()\n",
    "\n",
    "# Print the manually computed tensors\n",
    "print(f'Tensor 0:\\n{tensor_0}')\n",
    "print(f'\\nAverage-Pooled Tensor (manual):\\n{avgs}')\n",
    "print(f'Is it the same?: {torch.allclose(avg_pooling_layer(tensor_0), avgs)}')\n",
    "print(f'\\nMax-Pooled Tensor (manual):\\n{maxs}')\n",
    "print(f'Is it the same?: {torch.allclose(max_pooling_layer(tensor_0), maxs)}')"
   ]
  },
  {
   "cell_type": "code",
   "execution_count": 20,
   "metadata": {},
   "outputs": [
    {
     "name": "stdout",
     "output_type": "stream",
     "text": [
      "Tensor 1:\n",
      "tensor([[[14.8703,  7.7731, 18.3036, 24.2310],\n",
      "         [16.5612,  7.5037,  7.8836, 15.8946],\n",
      "         [19.8640,  6.3447, 23.5647, 21.0632],\n",
      "         [18.4379, 23.8687, 18.6758, 23.5293]]])\n",
      "Mean : 16.773090362548828\n",
      "Std  : 6.290563583374023\n",
      "\n",
      "Normalized Tensor:\n",
      "tensor([[[-0.2393, -1.4319,  0.3376,  1.3336],\n",
      "         [ 1.0759, -1.0424, -0.9536,  0.9200],\n",
      "         [ 0.3218, -1.6973,  0.8745,  0.5009],\n",
      "         [-1.0446,  1.0643, -0.9522,  0.9325]]],\n",
      "       grad_fn=<NativeBatchNormBackward0>)\n",
      "Mean : 5.21540641784668e-08\n",
      "Std  : 1.0327953100204468\n"
     ]
    }
   ],
   "source": [
    "# Define another tensor\n",
    "tensor_1 = torch.rand(1, 4, 4) * 20 + 5\n",
    "print(f'Tensor 1:\\n{tensor_1}')\n",
    "print(f'Mean : {tensor_1.mean()}')\n",
    "print(f'Std  : {tensor_1.std()}')\n",
    "\n",
    "# Setup a normalization layer\n",
    "normalization_layer = torch.nn.BatchNorm1d(4)\n",
    "normalized_tensor = normalization_layer(tensor_1)\n",
    "print(f'\\nNormalized Tensor:\\n{normalized_tensor}')\n",
    "print(f'Mean : {normalized_tensor.mean()}')\n",
    "print(f'Std  : {normalized_tensor.std()}')"
   ]
  },
  {
   "cell_type": "markdown",
   "metadata": {},
   "source": [
    "The normalized tensor has mean equal to 0 and standard deviation equal to 1 (approximately).\n"
   ]
  },
  {
   "cell_type": "code",
   "execution_count": 21,
   "metadata": {},
   "outputs": [
    {
     "name": "stdout",
     "output_type": "stream",
     "text": [
      "Tensor 2:\n",
      "tensor([[[0.1134, 0.4181, 0.7097, 0.3257],\n",
      "         [0.2017, 0.4246, 0.6883, 0.2547],\n",
      "         [0.6413, 0.0161, 0.3358, 0.7860],\n",
      "         [0.3040, 0.0386, 0.0495, 0.6406]]])\n",
      "\n",
      "Dropout (p=0.4):\n",
      "tensor([[[0.0000, 0.0000, 1.1828, 0.5429],\n",
      "         [0.3361, 0.0000, 1.1472, 0.4245],\n",
      "         [1.0688, 0.0268, 0.0000, 1.3100],\n",
      "         [0.0000, 0.0643, 0.0825, 0.0000]]])\n",
      "\n",
      "Dropout (p=1.0):\n",
      "tensor([[[0., 0., 0., 0.],\n",
      "         [0., 0., 0., 0.],\n",
      "         [0., 0., 0., 0.],\n",
      "         [0., 0., 0., 0.]]])\n"
     ]
    }
   ],
   "source": [
    "# Define a third tensor\n",
    "tensor_2 = torch.rand(1, 4, 4)\n",
    "print(f'Tensor 2:\\n{tensor_2}')\n",
    "\n",
    "# Create a dropout layers\n",
    "dropout_layer_1 = torch.nn.Dropout(p=0.4)\n",
    "print(f'\\nDropout (p=0.4):\\n{dropout_layer_1(tensor_2)}')\n",
    "\n",
    "dropout_layer_2 = torch.nn.Dropout(p=1.0)\n",
    "print(f'\\nDropout (p=1.0):\\n{dropout_layer_2(tensor_2)}')"
   ]
  },
  {
   "cell_type": "markdown",
   "metadata": {},
   "source": [
    "These create sparse representations of the tensor based on the probability value.\n"
   ]
  },
  {
   "cell_type": "code",
   "execution_count": null,
   "metadata": {},
   "outputs": [],
   "source": []
  }
 ],
 "metadata": {
  "kernelspec": {
   "display_name": "base",
   "language": "python",
   "name": "python3"
  },
  "language_info": {
   "codemirror_mode": {
    "name": "ipython",
    "version": 3
   },
   "file_extension": ".py",
   "mimetype": "text/x-python",
   "name": "python",
   "nbconvert_exporter": "python",
   "pygments_lexer": "ipython3",
   "version": "3.10.13"
  }
 },
 "nbformat": 4,
 "nbformat_minor": 2
}
