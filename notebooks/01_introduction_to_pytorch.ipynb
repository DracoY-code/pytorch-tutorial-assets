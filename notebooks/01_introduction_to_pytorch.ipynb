{
 "cells": [
  {
   "cell_type": "markdown",
   "metadata": {},
   "source": [
    "# Introduction to PyTorch\n",
    "\n",
    "This notebook is referenced from the first video in the [PyTorch Beginner Series](https://www.youtube.com/playlist?list=PL_lsbAsL_o2CTlGHgMxNrKhzP97BaG9ZN) by Brad Heintz on YouTube. The video focuses on the basic concepts in PyTorch that are used to handle several deep learning tasks and demonstrates how these concepts come together to make PyTorch a robust machine learning framework. You can find the notebook associated with the video [here](https://pytorch.org/tutorials/beginner/introyt/introyt1_tutorial.html).\n"
   ]
  },
  {
   "cell_type": "code",
   "execution_count": 1,
   "metadata": {},
   "outputs": [
    {
     "name": "stdout",
     "output_type": "stream",
     "text": [
      "PyTorch version installed: 2.3.1\n"
     ]
    }
   ],
   "source": [
    "# Import PyTorch\n",
    "import torch\n",
    "\n",
    "# Check the installed PyTorch version\n",
    "print(f'PyTorch version installed: {torch.__version__}')"
   ]
  },
  {
   "cell_type": "code",
   "execution_count": 2,
   "metadata": {},
   "outputs": [],
   "source": [
    "def check_available_devices() -> None:\n",
    "    \"\"\"Prints the available computing devices (CPU and CUDA GPUs) on the system.\"\"\"\n",
    "    # Check if CUDA GPUs are available\n",
    "    cuda_available = torch.cuda.is_available()\n",
    "    print(f'CUDA GPUs available: {cuda_available}')\n",
    "\n",
    "    # If CUDA is available, list all the available CUDA devices\n",
    "    if cuda_available:\n",
    "        num_devices = torch.cuda.device_count()\n",
    "        print(f'Number of CUDA devices: {num_devices}')\n",
    "        \n",
    "        for device_id in range(num_devices):\n",
    "            device_name = torch.cuda.get_device_name(device_id)\n",
    "            print(f' - Device {device_id}: {device_name}')\n",
    "\n",
    "    # List the CPU\n",
    "    cpu_device = torch.device('cpu')\n",
    "    print(f'CPU device: {cpu_device}')"
   ]
  },
  {
   "cell_type": "code",
   "execution_count": 3,
   "metadata": {},
   "outputs": [
    {
     "name": "stdout",
     "output_type": "stream",
     "text": [
      "CUDA GPUs available: True\n",
      "Number of CUDA devices: 1\n",
      " - Device 0: NVIDIA GeForce RTX 3050 Laptop GPU\n",
      "CPU device: cpu\n"
     ]
    }
   ],
   "source": [
    "# Check for all available devices\n",
    "check_available_devices()"
   ]
  },
  {
   "cell_type": "code",
   "execution_count": 4,
   "metadata": {},
   "outputs": [],
   "source": [
    "def print_tensor_metadata(tensor: torch.Tensor) -> None:\n",
    "    \"\"\"\n",
    "    Prints the metadata (e.g., dtype, shape, etc.) of the input tensor.\n",
    "\n",
    "    Args:\n",
    "        tensor (Tensor): The input PyTorch tensor.\n",
    "    \"\"\"\n",
    "    print(f'The input tensor is:\\n{tensor}\\n')\n",
    "    print(f'The dtype of the tensor is               : {tensor.dtype}')\n",
    "    print(f'The shape of the tensor is               : {tensor.shape}')\n",
    "    print(f'The device on which the tensor is stored : {tensor.device}')\n",
    "    print(f'The tensor requires gradient computation : {tensor.requires_grad}')"
   ]
  },
  {
   "cell_type": "code",
   "execution_count": 5,
   "metadata": {},
   "outputs": [
    {
     "name": "stdout",
     "output_type": "stream",
     "text": [
      "The input tensor is:\n",
      "tensor([[0., 0., 0.],\n",
      "        [0., 0., 0.],\n",
      "        [0., 0., 0.],\n",
      "        [0., 0., 0.],\n",
      "        [0., 0., 0.]])\n",
      "\n",
      "The dtype of the tensor is               : torch.float32\n",
      "The shape of the tensor is               : torch.Size([5, 3])\n",
      "The device on which the tensor is stored : cpu\n",
      "The tensor requires gradient computation : False\n"
     ]
    }
   ],
   "source": [
    "# Create a tensor with zero values\n",
    "z = torch.zeros(5, 3)\n",
    "print_tensor_metadata(z)"
   ]
  },
  {
   "cell_type": "code",
   "execution_count": 6,
   "metadata": {},
   "outputs": [
    {
     "name": "stdout",
     "output_type": "stream",
     "text": [
      "The input tensor is:\n",
      "tensor([[1, 1, 1],\n",
      "        [1, 1, 1],\n",
      "        [1, 1, 1],\n",
      "        [1, 1, 1],\n",
      "        [1, 1, 1]], dtype=torch.int16)\n",
      "\n",
      "The dtype of the tensor is               : torch.int16\n",
      "The shape of the tensor is               : torch.Size([5, 3])\n",
      "The device on which the tensor is stored : cpu\n",
      "The tensor requires gradient computation : False\n"
     ]
    }
   ],
   "source": [
    "# Create a tensor of ones as integers\n",
    "i = torch.ones((5, 3), dtype=torch.int16)\n",
    "print_tensor_metadata(i)"
   ]
  },
  {
   "cell_type": "code",
   "execution_count": null,
   "metadata": {},
   "outputs": [],
   "source": []
  }
 ],
 "metadata": {
  "kernelspec": {
   "display_name": "base",
   "language": "python",
   "name": "python3"
  },
  "language_info": {
   "codemirror_mode": {
    "name": "ipython",
    "version": 3
   },
   "file_extension": ".py",
   "mimetype": "text/x-python",
   "name": "python",
   "nbconvert_exporter": "python",
   "pygments_lexer": "ipython3",
   "version": "3.11.9"
  }
 },
 "nbformat": 4,
 "nbformat_minor": 2
}
