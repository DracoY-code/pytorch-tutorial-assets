{
 "cells": [
  {
   "cell_type": "markdown",
   "metadata": {},
   "source": [
    "# Introduction to PyTorch\n",
    "\n",
    "This notebook is referenced from the first video in the [PyTorch Beginner Series](https://www.youtube.com/playlist?list=PL_lsbAsL_o2CTlGHgMxNrKhzP97BaG9ZN) by Brad Heintz on YouTube. The video focuses on the basic concepts in PyTorch that are used to handle several deep learning tasks and demonstrates how these concepts come together to make PyTorch a robust machine learning framework. You can find the notebook associated with the video [here](https://pytorch.org/tutorials/beginner/introyt/introyt1_tutorial.html).\n"
   ]
  },
  {
   "cell_type": "code",
   "execution_count": 1,
   "metadata": {},
   "outputs": [
    {
     "name": "stdout",
     "output_type": "stream",
     "text": [
      "PyTorch version installed: 2.3.1\n"
     ]
    }
   ],
   "source": [
    "# Import PyTorch\n",
    "import torch\n",
    "\n",
    "# Check the installed PyTorch version\n",
    "print(f'PyTorch version installed: {torch.__version__}')"
   ]
  },
  {
   "cell_type": "code",
   "execution_count": 2,
   "metadata": {},
   "outputs": [],
   "source": [
    "def check_available_devices() -> None:\n",
    "    \"\"\"Prints the available computing devices (CPU and CUDA GPUs) on the system.\"\"\"\n",
    "    # Check if CUDA GPUs are available\n",
    "    cuda_available = torch.cuda.is_available()\n",
    "    print(f'CUDA GPUs available: {cuda_available}')\n",
    "\n",
    "    # If CUDA is available, list all the available CUDA devices\n",
    "    if cuda_available:\n",
    "        num_devices = torch.cuda.device_count()\n",
    "        print(f'Number of CUDA devices: {num_devices}')\n",
    "        \n",
    "        for device_id in range(num_devices):\n",
    "            device_name = torch.cuda.get_device_name(device_id)\n",
    "            print(f' - Device {device_id}: {device_name}')\n",
    "\n",
    "    # List the CPU\n",
    "    cpu_device = torch.device('cpu')\n",
    "    print(f'CPU device: {cpu_device}')"
   ]
  },
  {
   "cell_type": "code",
   "execution_count": 3,
   "metadata": {},
   "outputs": [
    {
     "name": "stdout",
     "output_type": "stream",
     "text": [
      "CUDA GPUs available: True\n",
      "Number of CUDA devices: 1\n",
      " - Device 0: NVIDIA GeForce RTX 3050 Laptop GPU\n",
      "CPU device: cpu\n"
     ]
    }
   ],
   "source": [
    "# Check for all available devices\n",
    "check_available_devices()"
   ]
  },
  {
   "cell_type": "markdown",
   "metadata": {},
   "source": [
    "## Working with Tensors\n",
    "\n",
    "Tensors are essentially n-dimensional arrays that serve as the primary units of computations in deep neural networks.\n"
   ]
  },
  {
   "cell_type": "code",
   "execution_count": 4,
   "metadata": {},
   "outputs": [],
   "source": [
    "from torch import Tensor\n",
    "\n",
    "def print_tensor_metadata(tensor: Tensor) -> None:\n",
    "    \"\"\"\n",
    "    Prints the metadata (e.g., dtype, shape, etc.) of the input tensor.\n",
    "\n",
    "    Args:\n",
    "        tensor (Tensor): The input PyTorch tensor.\n",
    "    \"\"\"\n",
    "    print(f'The input tensor is:\\n{tensor}\\n')\n",
    "    print(f'The dtype of the tensor is               : {tensor.dtype}')\n",
    "    print(f'The shape of the tensor is               : {tensor.shape}')\n",
    "    print(f'The device on which the tensor is stored : {tensor.device}')\n",
    "    print(f'The tensor requires gradient computation : {tensor.requires_grad}')"
   ]
  },
  {
   "cell_type": "code",
   "execution_count": 5,
   "metadata": {},
   "outputs": [
    {
     "name": "stdout",
     "output_type": "stream",
     "text": [
      "The input tensor is:\n",
      "tensor([[0., 0., 0.],\n",
      "        [0., 0., 0.],\n",
      "        [0., 0., 0.],\n",
      "        [0., 0., 0.],\n",
      "        [0., 0., 0.]])\n",
      "\n",
      "The dtype of the tensor is               : torch.float32\n",
      "The shape of the tensor is               : torch.Size([5, 3])\n",
      "The device on which the tensor is stored : cpu\n",
      "The tensor requires gradient computation : False\n"
     ]
    }
   ],
   "source": [
    "# Create a tensor with zero values\n",
    "z = torch.zeros(5, 3)\n",
    "print_tensor_metadata(z)"
   ]
  },
  {
   "cell_type": "code",
   "execution_count": 6,
   "metadata": {},
   "outputs": [
    {
     "name": "stdout",
     "output_type": "stream",
     "text": [
      "The input tensor is:\n",
      "tensor([[1, 1, 1],\n",
      "        [1, 1, 1],\n",
      "        [1, 1, 1],\n",
      "        [1, 1, 1],\n",
      "        [1, 1, 1]], dtype=torch.int16)\n",
      "\n",
      "The dtype of the tensor is               : torch.int16\n",
      "The shape of the tensor is               : torch.Size([5, 3])\n",
      "The device on which the tensor is stored : cpu\n",
      "The tensor requires gradient computation : False\n"
     ]
    }
   ],
   "source": [
    "# Create a tensor of ones as integers\n",
    "i = torch.ones((5, 3), dtype=torch.int16)\n",
    "print_tensor_metadata(i)"
   ]
  },
  {
   "cell_type": "code",
   "execution_count": 7,
   "metadata": {},
   "outputs": [],
   "source": [
    "from typing import Optional, Sequence, Union\n",
    "from torch import SymInt, Tensor\n",
    "from torch.types import _bool, _dtype, _int, _layout, Device\n",
    "\n",
    "def create_random_tensor(\n",
    "    size: Sequence[Union[_int, SymInt]],\n",
    "    *,\n",
    "    out: Optional[Tensor] = None,\n",
    "    dtype: Optional[_dtype] = None,\n",
    "    layout: Optional[_layout] = None,\n",
    "    device: Optional[Device] = None,\n",
    "    pin_memory: Optional[_bool] = False,\n",
    "    requires_grad: Optional[_bool] = False,\n",
    "    seed: Optional[int] = None,\n",
    ") -> Tensor:\n",
    "    \"\"\"\n",
    "    Returns a tensor filled with random values with the shape defined by\n",
    "    the variable argument `size`.\n",
    "\n",
    "    Args:\n",
    "        size (Sequence[Union[_int, SymInt]]):\n",
    "            Shape of the output tensor.\n",
    "        out (Optional[Tensor], optional):\n",
    "            Output tensor. Defaults to None.\n",
    "        dtype (Optional[_dtype], optional):\n",
    "            Desired data type of the returned tensor.\n",
    "            Defaults to None.\n",
    "        layout (Optional[_layout], optional):\n",
    "            Desired layout of the returned tensor.\n",
    "            Defaults to None.\n",
    "        device (Optional[Device], optional):\n",
    "            Desired device of the returned tensor.\n",
    "            Defaults to None.\n",
    "        pin_memory (Optional[_bool], optional):\n",
    "            If set, returned tensor would be allocated in pinned memory.\n",
    "            Defaults to False.\n",
    "        requires_grad (Optional[_bool], optional):\n",
    "            If autograd should record operations on the returned tensor.\n",
    "            Defaults to False.\n",
    "        seed (Optional[int], optional):\n",
    "            Seed for the random number generator.\n",
    "            Defaults to None.\n",
    "\n",
    "    Returns:\n",
    "        Tensor: A tensor filled with random values.\n",
    "    \"\"\"\n",
    "    # Set the random seed\n",
    "    if seed is not None:\n",
    "        torch.manual_seed(seed)\n",
    "\n",
    "    # Generate the random tensor\n",
    "    rand_tensor = torch.rand(\n",
    "        size,\n",
    "        out=out,\n",
    "        dtype=dtype,\n",
    "        layout=layout,\n",
    "        device=device,\n",
    "        pin_memory=pin_memory,\n",
    "        requires_grad=requires_grad,\n",
    "    )\n",
    "\n",
    "    return rand_tensor"
   ]
  },
  {
   "cell_type": "code",
   "execution_count": 8,
   "metadata": {},
   "outputs": [
    {
     "name": "stdout",
     "output_type": "stream",
     "text": [
      "Random tensor with random seed:\n",
      "tensor([[0.3126, 0.3791],\n",
      "        [0.3087, 0.0736]])\n",
      "\n",
      "Random tensor without a seed:\n",
      "tensor([[0.4216, 0.0691],\n",
      "        [0.2332, 0.4047]])\n",
      "\n",
      "Random tensor after reseeding:\n",
      "tensor([[0.3126, 0.3791],\n",
      "        [0.3087, 0.0736]])\n"
     ]
    }
   ],
   "source": [
    "# Create a random tensor with seed=1729\n",
    "print('Random tensor with random seed:')\n",
    "print(create_random_tensor(size=(2, 2), seed=1729))\n",
    "\n",
    "# Create a random tensor without the seed\n",
    "print('\\nRandom tensor without a seed:')\n",
    "print(create_random_tensor(size=(2, 2)))\n",
    "\n",
    "# Create a random tensor by reseeding the function\n",
    "print('\\nRandom tensor after reseeding:')\n",
    "print(create_random_tensor(size=(2, 2), seed=1729))"
   ]
  },
  {
   "cell_type": "code",
   "execution_count": 9,
   "metadata": {},
   "outputs": [
    {
     "name": "stdout",
     "output_type": "stream",
     "text": [
      "tensor([[1., 1., 1.],\n",
      "        [1., 1., 1.]])\n",
      "\t+\n",
      "tensor([[2., 2., 2.],\n",
      "        [2., 2., 2.]])\n",
      "\t=\n",
      "tensor([[3., 3., 3.],\n",
      "        [3., 3., 3.]])\n"
     ]
    }
   ],
   "source": [
    "# Perform element-wise arithmetic operations\n",
    "ones = torch.ones(2, 3)\n",
    "twos = torch.ones(2, 3) * 2\n",
    "threes = ones + twos\n",
    "print(f'{ones}\\n\\t+\\n{twos}\\n\\t=\\n{threes}')"
   ]
  },
  {
   "cell_type": "code",
   "execution_count": 10,
   "metadata": {},
   "outputs": [
    {
     "name": "stdout",
     "output_type": "stream",
     "text": [
      "The random matrix, r:\n",
      "tensor([[-0.1568, -0.8619],\n",
      "        [-0.5336, -0.1907]])\n",
      "\n",
      "Absolute value of r:\n",
      "tensor([[0.1568, 0.8619],\n",
      "        [0.5336, 0.1907]])\n",
      "\n",
      "Inverse sine of r:\n",
      "tensor([[-0.1574, -1.0390],\n",
      "        [-0.5628, -0.1919]])\n",
      "\n",
      "Determinant of r:\n",
      "-0.4299735724925995\n",
      "\n",
      "Singular value decomposition of r:\n",
      "torch.return_types.svd(\n",
      "U=tensor([[-0.9135, -0.4069],\n",
      "        [-0.4069,  0.9135]]),\n",
      "S=tensor([0.9370, 0.4589]),\n",
      "V=tensor([[ 0.3846, -0.9231],\n",
      "        [ 0.9231,  0.3846]]))\n",
      "\n",
      "Standard deviation and average of r:\n",
      "(tensor(0.3312), tensor(-0.4357))\n",
      "\n",
      "Maximum value of r:\n",
      "-0.15679681301116943\n"
     ]
    }
   ],
   "source": [
    "# Using in-built mathematical tensor operations\n",
    "r = (torch.rand(2, 2) - 0.5) * 2\n",
    "print(f'The random matrix, r:\\n{r}')\n",
    "print(f'\\nAbsolute value of r:\\n{torch.abs(r)}')\n",
    "print(f'\\nInverse sine of r:\\n{torch.asin(r)}')\n",
    "print(f'\\nDeterminant of r:\\n{torch.det(r)}')\n",
    "print(f'\\nSingular value decomposition of r:\\n{torch.svd(r)}')\n",
    "print(f'\\nStandard deviation and average of r:\\n{torch.std_mean(r)}')\n",
    "print(f'\\nMaximum value of r:\\n{torch.max(r)}')"
   ]
  },
  {
   "cell_type": "markdown",
   "metadata": {},
   "source": [
    "## Understanding Autograd\n",
    "\n",
    "Autograd provides an automatic differentiation engine for all operations on tensors.\n",
    "\n",
    "Some important concepts related to Autograd are as follows:\n",
    "\n",
    "- _Automatic differentiation_ involves automating the computation of gradients of tensor operations.\n",
    "- PyTorch builds a dynamic _computational graph_ when performing operations on tensors.\n",
    "- The generated computational graph is _dynamic_ in nature which allows for more flexibility.\n"
   ]
  },
  {
   "cell_type": "code",
   "execution_count": 11,
   "metadata": {},
   "outputs": [
    {
     "name": "stdout",
     "output_type": "stream",
     "text": [
      "The input tensor:\n",
      "tensor([[0.2162, 0.9927, 0.4128, 0.5938, 0.6128, 0.1519, 0.0453, 0.5035, 0.9978,\n",
      "         0.3884]], requires_grad=True)\n",
      "\n",
      "The previous hidden state:\n",
      "tensor([[0.6929, 0.1703, 0.1384, 0.4759, 0.7481, 0.0361, 0.5062, 0.8469, 0.2588,\n",
      "         0.2707, 0.4115, 0.6839, 0.0703, 0.5105, 0.9451, 0.2359, 0.1979, 0.3327,\n",
      "         0.6146, 0.5999]], requires_grad=True)\n",
      "\n",
      "Shape of the input tensor                 : torch.Size([1, 10])\n",
      "Shape of the previous hidden state        : torch.Size([1, 20])\n",
      "Shape of the output of i2h transformation : torch.Size([20, 1])\n",
      "Shape of the output of h2h transformation : torch.Size([20, 1])\n",
      "Shape of the activated next hidden state  : torch.Size([20, 1])\n",
      "\n",
      "The computed loss is: 19.999900817871094\n",
      "\n",
      "Gradient of the input tensor:\n",
      "tensor([[1.2354e-04, 4.3917e-05, 9.7379e-05, 1.4471e-04, 1.0433e-04, 9.2043e-05,\n",
      "         8.5061e-05, 1.0279e-04, 7.5951e-05, 9.8666e-05]])\n",
      "\n",
      "Gradient of the previous hidden state:\n",
      "tensor([[1.0014e-04, 7.4527e-05, 9.4934e-05, 9.4383e-05, 8.4852e-05, 1.1818e-04,\n",
      "         7.3936e-05, 6.0930e-05, 1.1172e-04, 8.7612e-05, 9.7185e-05, 8.4096e-05,\n",
      "         8.9409e-05, 7.7469e-05, 1.0531e-04, 6.8675e-05, 9.7953e-05, 8.5896e-05,\n",
      "         8.9100e-05, 9.0757e-05]])\n"
     ]
    }
   ],
   "source": [
    "# Build a simple RNN model\n",
    "x = torch.rand(\n",
    "    1, 10, requires_grad=True,\n",
    ")                                   # Input tensor\n",
    "prev_h = torch.rand(\n",
    "    1, 20, requires_grad=True,\n",
    ")                                   # Previous hidden state\n",
    "W_x = torch.rand(20, 10)            # Weights for the input layer\n",
    "W_h = torch.rand(20, 20)            # Weights for the hidden layer\n",
    "print(f'The input tensor:\\n{x}\\n')\n",
    "print(f'The previous hidden state:\\n{prev_h}\\n')\n",
    "\n",
    "# Print the shapes\n",
    "print(f'Shape of the input tensor                 : {x.shape}')\n",
    "print(f'Shape of the previous hidden state        : {prev_h.shape}')\n",
    "\n",
    "# Matrix multiplication of weights\n",
    "# with their respective tensors\n",
    "i2h = torch.mm(W_x, x.t())          # Transform input to hidden state contribution\n",
    "h2h = torch.mm(W_h, prev_h.t())     # Transform previous to new hidden state contibution\n",
    "print(f'Shape of the output of i2h transformation : {i2h.shape}')\n",
    "print(f'Shape of the output of h2h transformation : {h2h.shape}')\n",
    "\n",
    "# Accumulate the outputs and\n",
    "# apply an activation function\n",
    "next_h = i2h + h2h                  # Combine input and hidden state contributions\n",
    "next_h = next_h.tanh()              # Apply tanh activation function\n",
    "print(f'Shape of the activated next hidden state  : {next_h.shape}\\n')\n",
    "\n",
    "# Compute the loss and allow the\n",
    "# computation of gradients wrt\n",
    "# the input tensors\n",
    "loss = next_h.sum()                 # Compute loss as sum of all elements in next_h\n",
    "loss.backward()                     # Perform backpropagation to compute gradients\n",
    "print(f'The computed loss is: {loss}\\n')\n",
    "\n",
    "# Print the gradients\n",
    "print(f'Gradient of the input tensor:\\n{x.grad}\\n')\n",
    "print(f'Gradient of the previous hidden state:\\n{prev_h.grad}')\n",
    "\n",
    "# These gradients then can be used\n",
    "# to optimize the weights such that\n",
    "# the loss is minimized"
   ]
  },
  {
   "cell_type": "markdown",
   "metadata": {},
   "source": [
    "The computation graph built for this model at run time can be seen [here](https://youtu.be/IC0_FRiX-sw?list=PL_lsbAsL_o2CTlGHgMxNrKhzP97BaG9ZN&t=588).\n"
   ]
  },
  {
   "cell_type": "markdown",
   "metadata": {},
   "source": [
    "## Building Models in PyTorch\n",
    "\n",
    "All models in PyTorch are built by subclassing the `torch.nn.Module` class.\n",
    "\n",
    "The architecture for the LeNet-5 CNN model:\n",
    "\n",
    "![LeNet-5 architecture](https://miro.medium.com/v2/resize:fit:2000/1*1TI1aGBZ4dybR6__DI9dzA.png)\n",
    "\n",
    "- **Input Layer:** Takes a 32x32 grayscale image of digits from the MNIST dataset.\n",
    "- **First Convolutional Layer (C1):** Applies 6 convolutional filters of size 5x5 to the input image, resulting in six 28x28 feature (activation) maps.\n",
    "- **First Subsampling Layer (S2):** Applies average pooling with a 2x2 filter and a stride of 2 to the six 28x28 feature maps, resulting in six 14x14 feature maps.\n",
    "- **Second Convolutional Layer (C3):** Applies 16 convolutional filters of size 5x5 to the 14x14 feature maps, resulting in sixteen 10x10 feature maps.\n",
    "- **Second Subsampling Layer (S4):** Applies average pooling with a 2x2 filter and a stride of 2 to the sixteen 10x10 feature maps, resulting in sixteen 5x5 feature maps.\n",
    "- **First Fully-Connected Layer (C5):** Flattens the sixteen 5x5 feature maps, resulting in 120 1x1 feature maps (i.e., a 120-dimensional vector).\n",
    "- **Second Fully-Connected Layer (F6):** A fully-connected layer with 84 units (neurons), where each unit is connected to the 120-dimensional vector.\n",
    "- **Output Layer:** A fully-connected layer with 10 units, where each unit corresponds to one of the 10 digit classes (0-9). This layer outputs the prediction probabilities using a softmax activation function.\n"
   ]
  },
  {
   "cell_type": "code",
   "execution_count": 12,
   "metadata": {},
   "outputs": [],
   "source": [
    "import torch.nn as nn\n",
    "import torch.nn.functional as F\n",
    "from torch import Tensor\n",
    "\n",
    "class LeNet(nn.Module):\n",
    "    \"\"\"Convolutional neural network (CNN) referenced from the LeNet-5 architecture.\"\"\"\n",
    "    \n",
    "    def __init__(self) -> None:\n",
    "        # Instantiate the parent class\n",
    "        super(LeNet, self).__init__()\n",
    "\n",
    "        # First convolutional layer (C1):\n",
    "        # - 1 input channel (black & white)\n",
    "        # - 6 output channels\n",
    "        # - 5x5 convolution kernel\n",
    "        self.conv1 = nn.Conv2d(1, 6, 5)\n",
    "\n",
    "        # First subsampling layer (S2):\n",
    "        # - 2x2 kernel size\n",
    "        # - 2 stride\n",
    "        self.pool1 = nn.AvgPool2d(2, stride=2)\n",
    "\n",
    "        # Second convolutional layer (C3):\n",
    "        # - 6 input channels\n",
    "        # - 16 output channels\n",
    "        # - 5x5 convolution kernel\n",
    "        self.conv2 = nn.Conv2d(6, 16, 5)\n",
    "\n",
    "        # Second subsampling layer (S4)\n",
    "        # - 2x2 kernel size\n",
    "        # - 2 stride\n",
    "        self.pool2 = nn.AvgPool2d(2, stride=2)\n",
    "\n",
    "        # First fully-connected layer (C5)\n",
    "        self.fc1 = nn.Linear(16 * 5 * 5, 120)\n",
    "\n",
    "        # Second fully-connected layer (F6)\n",
    "        self.fc2 = nn.Linear(120, 84)\n",
    "\n",
    "        # Output layer\n",
    "        self.fc3 = nn.Linear(84, 10)\n",
    "\n",
    "    def forward(self, x: Tensor) -> Tensor:\n",
    "        \"\"\"\n",
    "        Defines the forward pass of the model.\n",
    "\n",
    "        Args:\n",
    "            x (Tensor): Input tensor of shape (N, 1, 32, 32) where N is the batch size.\n",
    "\n",
    "        Returns:\n",
    "            Tensor: Output tensor of shape (N, 10) representing the class scores.\n",
    "        \"\"\"\n",
    "        # Apply max pooling over a (2, 2) window to\n",
    "        # the ReLU activated convolutional layers\n",
    "        x = self.pool1(F.relu(self.conv1(x)))\n",
    "        x = self.pool2(F.relu(self.conv2(x)))\n",
    "\n",
    "        # Flatten the pooled outputs\n",
    "        x = x.view(-1, self.num_flat_features(x))\n",
    "\n",
    "        # Handle the fully-connected layers\n",
    "        x = F.relu(self.fc1(x))\n",
    "        x = F.relu(self.fc2(x))\n",
    "\n",
    "        # Apply softmax activation function\n",
    "        # to get probabilities\n",
    "        x = F.softmax(self.fc3(x), dim=1)\n",
    "\n",
    "        return x\n",
    "\n",
    "    def num_flat_features(self, x: Tensor) -> int:\n",
    "        \"\"\"\n",
    "        Computes the total number of features in the input tensor excluding the batch dimension.\n",
    "\n",
    "        Args:\n",
    "            x (Tensor): Input tensor.\n",
    "\n",
    "        Returns:\n",
    "            int: Number of features in the input tensor.\n",
    "        \"\"\"\n",
    "        # Get the size of the input tensor\n",
    "        # (except the batch dimension)\n",
    "        size = x.size()[1:]\n",
    "\n",
    "        # Compute number of features\n",
    "        num_features = 1\n",
    "        for s in size:\n",
    "            num_features *= s\n",
    "\n",
    "        return num_features"
   ]
  },
  {
   "cell_type": "code",
   "execution_count": 13,
   "metadata": {},
   "outputs": [
    {
     "name": "stdout",
     "output_type": "stream",
     "text": [
      "LeNet(\n",
      "  (conv1): Conv2d(1, 6, kernel_size=(5, 5), stride=(1, 1))\n",
      "  (pool1): AvgPool2d(kernel_size=2, stride=2, padding=0)\n",
      "  (conv2): Conv2d(6, 16, kernel_size=(5, 5), stride=(1, 1))\n",
      "  (pool2): AvgPool2d(kernel_size=2, stride=2, padding=0)\n",
      "  (fc1): Linear(in_features=400, out_features=120, bias=True)\n",
      "  (fc2): Linear(in_features=120, out_features=84, bias=True)\n",
      "  (fc3): Linear(in_features=84, out_features=10, bias=True)\n",
      ")\n",
      "\n",
      "Image batch shape:\n",
      "torch.Size([1, 1, 32, 32])\n",
      "\n",
      "Raw output:\n",
      "tensor([[0.1011, 0.0979, 0.1099, 0.1105, 0.0926, 0.1028, 0.0957, 0.0958, 0.0998,\n",
      "         0.0940]], grad_fn=<SoftmaxBackward0>)\n",
      "torch.Size([1, 10])\n"
     ]
    }
   ],
   "source": [
    "# Instantiate the neural network\n",
    "net = LeNet()\n",
    "print(net)\n",
    "\n",
    "# Generate a dummy image data\n",
    "input = torch.rand(1, 1, 32, 32)\n",
    "print(f'\\nImage batch shape:\\n{input.shape}')\n",
    "\n",
    "# Feed the input data to the network,\n",
    "# this calls the forward function\n",
    "output = net(input)\n",
    "print(f'\\nRaw output:\\n{output}\\n{output.shape}')"
   ]
  },
  {
   "cell_type": "markdown",
   "metadata": {},
   "source": [
    "## Datasets and DataLoaders\n",
    "\n",
    "Preparing and preprocessing datasets and creating data loaders to efficiently access data in batches for training and evaluation.\n",
    "\n",
    "The CIFAR10 dataset is a set of 32x32 color images representing 10 classes of objects:\n",
    "\n",
    "- animals (6) - bird, cat, deer, dog, frog, horse\n",
    "- vehicles (4) - airplane, automobile, ship, truck\n"
   ]
  },
  {
   "cell_type": "code",
   "execution_count": 14,
   "metadata": {},
   "outputs": [
    {
     "name": "stdout",
     "output_type": "stream",
     "text": [
      "Downloading https://www.cs.toronto.edu/~kriz/cifar-10-python.tar.gz to ../data/cifar-10-python.tar.gz\n"
     ]
    },
    {
     "name": "stderr",
     "output_type": "stream",
     "text": [
      "100%|██████████| 170498071/170498071 [02:36<00:00, 1091942.33it/s] \n"
     ]
    },
    {
     "name": "stdout",
     "output_type": "stream",
     "text": [
      "Extracting ../data/cifar-10-python.tar.gz to ../data\n"
     ]
    },
    {
     "data": {
      "text/plain": [
       "Dataset CIFAR10\n",
       "    Number of datapoints: 50000\n",
       "    Root location: ../data\n",
       "    Split: Train\n",
       "    StandardTransform\n",
       "Transform: Compose(\n",
       "               ToTensor()\n",
       "               Normalize(mean=(0.5, 0.5, 0.5), std=(0.5, 0.5, 0.5))\n",
       "           )"
      ]
     },
     "execution_count": 14,
     "metadata": {},
     "output_type": "execute_result"
    }
   ],
   "source": [
    "import torch\n",
    "import torchvision\n",
    "import torchvision.transforms as transforms\n",
    "\n",
    "# Setup a transformer to manipulate the image\n",
    "# data and convert it to a PyTorch tensor\n",
    "transform = transforms.Compose(\n",
    "    [\n",
    "        transforms.ToTensor(),\n",
    "        transforms.Normalize(\n",
    "            mean=(0.5, 0.5, 0.5),   # Mean of each channel\n",
    "            std=(0.5, 0.5, 0.5),    # Std of each channel\n",
    "        ),\n",
    "    ]\n",
    ")\n",
    "\n",
    "# Load the CIFAR10 dataset\n",
    "train_ds = torchvision.datasets.CIFAR10(\n",
    "    root='../data', train=True, download=True, transform=transform,\n",
    ")\n",
    "train_ds"
   ]
  },
  {
   "cell_type": "code",
   "execution_count": 15,
   "metadata": {},
   "outputs": [
    {
     "data": {
      "text/plain": [
       "<torch.utils.data.dataloader.DataLoader at 0x7fc3fb0b5f50>"
      ]
     },
     "execution_count": 15,
     "metadata": {},
     "output_type": "execute_result"
    }
   ],
   "source": [
    "# Setup a data loader\n",
    "train_loader = torch.utils.data.DataLoader(\n",
    "    train_ds, batch_size=4, shuffle=True, num_workers=2,\n",
    ")\n",
    "train_loader"
   ]
  },
  {
   "cell_type": "code",
   "execution_count": 16,
   "metadata": {},
   "outputs": [
    {
     "data": {
      "image/png": "[encoded data removed]",
      "text/plain": [
       "<Figure size 800x800 with 4 Axes>"
      ]
     },
     "metadata": {},
     "output_type": "display_data"
    }
   ],
   "source": [
    "import matplotlib.pyplot as plt\n",
    "import numpy as np\n",
    "\n",
    "# Set the image classes\n",
    "classes = ('plane', 'car', 'bird', 'cat', 'deer',\n",
    "           'dog', 'frog', 'horse', 'ship', 'truck')\n",
    "\n",
    "def plot_image(img: Tensor) -> None:\n",
    "    \"\"\"\n",
    "    Plots the image tensor from the CIFAR10 dataset.\n",
    "\n",
    "    Args:\n",
    "        img (Tensor): The image tensor.\n",
    "    \"\"\"\n",
    "    # Remove normalisation\n",
    "    img = img / 2.0 + 0.5\n",
    "    # Plot the image\n",
    "    plt.imshow(np.transpose(img.numpy(), (1, 2, 0)))\n",
    "\n",
    "# Get random training images\n",
    "data_iter = iter(train_loader)\n",
    "images, labels = next(data_iter)\n",
    "\n",
    "def batch_plot(images: list[Tensor], labels: list[int]):\n",
    "    \"\"\"\n",
    "    Plots the batch of images with their respective titles.\n",
    "\n",
    "    Args:\n",
    "        images (list[Tensor]): The batch of images.\n",
    "        labels (list[int]): The batch of respective labels.\n",
    "    \"\"\"\n",
    "    plt.figure(figsize=(8, 8))\n",
    "    for idx, (image, label) in enumerate(zip(images, labels)):\n",
    "        plt.subplot(2, 2, idx + 1)\n",
    "        plot_image(image)\n",
    "        plt.title(classes[label])\n",
    "    plt.show()\n",
    "\n",
    "# Visualize the batch of images\n",
    "batch_plot(images, labels)"
   ]
  },
  {
   "cell_type": "markdown",
   "metadata": {},
   "source": [
    "## Training the PyTorch Model\n",
    "\n",
    "The steps involved (here) in training a PyTorch model are as follows:\n",
    "\n",
    "- Get the training dataset from repositories.\n",
    "- Prepare a transformer to preprocess the dataset.\n",
    "- Load the training dataset into batches.\n",
    "- Visualize the training batch.\n",
    "- Build the required neural network model.\n",
    "- Setup a loss function and an optimizer.\n",
    "- Train the model for a specified number of epochs.\n"
   ]
  },
  {
   "cell_type": "code",
   "execution_count": 17,
   "metadata": {},
   "outputs": [],
   "source": [
    "# Import libraries here\n",
    "import matplotlib\n",
    "import matplotlib.pyplot as plt\n",
    "import numpy as np\n",
    "import torch\n",
    "import torch.nn as nn\n",
    "import torch.nn.functional as F\n",
    "import torch.optim as optim\n",
    "import torchvision\n",
    "import torchvision.transforms as transforms"
   ]
  },
  {
   "cell_type": "code",
   "execution_count": 18,
   "metadata": {},
   "outputs": [
    {
     "name": "stdout",
     "output_type": "stream",
     "text": [
      "Files already downloaded and verified\n",
      "Files already downloaded and verified\n"
     ]
    },
    {
     "data": {
      "text/plain": [
       "('plane',\n",
       " 'car',\n",
       " 'bird',\n",
       " 'cat',\n",
       " 'deer',\n",
       " 'dog',\n",
       " 'frog',\n",
       " 'horse',\n",
       " 'ship',\n",
       " 'truck')"
      ]
     },
     "execution_count": 18,
     "metadata": {},
     "output_type": "execute_result"
    }
   ],
   "source": [
    "# Setup the transformer\n",
    "transform = transforms.Compose(\n",
    "    [\n",
    "        transforms.ToTensor(),\n",
    "        transforms.Normalize((.5, .5, .5), (.5, .5, .5)),\n",
    "    ]\n",
    ")\n",
    "\n",
    "# Load the training set\n",
    "train_set = torchvision.datasets.CIFAR10(\n",
    "    root='../data', train=True, download=True, transform=transform,\n",
    ")\n",
    "train_loader = torch.utils.data.DataLoader(\n",
    "    train_set, batch_size=4, shuffle=True, num_workers=2,\n",
    ")\n",
    "\n",
    "# Load the testing set\n",
    "test_set = torchvision.datasets.CIFAR10(\n",
    "    root='../data', train=False, download=True, transform=transform,\n",
    ")\n",
    "test_loader = torch.utils.data.DataLoader(\n",
    "    test_set, batch_size=4, shuffle=False, num_workers=2,\n",
    ")\n",
    "\n",
    "# Setup the classes\n",
    "classes"
   ]
  },
  {
   "cell_type": "code",
   "execution_count": 19,
   "metadata": {},
   "outputs": [
    {
     "data": {
      "image/png": "[encoded data removed]",
      "text/plain": [
       "<Figure size 800x800 with 4 Axes>"
      ]
     },
     "metadata": {},
     "output_type": "display_data"
    }
   ],
   "source": [
    "# Plot a random set of training images\n",
    "data_iter = iter(train_loader)\n",
    "images, labels = next(data_iter)\n",
    "batch_plot(images, labels)"
   ]
  },
  {
   "cell_type": "code",
   "execution_count": 20,
   "metadata": {},
   "outputs": [],
   "source": [
    "# Build a neural network\n",
    "\n",
    "class Net(nn.Module):\n",
    "    \"\"\"Convolutional neural network (CNN) to classify images from the CIFAR10 dataset.\"\"\"\n",
    "    \n",
    "    def __init__(self) -> None:\n",
    "        super(Net, self).__init__()\n",
    "        self.conv1 = nn.Conv2d(3, 6, 5)     # adjusted for 3 channels\n",
    "        self.pool1 = nn.MaxPool2d(2, 2)\n",
    "        self.conv2 = nn.Conv2d(6, 16, 5)\n",
    "        self.pool2 = nn.MaxPool2d(2, 2)\n",
    "        self.fc1 = nn.Linear(16 * 5 * 5, 120)\n",
    "        self.fc2 = nn.Linear(120, 84)\n",
    "        self.fc3 = nn.Linear(84, 10)\n",
    "\n",
    "    def forward(self, x: Tensor) -> Tensor:\n",
    "        \"\"\"\n",
    "        Defines the forward pass of the model.\n",
    "\n",
    "        Args:\n",
    "            x (Tensor): Input tensor of shape (N, 1, 32, 32) where N is the batch size.\n",
    "\n",
    "        Returns:\n",
    "            Tensor: Output tensor of shape (N, 10) representing the class scores.\n",
    "        \"\"\"\n",
    "        x = self.pool1(F.relu(self.conv1(x)))\n",
    "        x = self.pool2(F.relu(self.conv2(x)))\n",
    "        x = x.view(-1, 16 * 5 * 5)\n",
    "        x = F.relu(self.fc1(x))\n",
    "        x = F.relu(self.fc2(x))\n",
    "        x = self.fc3(x)\n",
    "\n",
    "        return x"
   ]
  },
  {
   "cell_type": "code",
   "execution_count": 21,
   "metadata": {},
   "outputs": [
    {
     "name": "stdout",
     "output_type": "stream",
     "text": [
      "The selected neural network: Net(\n",
      "  (conv1): Conv2d(3, 6, kernel_size=(5, 5), stride=(1, 1))\n",
      "  (pool1): MaxPool2d(kernel_size=2, stride=2, padding=0, dilation=1, ceil_mode=False)\n",
      "  (conv2): Conv2d(6, 16, kernel_size=(5, 5), stride=(1, 1))\n",
      "  (pool2): MaxPool2d(kernel_size=2, stride=2, padding=0, dilation=1, ceil_mode=False)\n",
      "  (fc1): Linear(in_features=400, out_features=120, bias=True)\n",
      "  (fc2): Linear(in_features=120, out_features=84, bias=True)\n",
      "  (fc3): Linear(in_features=84, out_features=10, bias=True)\n",
      ")\n",
      "\n",
      "The loss function is: CrossEntropyLoss()\n",
      "\n",
      "The optimizer is: SGD (\n",
      "Parameter Group 0\n",
      "    dampening: 0\n",
      "    differentiable: False\n",
      "    foreach: None\n",
      "    fused: None\n",
      "    lr: 0.001\n",
      "    maximize: False\n",
      "    momentum: 0.9\n",
      "    nesterov: False\n",
      "    weight_decay: 0\n",
      ")\n"
     ]
    }
   ],
   "source": [
    "# Initialize the model\n",
    "net = Net()\n",
    "print(f'The selected neural network: {net}\\n')\n",
    "\n",
    "# Setup a loss function\n",
    "criterion = nn.CrossEntropyLoss()\n",
    "print(f'The loss function is: {criterion}\\n')\n",
    "\n",
    "# Setup an optimizer\n",
    "optimizer = optim.SGD(net.parameters(), lr=.001, momentum=.9)\n",
    "print(f'The optimizer is: {optimizer}')"
   ]
  },
  {
   "cell_type": "code",
   "execution_count": 22,
   "metadata": {},
   "outputs": [],
   "source": [
    "# Setup the constants\n",
    "N_EPOCHS = 3\n",
    "\n",
    "def train_neural_net(net: Net, epochs: int = N_EPOCHS) -> None:\n",
    "    \"\"\"\n",
    "    Trains the neural network for the specified epochs.\n",
    "\n",
    "    Args:\n",
    "        net (Net): The neural network to train.\n",
    "        epochs (int, optional): The number of epochs to train for. Defaults to N_EPOCHS.\n",
    "    \"\"\"\n",
    "    for epoch in range(epochs):\n",
    "        \n",
    "        # Initialize the running loss\n",
    "        running_loss = 0.0\n",
    "\n",
    "        for i, data in enumerate(train_loader, start=0):\n",
    "            # Get the inputs\n",
    "            inputs, labels = data\n",
    "\n",
    "            # Set the parameters gradient to zero\n",
    "            optimizer.zero_grad()\n",
    "\n",
    "            # Perform the 3-step training\n",
    "            outputs = net(inputs)               # Forward pass\n",
    "            loss = criterion(outputs, labels)   # Calculate training loss\n",
    "            loss.backward()                     # Backward pass\n",
    "            optimizer.step()                    # Optimization\n",
    "\n",
    "            # Print statistics at every 2000 mini-batches\n",
    "            running_loss += loss.item()\n",
    "            if i % 2000 == 1999:\n",
    "                print(f'({epoch + 1}, {i + 1:5d}) loss: {running_loss / 2000:.3f}')\n",
    "                running_loss = 0.0\n",
    "\n",
    "    print(f'\\nTraining finished after {N_EPOCHS} epochs!')"
   ]
  },
  {
   "cell_type": "code",
   "execution_count": 23,
   "metadata": {},
   "outputs": [
    {
     "name": "stdout",
     "output_type": "stream",
     "text": [
      "(1,  2000) loss: 2.200\n",
      "(1,  4000) loss: 1.842\n",
      "(1,  6000) loss: 1.661\n",
      "(1,  8000) loss: 1.584\n",
      "(1, 10000) loss: 1.510\n",
      "(1, 12000) loss: 1.460\n",
      "(2,  2000) loss: 1.402\n",
      "(2,  4000) loss: 1.373\n",
      "(2,  6000) loss: 1.348\n",
      "(2,  8000) loss: 1.332\n",
      "(2, 10000) loss: 1.277\n",
      "(2, 12000) loss: 1.279\n",
      "(3,  2000) loss: 1.210\n",
      "(3,  4000) loss: 1.194\n",
      "(3,  6000) loss: 1.191\n",
      "(3,  8000) loss: 1.185\n",
      "(3, 10000) loss: 1.182\n",
      "(3, 12000) loss: 1.160\n",
      "\n",
      "Training finished after 3 epochs!\n"
     ]
    }
   ],
   "source": [
    "# Train the model - optimize the model to find the best weights\n",
    "train_neural_net(net, epochs=N_EPOCHS)"
   ]
  },
  {
   "cell_type": "code",
   "execution_count": 24,
   "metadata": {},
   "outputs": [
    {
     "name": "stdout",
     "output_type": "stream",
     "text": [
      "Accuracy of the neural network: 58.379999999999995%\n"
     ]
    }
   ],
   "source": [
    "# Evaluate the performance of the model\n",
    "correct = 0\n",
    "total = 0\n",
    "with torch.no_grad():   # Turn off gradient calculations\n",
    "    for data in test_loader:\n",
    "        images, labels = data\n",
    "\n",
    "        # Get predictions from the test data\n",
    "        outputs = net(images)\n",
    "        _, predicted = torch.max(outputs.data, 1)\n",
    "        \n",
    "        total += labels.size(0)\n",
    "        correct += (predicted == labels).sum().item()\n",
    "\n",
    "print(f'Accuracy of the neural network: {correct / total * 100}%')"
   ]
  },
  {
   "cell_type": "code",
   "execution_count": 25,
   "metadata": {},
   "outputs": [],
   "source": [
    "# Compile the model to a static representation as TorchScript code\n",
    "model_script = torch.jit.script(net)\n",
    "\n",
    "# Save the model script locally for future use\n",
    "model_script.save('../models/01_lenet5.pt')"
   ]
  },
  {
   "cell_type": "code",
   "execution_count": null,
   "metadata": {},
   "outputs": [],
   "source": []
  }
 ],
 "metadata": {
  "kernelspec": {
   "display_name": "base",
   "language": "python",
   "name": "python3"
  },
  "language_info": {
   "codemirror_mode": {
    "name": "ipython",
    "version": 3
   },
   "file_extension": ".py",
   "mimetype": "text/x-python",
   "name": "python",
   "nbconvert_exporter": "python",
   "pygments_lexer": "ipython3",
   "version": "3.11.9"
  }
 },
 "nbformat": 4,
 "nbformat_minor": 2
}
