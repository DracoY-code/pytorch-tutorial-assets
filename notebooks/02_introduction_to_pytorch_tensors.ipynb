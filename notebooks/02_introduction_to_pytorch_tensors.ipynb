{
 "cells": [
  {
   "cell_type": "markdown",
   "metadata": {},
   "source": [
    "# Introduction to PyTorch Tensors\n",
    "\n",
    "This notebook is referenced from the second video in the [PyTorch Beginner Series](https://www.youtube.com/playlist?list=PL_lsbAsL_o2CTlGHgMxNrKhzP97BaG9ZN) by Brad Heintz on YouTube. The video focuses on the basic concepts in PyTorch that are used to handle several deep learning tasks and demonstrates how these concepts come together to make PyTorch a robust machine learning framework. You can find the notebook associated with the video [here](https://pytorch.org/tutorials/beginner/introyt/tensors_deeper_tutorial.html).\n"
   ]
  },
  {
   "cell_type": "code",
   "execution_count": 1,
   "metadata": {},
   "outputs": [],
   "source": [
    "# Import libraries here\n",
    "import math\n",
    "\n",
    "import numpy as np\n",
    "import torch"
   ]
  },
  {
   "cell_type": "markdown",
   "metadata": {},
   "source": [
    "## Creating Tensors\n",
    "\n",
    "The different ways of creating a PyTorch tensor are as follows:\n",
    "\n",
    "- torch.empty - allocates the required memory, does not initialize values.\n",
    "- torch.zeros - initializes a tensor filled with zeros.\n",
    "- torch.ones - initializes a tensor filled with ones.\n",
    "- torch.rand - initializes a tensor filled with random values.\n",
    "- torch.tensor - initializes a tensor with the input values.\n",
    "- torch.from_numpy - initializes a tensor with a numpy array.\n"
   ]
  },
  {
   "cell_type": "code",
   "execution_count": 2,
   "metadata": {},
   "outputs": [
    {
     "name": "stdout",
     "output_type": "stream",
     "text": [
      "<class 'torch.Tensor'>\n",
      "tensor([[0., 0., 0., 0.],\n",
      "        [0., 0., 0., 0.],\n",
      "        [0., 0., 0., 0.]])\n"
     ]
    }
   ],
   "source": [
    "# Create an empty tensor\n",
    "x = torch.empty(3, 4)\n",
    "print(type(x))\n",
    "print(x)"
   ]
  },
  {
   "cell_type": "code",
   "execution_count": 3,
   "metadata": {},
   "outputs": [
    {
     "name": "stdout",
     "output_type": "stream",
     "text": [
      "Zeros Tensor:\n",
      "tensor([[0., 0., 0.],\n",
      "        [0., 0., 0.]])\n",
      "\n",
      "Ones Tensor:\n",
      "tensor([[1., 1., 1.],\n",
      "        [1., 1., 1.]])\n",
      "\n",
      "Random Tensor:\n",
      "tensor([[0.8823, 0.9150, 0.3829],\n",
      "        [0.9593, 0.3904, 0.6009]])\n"
     ]
    }
   ],
   "source": [
    "# Create a zeros tensor\n",
    "zeros = torch.zeros(2, 3)\n",
    "print(f'Zeros Tensor:\\n{zeros}\\n')\n",
    "\n",
    "# Create a ones tensor\n",
    "ones = torch.ones(2, 3)\n",
    "print(f'Ones Tensor:\\n{ones}\\n')\n",
    "\n",
    "# Create a random tensor\n",
    "torch.random.manual_seed(42)\n",
    "random = torch.rand(2, 3)\n",
    "print(f'Random Tensor:\\n{random}')"
   ]
  },
  {
   "cell_type": "code",
   "execution_count": 4,
   "metadata": {},
   "outputs": [
    {
     "name": "stdout",
     "output_type": "stream",
     "text": [
      "Original Tensor:\n",
      "torch.Size([1, 2, 3])\n",
      "tensor([[[0., 0., 0.],\n",
      "         [0., 0., 0.]]])\n",
      "\n",
      "Similar Tensor:\n",
      "torch.Size([1, 2, 3])\n",
      "tensor([[[0., 0., 0.],\n",
      "         [0., 0., 0.]]])\n",
      "\n",
      "Zeros Tensor:\n",
      "torch.Size([1, 2, 3])\n",
      "tensor([[[0., 0., 0.],\n",
      "         [0., 0., 0.]]])\n",
      "\n",
      "Ones Tensor:\n",
      "torch.Size([1, 2, 3])\n",
      "tensor([[[1., 1., 1.],\n",
      "         [1., 1., 1.]]])]\n",
      "\n",
      "Random Tensor:\n",
      "torch.Size([1, 2, 3])\n",
      "tensor([[[0.2566, 0.7936, 0.9408],\n",
      "         [0.1332, 0.9346, 0.5936]]])\n"
     ]
    }
   ],
   "source": [
    "# Allocate memory for a tensor\n",
    "x = torch.empty(1, 2, 3)\n",
    "print(f'Original Tensor:\\n{x.shape}\\n{x}\\n')\n",
    "\n",
    "# Allocate another memory space similar to x\n",
    "empty_like_x = torch.empty_like(x)\n",
    "print(f'Similar Tensor:\\n{empty_like_x.shape}\\n{empty_like_x}\\n')\n",
    "\n",
    "# Create a similar zeros tensor\n",
    "zeros_like_x = torch.zeros_like(x)\n",
    "print(f'Zeros Tensor:\\n{zeros_like_x.shape}\\n{zeros_like_x}\\n')\n",
    "\n",
    "# Create a similar ones tensor\n",
    "ones_like_x = torch.ones_like(x)\n",
    "print(f'Ones Tensor:\\n{ones_like_x.shape}\\n{ones_like_x}]\\n')\n",
    "\n",
    "# Create a similar random tensor\n",
    "random_like_x = torch.rand_like(x)\n",
    "print(f'Random Tensor:\\n{random_like_x.shape}\\n{random_like_x}')"
   ]
  },
  {
   "cell_type": "code",
   "execution_count": 5,
   "metadata": {},
   "outputs": [
    {
     "name": "stdout",
     "output_type": "stream",
     "text": [
      "Constant Tensor:\n",
      "tensor([[3.1416, 2.7183],\n",
      "        [1.0000, 2.0000]])\n"
     ]
    }
   ],
   "source": [
    "# Create a constant tensor\n",
    "constants = torch.tensor([[math.pi, math.e], [1, 2]])\n",
    "print(f'Constant Tensor:\\n{constants}')"
   ]
  },
  {
   "cell_type": "code",
   "execution_count": 6,
   "metadata": {},
   "outputs": [
    {
     "name": "stdout",
     "output_type": "stream",
     "text": [
      "Tensor `a`:\n",
      "tensor([[1, 1, 1],\n",
      "        [1, 1, 1]], dtype=torch.int16)\n",
      "\n",
      "Tensor `b`:\n",
      "tensor([[9.5524, 9.2875, 0.8354],\n",
      "        [1.3264, 1.5705, 3.7537]], dtype=torch.float64)\n",
      "\n",
      "Tensor `c`:\n",
      "tensor([[9, 9, 0],\n",
      "        [1, 1, 3]], dtype=torch.int32)\n"
     ]
    }
   ],
   "source": [
    "# Create a tensor with 16-bit integers\n",
    "a = torch.ones((2, 3), dtype=torch.int16)\n",
    "print(f'Tensor `a`:\\n{a}\\n')\n",
    "\n",
    "# Create a tensor with 64-bit floating-point numbers\n",
    "b = torch.rand((2, 3), dtype=torch.float64) * 10\n",
    "print(f'Tensor `b`:\\n{b}\\n')\n",
    "\n",
    "# Convert b to 32-bit integers\n",
    "c = b.to(torch.int32)\n",
    "print(f'Tensor `c`:\\n{c}')"
   ]
  },
  {
   "cell_type": "markdown",
   "metadata": {},
   "source": [
    "## Applying Tensor Operations\n",
    "\n",
    "The various operations that can be applied to tensors are as follows:\n",
    "\n",
    "- Basic arithmetic operations\n",
    "- Common element-wise functions\n",
    "- Trignometric functions\n",
    "- Element-wise bitwise operations\n",
    "- Comparison operations\n",
    "- Reduction/Aggregation operations\n",
    "- Vector and matrix operations\n",
    "- Alter tensors in place\n",
    "- Outputting operations in tensors\n",
    "- Cloning a tensor (with or without autograd)\n",
    "- Moving the tensor to GPU\n"
   ]
  },
  {
   "cell_type": "code",
   "execution_count": 7,
   "metadata": {},
   "outputs": [
    {
     "name": "stdout",
     "output_type": "stream",
     "text": [
      "Ones Tensor:\n",
      "tensor([[1., 1., 1.],\n",
      "        [1., 1., 1.],\n",
      "        [1., 1., 1.]])\n",
      "\n",
      "Twos Tensor:\n",
      "tensor([[2., 2., 2.],\n",
      "        [2., 2., 2.],\n",
      "        [2., 2., 2.]])\n",
      "\n",
      "Threes Tensor:\n",
      "tensor([[3., 3., 3.],\n",
      "        [3., 3., 3.],\n",
      "        [3., 3., 3.]])\n",
      "\n",
      "Fours Tensor:\n",
      "tensor([[4., 4., 4.],\n",
      "        [4., 4., 4.],\n",
      "        [4., 4., 4.]])\n"
     ]
    }
   ],
   "source": [
    "# Set a size for the tensors\n",
    "size = (3, 3)\n",
    "\n",
    "# Create a ones tensor\n",
    "ones = torch.ones(size)\n",
    "print(f'Ones Tensor:\\n{ones}\\n')\n",
    "\n",
    "# Create a twos tensor\n",
    "twos = torch.ones(size) * 2\n",
    "print(f'Twos Tensor:\\n{twos}\\n')\n",
    "\n",
    "# Create a threes tensor\n",
    "threes = ones + twos\n",
    "print(f'Threes Tensor:\\n{threes}\\n')\n",
    "\n",
    "# Create a fours tensor\n",
    "fours = twos ** 2\n",
    "print(f'Fours Tensor:\\n{fours}')"
   ]
  },
  {
   "cell_type": "code",
   "execution_count": 8,
   "metadata": {},
   "outputs": [
    {
     "name": "stdout",
     "output_type": "stream",
     "text": [
      "Sqrt2s Tensor:\n",
      "tensor([[1.4142, 1.4142, 1.4142],\n",
      "        [1.4142, 1.4142, 1.4142],\n",
      "        [1.4142, 1.4142, 1.4142]])\n",
      "\n",
      "Powers2 Tensor:\n",
      "tensor([[  1.,   2.,   4.],\n",
      "        [  8.,  16.,  32.],\n",
      "        [ 64., 128., 256.]])\n",
      "\n",
      "Dozens Tensor:\n",
      "tensor([[12., 12., 12.],\n",
      "        [12., 12., 12.],\n",
      "        [12., 12., 12.]])\n"
     ]
    }
   ],
   "source": [
    "# Create a tensor filled with sqrt(2)\n",
    "sqrt2s = twos ** 0.5\n",
    "print(f'Sqrt2s Tensor:\\n{sqrt2s}\\n')\n",
    "\n",
    "# Create a tensor filled with 2^x\n",
    "powers2 = twos ** torch.arange(np.prod(size)).view(size)\n",
    "print(f'Powers2 Tensor:\\n{powers2}\\n')\n",
    "\n",
    "# Create a dozens tensor\n",
    "dozens = threes * fours\n",
    "print(f'Dozens Tensor:\\n{dozens}')"
   ]
  },
  {
   "cell_type": "code",
   "execution_count": 9,
   "metadata": {},
   "outputs": [
    {
     "name": "stdout",
     "output_type": "stream",
     "text": [
      "Tensor `x`:\n",
      "tensor([[0.8823, 0.9150, 0.3829, 0.9593],\n",
      "        [0.3904, 0.6009, 0.2566, 0.7936]])\n",
      "\n",
      "Tensor `y`:\n",
      "tensor([[ 0.7645,  0.8300, -0.2343,  0.9186],\n",
      "        [-0.2191,  0.2018, -0.4869,  0.5873]])\n",
      "\n",
      "Tensor `x` is mapped to Tensor `y`\n",
      "\n",
      "Absolute value of `y`:\n",
      "tensor([[0.7645, 0.8300, 0.2343, 0.9186],\n",
      "        [0.2191, 0.2018, 0.4869, 0.5873]])\n",
      "\n",
      "Ceiling value of `y`:\n",
      "tensor([[1., 1., -0., 1.],\n",
      "        [-0., 1., -0., 1.]])\n",
      "\n",
      "Flooring value of `y`:\n",
      "tensor([[ 0.,  0., -1.,  0.],\n",
      "        [-1.,  0., -1.,  0.]])\n",
      "\n",
      "Tensor `y` clamped to [-0.5, 0.5]:\n",
      "tensor([[ 0.5000,  0.5000, -0.2343,  0.5000],\n",
      "        [-0.2191,  0.2018, -0.4869,  0.5000]])\n"
     ]
    }
   ],
   "source": [
    "# Generate a random tensor and create a mapping\n",
    "torch.manual_seed(42)\n",
    "x = torch.rand(2, 4)\n",
    "y = 2 * x - 1\n",
    "print(f'Tensor `x`:\\n{x}\\n')\n",
    "print(f'Tensor `y`:\\n{y}\\n')\n",
    "print('Tensor `x` is mapped to Tensor `y`\\n')\n",
    "\n",
    "# Apply common functions\n",
    "print(f'Absolute value of `y`:\\n{torch.abs(y)}\\n')\n",
    "print(f'Ceiling value of `y`:\\n{torch.ceil(y)}\\n')\n",
    "print(f'Flooring value of `y`:\\n{torch.floor(y)}\\n')\n",
    "print(f'Tensor `y` clamped to [-0.5, 0.5]:\\n{torch.clamp(y, -0.5, 0.5)}')"
   ]
  },
  {
   "cell_type": "code",
   "execution_count": 10,
   "metadata": {},
   "outputs": [
    {
     "name": "stdout",
     "output_type": "stream",
     "text": [
      "Angles:\n",
      "tensor([[0.0000, 0.7854, 1.5708],\n",
      "        [2.3562, 3.1416, 3.9270],\n",
      "        [4.7124, 5.4978, 6.2832]])\n",
      "\n",
      "Sines of angles:\n",
      "tensor([[ 0.0000e+00,  7.0711e-01,  1.0000e+00],\n",
      "        [ 7.0711e-01, -8.7423e-08, -7.0711e-01],\n",
      "        [-1.0000e+00, -7.0711e-01,  1.7485e-07]])\n",
      "\n",
      "Sine inverses for angles:\n",
      "tensor([[ 0.0000e+00,  7.8540e-01,  1.5708e+00],\n",
      "        [ 7.8540e-01, -8.7423e-08, -7.8540e-01],\n",
      "        [-1.5708e+00, -7.8540e-01,  1.7485e-07]])\n"
     ]
    }
   ],
   "source": [
    "# Setup a tensor for various angles - [0, 2\\pi]\n",
    "angles = torch.linspace(0., 2 * math.pi, np.prod(size)).view(size)\n",
    "\n",
    "# Apply trignometric functions\n",
    "sines = torch.sin(angles)\n",
    "print(f'Angles:\\n{angles}\\n')\n",
    "print(f'Sines of angles:\\n{sines}\\n')\n",
    "print(f'Sine inverses for angles:\\n{torch.asin(sines)}')"
   ]
  },
  {
   "cell_type": "code",
   "execution_count": 11,
   "metadata": {},
   "outputs": [
    {
     "name": "stdout",
     "output_type": "stream",
     "text": [
      "Tensor `b`:\n",
      "tensor([ 1,  5, 11])\n",
      "\n",
      "Tensor `c`:\n",
      "tensor([ 2,  7, 10])\n",
      "\n",
      "NOT `b`:\n",
      "tensor([ -2,  -6, -12])\n",
      "\n",
      "NOT `c`:\n",
      "tensor([ -3,  -8, -11])\n",
      "\n",
      "`b` AND `c`:\n",
      "tensor([ 0,  5, 10])\n",
      "\n",
      "`b` OR `c`:\n",
      "tensor([ 3,  7, 11])\n",
      "\n",
      "`b` XOR `c`:\n",
      "tensor([3, 2, 1])\n"
     ]
    }
   ],
   "source": [
    "b = torch.tensor([1, 5, 11])\n",
    "c = torch.tensor([2, 7, 10])\n",
    "\n",
    "# Apply bitwise operations\n",
    "print(f'Tensor `b`:\\n{b}\\n')\n",
    "print(f'Tensor `c`:\\n{c}\\n')\n",
    "print(f'NOT `b`:\\n{torch.bitwise_not(b)}\\n')\n",
    "print(f'NOT `c`:\\n{torch.bitwise_not(c)}\\n')\n",
    "print(f'`b` AND `c`:\\n{torch.bitwise_and(b, c)}\\n')\n",
    "print(f'`b` OR `c`:\\n{torch.bitwise_or(b, c)}\\n')\n",
    "print(f'`b` XOR `c`:\\n{torch.bitwise_xor(b, c)}')"
   ]
  },
  {
   "cell_type": "code",
   "execution_count": 12,
   "metadata": {},
   "outputs": [
    {
     "name": "stdout",
     "output_type": "stream",
     "text": [
      "Is `d` == `e`?\n",
      "tensor([[ True, False],\n",
      "        [False, False]])\n"
     ]
    }
   ],
   "source": [
    "d = torch.tensor([[1., 2.], [3., 4.]])\n",
    "e = torch.ones(1, 2)\n",
    "\n",
    "# Apply comparison operations\n",
    "print('Is `d` == `e`?')\n",
    "print(torch.eq(d, e))"
   ]
  },
  {
   "cell_type": "code",
   "execution_count": 13,
   "metadata": {},
   "outputs": [
    {
     "name": "stdout",
     "output_type": "stream",
     "text": [
      "Maximum value in `d`:\n",
      "4.0\n",
      "\n",
      "Average value of `d`:\n",
      "2.5\n",
      "\n",
      "Standard deviation of `d`:\n",
      "1.29099440574646\n",
      "\n",
      "Product of all values in `d`:\n",
      "24.0\n",
      "\n",
      "The unique values in `f`:\n",
      "tensor([1, 2, 3])\n"
     ]
    }
   ],
   "source": [
    "f = torch.tensor([1, 2, 1, 2, 1, 2, 3])\n",
    "\n",
    "# Apply reduction operations\n",
    "print(f'Maximum value in `d`:\\n{torch.max(d)}\\n')\n",
    "print(f'Average value of `d`:\\n{torch.mean(d)}\\n')\n",
    "print(f'Standard deviation of `d`:\\n{torch.std(d)}\\n')\n",
    "print(f'Product of all values in `d`:\\n{torch.prod(d)}\\n')\n",
    "print(f'The unique values in `f`:\\n{torch.unique(f)}')"
   ]
  },
  {
   "cell_type": "code",
   "execution_count": 14,
   "metadata": {},
   "outputs": [
    {
     "name": "stdout",
     "output_type": "stream",
     "text": [
      "Vector `v1`:\n",
      "tensor([1., 0., 0.])\n",
      "\n",
      "Vector `v2`:\n",
      "tensor([0., 1., 0.])\n",
      "\n",
      "Cross product of `v1` with `v2`:\n",
      "tensor([0., 0., 1.])\n",
      "\n",
      "Cross product of `v2` with `v1`:\n",
      "tensor([ 0.,  0., -1.])\n"
     ]
    }
   ],
   "source": [
    "# Define some vectors\n",
    "v1 = torch.tensor([1., 0., 0.])\n",
    "v2 = torch.tensor([0., 1., 0.])\n",
    "\n",
    "# Apply vector operations\n",
    "print(f'Vector `v1`:\\n{v1}\\n')\n",
    "print(f'Vector `v2`:\\n{v2}\\n')\n",
    "print(f'Cross product of `v1` with `v2`:\\n{torch.cross(v1, v2, dim=0)}\\n')\n",
    "print(f'Cross product of `v2` with `v1`:\\n{torch.cross(v2, v1, dim=0)}')"
   ]
  },
  {
   "cell_type": "code",
   "execution_count": 15,
   "metadata": {},
   "outputs": [
    {
     "name": "stdout",
     "output_type": "stream",
     "text": [
      "Matrix `m1`:\n",
      "tensor([[0.9408, 0.1332],\n",
      "        [0.9346, 0.5936]])\n",
      "\n",
      "Matrix `m2`:\n",
      "tensor([[3., 0.],\n",
      "        [0., 3.]])\n",
      "\n",
      "Matrix multiplication of `m1` with `m2`:\n",
      "tensor([[2.8223, 0.3996],\n",
      "        [2.8038, 1.7807]])\n",
      "\n",
      "Singular value decomposition of `m3`:\n",
      "torch.return_types.svd(\n",
      "U=tensor([[-0.6457, -0.7636],\n",
      "        [-0.7636,  0.6457]]),\n",
      "S=tensor([4.2808, 0.9123]),\n",
      "V=tensor([[-0.9258, -0.3779],\n",
      "        [-0.3779,  0.9258]]))\n"
     ]
    }
   ],
   "source": [
    "# Define some matrices\n",
    "m1 = torch.rand(2, 2)\n",
    "m2 = torch.tensor([[3., 0.], [0., 3.]])     # (Identity matrix) * 3\n",
    "m3 = torch.matmul(m1, m2)\n",
    "\n",
    "# Apply matrix and linear algebra operations\n",
    "print(f'Matrix `m1`:\\n{m1}\\n')\n",
    "print(f'Matrix `m2`:\\n{m2}\\n')\n",
    "print(f'Matrix multiplication of `m1` with `m2`:\\n{m3}\\n')\n",
    "print(f'Singular value decomposition of `m3`:\\n{torch.svd(m3)}')"
   ]
  },
  {
   "cell_type": "code",
   "execution_count": 16,
   "metadata": {},
   "outputs": [
    {
     "name": "stdout",
     "output_type": "stream",
     "text": [
      "Tensor `g` before applying sine:\n",
      "tensor([0.0000, 0.7854, 1.5708, 2.3562], dtype=torch.float64)\n",
      "\n",
      "Applying sine to `g`:\n",
      "tensor([0.0000, 0.7071, 1.0000, 0.7071], dtype=torch.float64)\n",
      "\n",
      "Tensor `g` after applying sine:\n",
      "tensor([0.0000, 0.7071, 1.0000, 0.7071], dtype=torch.float64)\n"
     ]
    }
   ],
   "source": [
    "# Altering tensors in place\n",
    "g = torch.tensor(np.linspace(0., 3 * math.pi / 4, 4))\n",
    "print(f'Tensor `g` before applying sine:\\n{g}\\n')\n",
    "print(f'Applying sine to `g`:\\n{torch.sin_(g)}\\n')\n",
    "print(f'Tensor `g` after applying sine:\\n{g}')"
   ]
  },
  {
   "cell_type": "code",
   "execution_count": 17,
   "metadata": {},
   "outputs": [
    {
     "name": "stdout",
     "output_type": "stream",
     "text": [
      "Tensor `r` before:\n",
      "tensor([[0., 0.],\n",
      "        [0., 0.]])\n",
      "\n",
      "Tensor `r` after:\n",
      "tensor([[0.9211, 0.8552],\n",
      "        [0.7707, 0.6947]])\n",
      "\n",
      "Tensor `s`:\n",
      "tensor([[0.9211, 0.8552],\n",
      "        [0.7707, 0.6947]])\n",
      "\n",
      "Is `r` same as `s`? True\n"
     ]
    }
   ],
   "source": [
    "p = torch.rand(2, 2)\n",
    "q = torch.rand(2, 2)\n",
    "r = torch.zeros(2, 2)\n",
    "\n",
    "# Using the `out` parameter\n",
    "print(f'Tensor `r` before:\\n{r}\\n')\n",
    "s = torch.matmul(p, q, out=r)\n",
    "print(f'Tensor `r` after:\\n{r}\\n')\n",
    "print(f'Tensor `s`:\\n{s}\\n')\n",
    "print(f'Is `r` same as `s`? {r is s}')"
   ]
  },
  {
   "cell_type": "code",
   "execution_count": 18,
   "metadata": {},
   "outputs": [
    {
     "name": "stdout",
     "output_type": "stream",
     "text": [
      "~ Before mutating the tensor ~\n",
      "\n",
      "Tensor `u`:\n",
      "tensor([[1., 1.],\n",
      "        [1., 1.]])\n",
      "\n",
      "Tensor `v`:\n",
      "tensor([[1., 1.],\n",
      "        [1., 1.]])\n",
      "\n",
      "Is `u` == `v`?\n",
      "tensor([[True, True],\n",
      "        [True, True]])\n",
      "\n",
      "~ After mutating the tensor ~\n",
      "\n",
      "Tensor `u`:\n",
      "tensor([[ 1., 54.],\n",
      "        [ 1.,  1.]])\n",
      "\n",
      "Tensor `v`:\n",
      "tensor([[1., 1.],\n",
      "        [1., 1.]])\n",
      "\n",
      "Is `u` == `v`?\n",
      "tensor([[ True, False],\n",
      "        [ True,  True]])\n"
     ]
    }
   ],
   "source": [
    "u = torch.ones(2, 2)\n",
    "v = u.clone()   # Cloning tensor `u`\n",
    "print('~ Before mutating the tensor ~\\n')\n",
    "print(f'Tensor `u`:\\n{u}\\n')\n",
    "print(f'Tensor `v`:\\n{v}\\n')\n",
    "print(f'Is `u` == `v`?\\n{torch.eq(u, v)}\\n')\n",
    "\n",
    "# Mutating the original tensor\n",
    "u[0][1] = 54\n",
    "print(f'~ After mutating the tensor ~\\n')\n",
    "print(f'Tensor `u`:\\n{u}\\n')\n",
    "print(f'Tensor `v`:\\n{v}\\n')\n",
    "print(f'Is `u` == `v`?\\n{torch.eq(u, v)}')"
   ]
  },
  {
   "cell_type": "code",
   "execution_count": 19,
   "metadata": {},
   "outputs": [
    {
     "name": "stdout",
     "output_type": "stream",
     "text": [
      "Tensor `i`:\n",
      "tensor([[0.2696, 0.4414],\n",
      "        [0.2969, 0.8317]], requires_grad=True)\n",
      "\n",
      "Tensor `j`:\n",
      "tensor([[0.2696, 0.4414],\n",
      "        [0.2969, 0.8317]], grad_fn=<CloneBackward0>)\n",
      "\n",
      "Tensor `k`:\n",
      "tensor([[0.2696, 0.4414],\n",
      "        [0.2969, 0.8317]])\n"
     ]
    }
   ],
   "source": [
    "# Turn on autograd\n",
    "i = torch.rand(2, 2, requires_grad=True)\n",
    "print(f'Tensor `i`:\\n{i}\\n')\n",
    "\n",
    "# Clone the tensor `i` with autograd\n",
    "j = i.clone()\n",
    "print(f'Tensor `j`:\\n{j}\\n')\n",
    "\n",
    "# Clone the tensor `i` without autograd\n",
    "k = i.detach().clone()\n",
    "print(f'Tensor `k`:\\n{k}')"
   ]
  },
  {
   "cell_type": "code",
   "execution_count": 20,
   "metadata": {},
   "outputs": [
    {
     "name": "stdout",
     "output_type": "stream",
     "text": [
      "Current Device: cpu\n",
      "\n",
      "Tensor `z`:\n",
      "tensor([[0.1053, 0.2695],\n",
      "        [0.3588, 0.1994]])\n"
     ]
    }
   ],
   "source": [
    "# Check if GPU is available\n",
    "if torch.cuda.is_available():\n",
    "    curr_device = torch.device('cuda')\n",
    "else:\n",
    "    curr_device = torch.device('cpu')\n",
    "print(f'Current Device: {curr_device}\\n')\n",
    "\n",
    "# Creating a tensor on the current device\n",
    "z = torch.rand(2, 2, device=curr_device)\n",
    "print(f'Tensor `z`:\\n{z}')"
   ]
  },
  {
   "cell_type": "markdown",
   "metadata": {},
   "source": [
    "## Manipulating the Tensor Shapes\n",
    "\n",
    "The various ways to change tensor shapes are as follows:\n",
    "\n",
    "- unsqueeze - adds a 1-dim to the tensor.\n",
    "- squeeze - removes a 1-dim from the tensor.\n",
    "- reshape - reshapes the tensor to the desired shape.\n"
   ]
  },
  {
   "cell_type": "code",
   "execution_count": 21,
   "metadata": {},
   "outputs": [
    {
     "name": "stdout",
     "output_type": "stream",
     "text": [
      "Tensor `a` before unsqueezing:\n",
      "tensor([[[0.5472, 0.0062, 0.9516],\n",
      "         [0.0753, 0.8860, 0.5832],\n",
      "         [0.3376, 0.8090, 0.5779]],\n",
      "\n",
      "        [[0.9040, 0.5547, 0.3423],\n",
      "         [0.6343, 0.3644, 0.7104],\n",
      "         [0.9464, 0.7890, 0.2814]],\n",
      "\n",
      "        [[0.7886, 0.5895, 0.7539],\n",
      "         [0.1952, 0.0050, 0.3068],\n",
      "         [0.1165, 0.9103, 0.6440]]])\n",
      "torch.Size([3, 3, 3])\n",
      "\n",
      "Tensor `a` after unsqueezing:\n",
      "tensor([[[[0.5472, 0.0062, 0.9516],\n",
      "          [0.0753, 0.8860, 0.5832],\n",
      "          [0.3376, 0.8090, 0.5779]],\n",
      "\n",
      "         [[0.9040, 0.5547, 0.3423],\n",
      "          [0.6343, 0.3644, 0.7104],\n",
      "          [0.9464, 0.7890, 0.2814]],\n",
      "\n",
      "         [[0.7886, 0.5895, 0.7539],\n",
      "          [0.1952, 0.0050, 0.3068],\n",
      "          [0.1165, 0.9103, 0.6440]]]])]\n",
      "torch.Size([1, 3, 3, 3])\n"
     ]
    }
   ],
   "source": [
    "a = torch.rand(3, 3, 3)\n",
    "print(f'Tensor `a` before unsqueezing:\\n{a}\\n{a.shape}\\n')\n",
    "\n",
    "# Adding a new dimension\n",
    "a.unsqueeze_(0)\n",
    "print(f'Tensor `a` after unsqueezing:\\n{a}]\\n{a.shape}')"
   ]
  },
  {
   "cell_type": "code",
   "execution_count": 22,
   "metadata": {},
   "outputs": [
    {
     "name": "stdout",
     "output_type": "stream",
     "text": [
      "Tensor `b` before squeezing:\n",
      "tensor([[[[[0.7071]]]]])\n",
      "torch.Size([1, 1, 1, 1, 1])\n",
      "\n",
      "Tensor `b` after squeezing:\n",
      "tensor([[[[0.7071]]]])\n",
      "torch.Size([1, 1, 1, 1])\n"
     ]
    }
   ],
   "source": [
    "b = torch.rand(1, 1, 1, 1, 1)\n",
    "print(f'Tensor `b` before squeezing:\\n{b}\\n{b.shape}\\n')\n",
    "\n",
    "# Removing a dimension with size 1\n",
    "b.squeeze_(0)\n",
    "print(f'Tensor `b` after squeezing:\\n{b}\\n{b.shape}')"
   ]
  },
  {
   "cell_type": "code",
   "execution_count": 23,
   "metadata": {},
   "outputs": [
    {
     "name": "stdout",
     "output_type": "stream",
     "text": [
      "torch.Size([6, 20, 20]) is converted to torch.Size([2400])\n"
     ]
    }
   ],
   "source": [
    "# Create a three-dimensional tensor\n",
    "output3d = torch.rand(6, 20, 20)\n",
    "\n",
    "# Reshape the tensor to 1-dim\n",
    "input1d = output3d.reshape(6 * 20 * 20)\n",
    "\n",
    "print(f'{output3d.shape} is converted to {input1d.shape}')\n",
    "# Note: Any changes made to `output3d` will be reflected on `input1d`"
   ]
  },
  {
   "cell_type": "markdown",
   "metadata": {},
   "source": [
    "## Using NumPy with PyTorch Tensors\n",
    "\n",
    "NumPy operations work with PyTorch tensors effectively.\n"
   ]
  },
  {
   "cell_type": "code",
   "execution_count": 24,
   "metadata": {},
   "outputs": [
    {
     "data": {
      "text/plain": [
       "(array([[1., 1., 1.],\n",
       "        [1., 1., 1.]]),\n",
       " tensor([[1., 1., 1.],\n",
       "         [1., 1., 1.]], dtype=torch.float64))"
      ]
     },
     "execution_count": 24,
     "metadata": {},
     "output_type": "execute_result"
    }
   ],
   "source": [
    "# Define a NumPy array\n",
    "numpy_array = np.ones((2, 3))\n",
    "\n",
    "# Create a tensor from the array\n",
    "pytorch_tensor = torch.from_numpy(numpy_array)\n",
    "\n",
    "numpy_array, pytorch_tensor"
   ]
  },
  {
   "cell_type": "code",
   "execution_count": 25,
   "metadata": {},
   "outputs": [
    {
     "data": {
      "text/plain": [
       "(tensor([[0.8983, 0.8597, 0.7895],\n",
       "         [0.1101, 0.8894, 0.4522]]),\n",
       " array([[1., 1., 1.],\n",
       "        [1., 1., 1.]]))"
      ]
     },
     "execution_count": 25,
     "metadata": {},
     "output_type": "execute_result"
    }
   ],
   "source": [
    "# The reverse procedure is defined here\n",
    "pytorch_rand = torch.rand(2, 3)\n",
    "numpy_rand = pytorch_rand.numpy()\n",
    "\n",
    "pytorch_rand, numpy_array"
   ]
  },
  {
   "cell_type": "code",
   "execution_count": null,
   "metadata": {},
   "outputs": [],
   "source": []
  }
 ],
 "metadata": {
  "kernelspec": {
   "display_name": "base",
   "language": "python",
   "name": "python3"
  },
  "language_info": {
   "codemirror_mode": {
    "name": "ipython",
    "version": 3
   },
   "file_extension": ".py",
   "mimetype": "text/x-python",
   "name": "python",
   "nbconvert_exporter": "python",
   "pygments_lexer": "ipython3",
   "version": "3.10.13"
  }
 },
 "nbformat": 4,
 "nbformat_minor": 2
}
