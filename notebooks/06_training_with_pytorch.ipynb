{
 "cells": [
  {
   "cell_type": "markdown",
   "metadata": {},
   "source": [
    "# Training with PyTorch\n",
    "\n",
    "This notebook is referenced from the sixth video in the [PyTorch Beginner Series](https://www.youtube.com/playlist?list=PL_lsbAsL_o2CTlGHgMxNrKhzP97BaG9ZN) by Brad Heintz on YouTube. The video focuses on the basic concepts in PyTorch that are used to handle several deep learning tasks and demonstrates how these concepts come together to make PyTorch a robust machine learning framework. You can find the notebook associated with the video [here](https://pytorch.org/tutorials/beginner/introyt/trainingyt.html).\n"
   ]
  },
  {
   "cell_type": "code",
   "execution_count": 1,
   "metadata": {},
   "outputs": [],
   "source": [
    "# Import libraries here\n",
    "import matplotlib.pyplot as plt\n",
    "import torch\n",
    "import torch.nn as nn\n",
    "import torch.nn.functional as F\n",
    "import torch.optim as optim\n",
    "import torchvision\n",
    "import torchvision.transforms as transforms\n",
    "from sklearn.metrics import accuracy_score\n",
    "from torch import Tensor\n",
    "from torch.utils.data import DataLoader\n",
    "\n",
    "from scripts import plot_utils"
   ]
  },
  {
   "cell_type": "markdown",
   "metadata": {},
   "source": [
    "## Get the Dataset\n",
    "\n",
    "The following tasks are to be performed:\n",
    "\n",
    "- Download the Fashion MNIST dataset.\n",
    "- Setup the data transformers.\n",
    "- Setup the data loaders.\n"
   ]
  },
  {
   "cell_type": "code",
   "execution_count": 2,
   "metadata": {},
   "outputs": [
    {
     "name": "stdout",
     "output_type": "stream",
     "text": [
      "Training set has 60000 instances.\n",
      "Validation set has 10000 instances.\n"
     ]
    }
   ],
   "source": [
    "# Setup the data transformer\n",
    "transform = transforms.Compose(\n",
    "    [\n",
    "        transforms.ToTensor(),\n",
    "        transforms.Normalize((0.5,), (0.5,)),\n",
    "    ]\n",
    ")\n",
    "\n",
    "# Get training and validation datasets\n",
    "train_set = torchvision.datasets.FashionMNIST(\n",
    "    '../data', train=True, transform=transform, download=True,\n",
    ")\n",
    "valid_set = torchvision.datasets.FashionMNIST(\n",
    "    '../data', train=False, transform=transform, download=True,\n",
    ")\n",
    "\n",
    "print(f'Training set has {len(train_set)} instances.')\n",
    "print(f'Validation set has {len(valid_set)} instances.')"
   ]
  },
  {
   "cell_type": "code",
   "execution_count": 3,
   "metadata": {},
   "outputs": [
    {
     "data": {
      "text/plain": [
       "['T-shirt/top',\n",
       " 'Trouser',\n",
       " 'Pullover',\n",
       " 'Dress',\n",
       " 'Coat',\n",
       " 'Sandal',\n",
       " 'Shirt',\n",
       " 'Sneaker',\n",
       " 'Bag',\n",
       " 'Ankle boot']"
      ]
     },
     "execution_count": 3,
     "metadata": {},
     "output_type": "execute_result"
    }
   ],
   "source": [
    "# Get the training classes\n",
    "classes = train_set.classes\n",
    "classes"
   ]
  },
  {
   "cell_type": "code",
   "execution_count": 4,
   "metadata": {},
   "outputs": [
    {
     "data": {
      "text/plain": [
       "(<torch.utils.data.dataloader.DataLoader at 0x30bc3ceb0>,\n",
       " <torch.utils.data.dataloader.DataLoader at 0x30bc3d120>)"
      ]
     },
     "execution_count": 4,
     "metadata": {},
     "output_type": "execute_result"
    }
   ],
   "source": [
    "# Create the data loaders\n",
    "train_loader = DataLoader(train_set, batch_size=4, shuffle=True)\n",
    "valid_loader = DataLoader(valid_set, batch_size=4, shuffle=True)\n",
    "\n",
    "train_loader, valid_loader"
   ]
  },
  {
   "cell_type": "markdown",
   "metadata": {},
   "source": [
    "## Visualize the Data\n",
    "\n",
    "This step involves exploring the data by visualizing the images with their classifications.\n"
   ]
  },
  {
   "cell_type": "code",
   "execution_count": 5,
   "metadata": {},
   "outputs": [
    {
     "data": {
      "image/png": "[encoded data removed]",
      "text/plain": [
       "<Figure size 800x800 with 4 Axes>"
      ]
     },
     "metadata": {},
     "output_type": "display_data"
    }
   ],
   "source": [
    "# Plot some images from the training set\n",
    "dataiter = iter(train_loader)\n",
    "images, labels = next(dataiter)\n",
    "\n",
    "plt.figure(figsize=(8, 8))\n",
    "for idx, (image, label) in enumerate(zip(images, labels)):\n",
    "    plt.subplot(2, 2, idx + 1)\n",
    "    plot_utils.plot_image(image, is_norm=True,\n",
    "                          label=classes[label],\n",
    "                          mean=(0.5,), std=(0.5,),\n",
    "                          is_one_channel=True)\n",
    "plt.show()"
   ]
  },
  {
   "cell_type": "markdown",
   "metadata": {},
   "source": [
    "## Build the Model\n",
    "\n",
    "The tasks that are needed to be performed in this step are as follows:\n",
    "\n",
    "- Setup the model architecture.\n",
    "- Setup the loss function.\n",
    "- Setup the optimizer.\n",
    "- Create a training loop.\n",
    "- Evaluate the performance.\n",
    "- Save the model.\n"
   ]
  },
  {
   "cell_type": "code",
   "execution_count": 6,
   "metadata": {},
   "outputs": [],
   "source": [
    "class FashionClassifier(nn.Module):\n",
    "    \"\"\"Multi-class classifer for the Fashion MNIST dataset.\"\"\"\n",
    "\n",
    "    def __init__(self, *args, **kwargs) -> None:\n",
    "        super().__init__(*args, **kwargs)\n",
    "        self.conv1 = nn.Conv2d(1, 6, 5)\n",
    "        self.pool = nn.MaxPool2d(2, 2)\n",
    "        self.conv2 = nn.Conv2d(6, 16, 5)\n",
    "        self.fc1 = nn.Linear(16 * 4 * 4, 120)\n",
    "        self.fc2 = nn.Linear(120, 84)\n",
    "        self.fc3 = nn.Linear(84, 10)\n",
    "\n",
    "    def forward(self, x: Tensor) -> Tensor:\n",
    "        x = self.pool(F.relu(self.conv1(x)))\n",
    "        x = self.pool(F.relu(self.conv2(x)))\n",
    "        x = x.view(-1, 16 * 4 * 4)\n",
    "        x = F.relu(self.fc1(x))\n",
    "        x = F.relu(self.fc2(x))\n",
    "        x = F.softmax(self.fc3(x), dim=1)\n",
    "\n",
    "        return x"
   ]
  },
  {
   "cell_type": "code",
   "execution_count": 7,
   "metadata": {},
   "outputs": [
    {
     "name": "stdout",
     "output_type": "stream",
     "text": [
      "The Model Architecture:\n",
      "FashionClassifier(\n",
      "  (conv1): Conv2d(1, 6, kernel_size=(5, 5), stride=(1, 1))\n",
      "  (pool): MaxPool2d(kernel_size=2, stride=2, padding=0, dilation=1, ceil_mode=False)\n",
      "  (conv2): Conv2d(6, 16, kernel_size=(5, 5), stride=(1, 1))\n",
      "  (fc1): Linear(in_features=256, out_features=120, bias=True)\n",
      "  (fc2): Linear(in_features=120, out_features=84, bias=True)\n",
      "  (fc3): Linear(in_features=84, out_features=10, bias=True)\n",
      ")\n",
      "\n",
      "Loss Function: CrossEntropyLoss()\n",
      "\n",
      "Optimizer: Adam (\n",
      "Parameter Group 0\n",
      "    amsgrad: False\n",
      "    betas: (0.9, 0.999)\n",
      "    capturable: False\n",
      "    differentiable: False\n",
      "    eps: 1e-08\n",
      "    foreach: None\n",
      "    fused: None\n",
      "    lr: 0.001\n",
      "    maximize: False\n",
      "    weight_decay: 0\n",
      ")\n"
     ]
    }
   ],
   "source": [
    "# Initialize the model\n",
    "fashion_clf = FashionClassifier()\n",
    "print(f'The Model Architecture:\\n{fashion_clf}')\n",
    "\n",
    "# Select a loss function\n",
    "loss_fn = nn.CrossEntropyLoss()\n",
    "print(f'\\nLoss Function: {loss_fn}')\n",
    "\n",
    "# Select an optimizer\n",
    "optimizer = optim.Adam(fashion_clf.parameters(), lr=0.001)\n",
    "print(f'\\nOptimizer: {optimizer}')"
   ]
  },
  {
   "cell_type": "code",
   "execution_count": 8,
   "metadata": {},
   "outputs": [],
   "source": [
    "def train_model(\n",
    "    model: nn.Module,\n",
    "    train_loader: DataLoader,\n",
    "    loss_fn: nn.Module,\n",
    "    optimizer: optim.Optimizer\n",
    ") -> tuple[Tensor, Tensor]:\n",
    "    running_loss = 0.   # stores the loss of the current non-reported batch\n",
    "    last_loss = 0.      # stores the average loss of the last reported batch\n",
    "\n",
    "    # Track predictions for evaluation\n",
    "    eval_data = dict(targets=[], preds=[])\n",
    "\n",
    "    for i, data in enumerate(train_loader):\n",
    "        # Extract inputs and labels from the data\n",
    "        inputs, labels = data\n",
    "\n",
    "        # Zero the optimizer gradients\n",
    "        optimizer.zero_grad()\n",
    "\n",
    "        # Make predictions on the batch data\n",
    "        outputs = model(inputs)\n",
    "\n",
    "        # Compute the loss and its gradients\n",
    "        loss = loss_fn(outputs, labels)\n",
    "        loss.backward()\n",
    "\n",
    "        # Adjust learning weights\n",
    "        optimizer.step()\n",
    "\n",
    "        # Add evaluation data\n",
    "        eval_data['targets'].extend(labels)\n",
    "        eval_data['preds'].extend(outputs.argmax(dim=1))\n",
    "\n",
    "        # Report the loss\n",
    "        running_loss += loss.item()\n",
    "        if i % 1000 == 999:\n",
    "            last_loss = running_loss / 1000\n",
    "            print(f'    Batch {i + 1:5d} - Loss: {last_loss:.5f}')\n",
    "            running_loss = 0.\n",
    "\n",
    "    # Compute training accuracy\n",
    "    accuracy = accuracy_score(y_true=eval_data['targets'],\n",
    "                              y_pred=eval_data['preds'])\n",
    "\n",
    "    return last_loss, accuracy"
   ]
  },
  {
   "cell_type": "code",
   "execution_count": 9,
   "metadata": {},
   "outputs": [
    {
     "name": "stdout",
     "output_type": "stream",
     "text": [
      "EPOCH 1:\n",
      "    Batch  1000 - Loss: 1.95284\n",
      "    Batch  2000 - Loss: 1.86563\n",
      "    Batch  3000 - Loss: 1.81629\n",
      "    Batch  4000 - Loss: 1.79252\n",
      "    Batch  5000 - Loss: 1.78422\n",
      "    Batch  6000 - Loss: 1.77708\n",
      "    Batch  7000 - Loss: 1.77478\n",
      "    Batch  8000 - Loss: 1.76244\n",
      "    Batch  9000 - Loss: 1.76018\n",
      "    Batch 10000 - Loss: 1.75466\n",
      "    Batch 11000 - Loss: 1.77003\n",
      "    Batch 12000 - Loss: 1.72658\n",
      "    Batch 13000 - Loss: 1.66014\n",
      "    Batch 14000 - Loss: 1.65208\n",
      "    Batch 15000 - Loss: 1.65525\n",
      "loss     : 1.65525, val_loss     : 1.68707\n",
      "accuracy : 0.69285, val_accuracy : 0.773300\n",
      "\n",
      "EPOCH 2:\n",
      "    Batch  1000 - Loss: 1.65126\n",
      "    Batch  2000 - Loss: 1.65303\n",
      "    Batch  3000 - Loss: 1.65250\n",
      "    Batch  4000 - Loss: 1.63814\n",
      "    Batch  5000 - Loss: 1.65739\n",
      "    Batch  6000 - Loss: 1.69947\n",
      "    Batch  7000 - Loss: 1.65402\n",
      "    Batch  8000 - Loss: 1.64366\n",
      "    Batch  9000 - Loss: 1.65974\n",
      "    Batch 10000 - Loss: 1.64279\n",
      "    Batch 11000 - Loss: 1.62101\n",
      "    Batch 12000 - Loss: 1.64253\n",
      "    Batch 13000 - Loss: 1.63785\n",
      "    Batch 14000 - Loss: 1.64204\n",
      "    Batch 15000 - Loss: 1.65646\n",
      "loss     : 1.65646, val_loss     : 1.69425\n",
      "accuracy : 0.81042, val_accuracy : 0.767500\n",
      "\n",
      "EPOCH 3:\n",
      "    Batch  1000 - Loss: 1.63678\n",
      "    Batch  2000 - Loss: 1.63376\n",
      "    Batch  3000 - Loss: 1.64366\n",
      "    Batch  4000 - Loss: 1.62963\n",
      "    Batch  5000 - Loss: 1.63752\n",
      "    Batch  6000 - Loss: 1.62626\n",
      "    Batch  7000 - Loss: 1.64882\n",
      "    Batch  8000 - Loss: 1.65291\n",
      "    Batch  9000 - Loss: 1.63693\n",
      "    Batch 10000 - Loss: 1.65597\n",
      "    Batch 11000 - Loss: 1.64328\n",
      "    Batch 12000 - Loss: 1.64110\n",
      "    Batch 13000 - Loss: 1.65987\n",
      "    Batch 14000 - Loss: 1.64250\n",
      "    Batch 15000 - Loss: 1.65451\n",
      "loss     : 1.65451, val_loss     : 1.64821\n",
      "accuracy : 0.81778, val_accuracy : 0.812500\n",
      "\n",
      "EPOCH 4:\n",
      "    Batch  1000 - Loss: 1.63844\n",
      "    Batch  2000 - Loss: 1.63685\n",
      "    Batch  3000 - Loss: 1.64521\n",
      "    Batch  4000 - Loss: 1.65247\n",
      "    Batch  5000 - Loss: 1.63232\n",
      "    Batch  6000 - Loss: 1.64992\n",
      "    Batch  7000 - Loss: 1.65158\n",
      "    Batch  8000 - Loss: 1.64289\n",
      "    Batch  9000 - Loss: 1.63566\n",
      "    Batch 10000 - Loss: 1.63049\n",
      "    Batch 11000 - Loss: 1.65959\n",
      "    Batch 12000 - Loss: 1.62329\n",
      "    Batch 13000 - Loss: 1.66224\n",
      "    Batch 14000 - Loss: 1.63390\n",
      "    Batch 15000 - Loss: 1.63551\n",
      "loss     : 1.63551, val_loss     : 1.64500\n",
      "accuracy : 0.81877, val_accuracy : 0.815700\n",
      "\n",
      "EPOCH 5:\n",
      "    Batch  1000 - Loss: 1.61495\n",
      "    Batch  2000 - Loss: 1.65497\n",
      "    Batch  3000 - Loss: 1.65691\n",
      "    Batch  4000 - Loss: 1.65479\n",
      "    Batch  5000 - Loss: 1.65318\n",
      "    Batch  6000 - Loss: 1.65021\n",
      "    Batch  7000 - Loss: 1.64384\n",
      "    Batch  8000 - Loss: 1.64837\n",
      "    Batch  9000 - Loss: 1.67048\n",
      "    Batch 10000 - Loss: 1.65658\n",
      "    Batch 11000 - Loss: 1.64221\n",
      "    Batch 12000 - Loss: 1.65359\n",
      "    Batch 13000 - Loss: 1.63645\n",
      "    Batch 14000 - Loss: 1.65685\n",
      "    Batch 15000 - Loss: 1.64587\n",
      "loss     : 1.64587, val_loss     : 1.71015\n",
      "accuracy : 0.81162, val_accuracy : 0.750600\n",
      "\n"
     ]
    }
   ],
   "source": [
    "# Setup constants\n",
    "N_EPOCHS = 5\n",
    "\n",
    "# Track the best validation loss\n",
    "best_vloss = 1_000_000.\n",
    "\n",
    "# Track the best model state\n",
    "best_model = fashion_clf.state_dict()\n",
    "\n",
    "# Train for N_EPOCHS epochs\n",
    "for epoch in range(N_EPOCHS):\n",
    "    print(f'EPOCH {epoch + 1}:')\n",
    "\n",
    "    # Ensure that gradient tracking is on\n",
    "    fashion_clf.train()\n",
    "\n",
    "    # Pass over the data once and train the model\n",
    "    avg_loss, accuracy = train_model(\n",
    "        model=fashion_clf,\n",
    "        train_loader=train_loader,\n",
    "        loss_fn=loss_fn,\n",
    "        optimizer=optimizer,\n",
    "    )\n",
    "\n",
    "    # Track the current validation loss\n",
    "    running_vloss = 0.\n",
    "\n",
    "    # Set the model to evaluation mode, disabling dropout\n",
    "    # and population statistics for batch normalization\n",
    "    fashion_clf.eval()\n",
    "\n",
    "    # Track evaluation data for computing validation accuracy\n",
    "    veval_data = dict(targets=[], preds=[])\n",
    "\n",
    "    # Disable gradient computation and compute validation statistics\n",
    "    with torch.no_grad():\n",
    "        for i, vdata in enumerate(valid_loader):\n",
    "            vinputs, vlabels = vdata\n",
    "            voutputs = fashion_clf(vinputs)\n",
    "\n",
    "            # Compute the validation loss\n",
    "            vloss = loss_fn(voutputs, vlabels)\n",
    "            running_vloss += vloss\n",
    "\n",
    "            # Add the evaluation data\n",
    "            veval_data['targets'].extend(vlabels)\n",
    "            veval_data['preds'].extend(voutputs.argmax(dim=1))\n",
    "\n",
    "        # Compute the average validation loss and validation accuracy\n",
    "        avg_vloss = running_vloss / (i + 1)\n",
    "        vaccuracy = accuracy_score(y_true=veval_data['targets'],\n",
    "                                   y_pred=veval_data['preds'])\n",
    "        print(f'loss     : {avg_loss:.5f}, val_loss     : {avg_vloss:.5f}')\n",
    "        print(f'accuracy : {accuracy:.5f}, val_accuracy : {vaccuracy:5f}\\n')\n",
    "\n",
    "    # Track best performance and best model state\n",
    "    if avg_loss < best_vloss:\n",
    "        best_vloss = avg_loss\n",
    "        best_model = fashion_clf.state_dict()"
   ]
  },
  {
   "cell_type": "code",
   "execution_count": 10,
   "metadata": {},
   "outputs": [
    {
     "name": "stdout",
     "output_type": "stream",
     "text": [
      "Best validation loss: 1.63551\n"
     ]
    }
   ],
   "source": [
    "# Print the best validation loss\n",
    "print(f'Best validation loss: {best_vloss:.5f}')"
   ]
  },
  {
   "cell_type": "code",
   "execution_count": 11,
   "metadata": {},
   "outputs": [],
   "source": [
    "# Save the best model for future use\n",
    "torch.save(best_model, '../models/06_fashion_clf.pt')"
   ]
  },
  {
   "cell_type": "code",
   "execution_count": null,
   "metadata": {},
   "outputs": [],
   "source": []
  }
 ],
 "metadata": {
  "kernelspec": {
   "display_name": "base",
   "language": "python",
   "name": "python3"
  },
  "language_info": {
   "codemirror_mode": {
    "name": "ipython",
    "version": 3
   },
   "file_extension": ".py",
   "mimetype": "text/x-python",
   "name": "python",
   "nbconvert_exporter": "python",
   "pygments_lexer": "ipython3",
   "version": "3.10.13"
  }
 },
 "nbformat": 4,
 "nbformat_minor": 2
}
